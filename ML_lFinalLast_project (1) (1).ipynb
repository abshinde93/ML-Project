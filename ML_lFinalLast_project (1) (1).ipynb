{
  "nbformat": 4,
  "nbformat_minor": 0,
  "metadata": {
    "colab": {
      "name": "ML_lFinalLast_project.ipynb",
      "provenance": [],
      "collapsed_sections": []
    },
    "kernelspec": {
      "name": "python3",
      "display_name": "Python 3"
    },
    "language_info": {
      "name": "python"
    }
  },
  "cells": [
    {
      "cell_type": "markdown",
      "metadata": {
        "id": "1gfIRl-QwSQz"
      },
      "source": [
        "**Insurance Claim Status Prediction**\n",
        "\n",
        "Insurance companies take risks over customers. Risk management is a very important aspect of the insurance industry. Insurers consider every quantifiable factor to develop profiles of high and low insurance risks. Insurers collect vast amounts of information about policyholders and analyse the data. As a Data scientist in an insurance company, you need to analyse the available data and predict whether to approve the insurance or not."
      ]
    },
    {
      "cell_type": "markdown",
      "metadata": {
        "id": "x8YACJkyuWFe"
      },
      "source": [
        "**Prepaird By**\n",
        "\n",
        "**Humera**\n",
        "\n",
        "**Nitish**\n",
        "\n",
        "**Akshay**\n",
        "\n",
        "**Abhijeet** "
      ]
    },
    {
      "cell_type": "markdown",
      "metadata": {
        "id": "AtIqGuzawzM5"
      },
      "source": [
        "**Importing Library**"
      ]
    },
    {
      "cell_type": "code",
      "metadata": {
        "id": "YSkmiBdTwZ5-"
      },
      "source": [
        "import numpy as np \n",
        "import pandas as pd \n",
        "import matplotlib.pyplot as plt \n",
        "import seaborn as sns \n",
        "from scipy.stats import skew \n",
        "from sklearn.preprocessing import StandardScaler\n",
        "from sklearn.preprocessing import MinMaxScaler\n",
        "from sklearn.model_selection import train_test_split\n",
        "from sklearn.model_selection import cross_val_score\n",
        "from sklearn.metrics import classification_report,confusion_matrix\n",
        "from sklearn.metrics import roc_auc_score ,roc_curve\n",
        "from sklearn.feature_selection import chi2\n",
        "from sklearn.feature_selection import f_classif\n",
        "from sklearn.feature_selection import SelectKBest\n",
        "from sklearn.ensemble import VotingClassifier\n",
        "from sklearn.linear_model import LogisticRegression\n",
        "from sklearn.tree import DecisionTreeClassifier\n",
        "from sklearn.ensemble import RandomForestClassifier\n",
        "from sklearn.ensemble import GradientBoostingClassifier\n",
        "from sklearn.ensemble import AdaBoostClassifier\n",
        "from sklearn.svm import SVC\n",
        "from sklearn.svm import LinearSVC\n",
        "import warnings\n",
        "warnings.filterwarnings(\"ignore\")\n"
      ],
      "execution_count": null,
      "outputs": []
    },
    {
      "cell_type": "code",
      "metadata": {
        "id": "SylJNcB-nwfF"
      },
      "source": [
        "df=pd.read_csv(\"/content/data.csv\")"
      ],
      "execution_count": null,
      "outputs": []
    },
    {
      "cell_type": "code",
      "metadata": {
        "colab": {
          "base_uri": "https://localhost:8080/",
          "height": 408
        },
        "id": "p_antxSLxgQb",
        "outputId": "65c5cafb-850f-4dd1-dfe2-69200416e974"
      },
      "source": [
        "df.head()"
      ],
      "execution_count": null,
      "outputs": [
        {
          "output_type": "execute_result",
          "data": {
            "text/html": [
              "<div>\n",
              "<style scoped>\n",
              "    .dataframe tbody tr th:only-of-type {\n",
              "        vertical-align: middle;\n",
              "    }\n",
              "\n",
              "    .dataframe tbody tr th {\n",
              "        vertical-align: top;\n",
              "    }\n",
              "\n",
              "    .dataframe thead th {\n",
              "        text-align: right;\n",
              "    }\n",
              "</style>\n",
              "<table border=\"1\" class=\"dataframe\">\n",
              "  <thead>\n",
              "    <tr style=\"text-align: right;\">\n",
              "      <th></th>\n",
              "      <th>ID</th>\n",
              "      <th>Agency</th>\n",
              "      <th>Agency Type</th>\n",
              "      <th>Distribution Channel</th>\n",
              "      <th>Product Name</th>\n",
              "      <th>Claim</th>\n",
              "      <th>Duration</th>\n",
              "      <th>Destination</th>\n",
              "      <th>Net Sales</th>\n",
              "      <th>Commision (in value)</th>\n",
              "      <th>Gender</th>\n",
              "      <th>Age</th>\n",
              "    </tr>\n",
              "  </thead>\n",
              "  <tbody>\n",
              "    <tr>\n",
              "      <th>0</th>\n",
              "      <td>3433</td>\n",
              "      <td>CWT</td>\n",
              "      <td>Travel Agency</td>\n",
              "      <td>Online</td>\n",
              "      <td>Rental Vehicle Excess Insurance</td>\n",
              "      <td>0</td>\n",
              "      <td>7</td>\n",
              "      <td>MALAYSIA</td>\n",
              "      <td>0.0</td>\n",
              "      <td>17.82</td>\n",
              "      <td>NaN</td>\n",
              "      <td>31</td>\n",
              "    </tr>\n",
              "    <tr>\n",
              "      <th>1</th>\n",
              "      <td>4339</td>\n",
              "      <td>EPX</td>\n",
              "      <td>Travel Agency</td>\n",
              "      <td>Online</td>\n",
              "      <td>Cancellation Plan</td>\n",
              "      <td>0</td>\n",
              "      <td>85</td>\n",
              "      <td>SINGAPORE</td>\n",
              "      <td>69.0</td>\n",
              "      <td>0.00</td>\n",
              "      <td>NaN</td>\n",
              "      <td>36</td>\n",
              "    </tr>\n",
              "    <tr>\n",
              "      <th>2</th>\n",
              "      <td>34590</td>\n",
              "      <td>CWT</td>\n",
              "      <td>Travel Agency</td>\n",
              "      <td>Online</td>\n",
              "      <td>Rental Vehicle Excess Insurance</td>\n",
              "      <td>0</td>\n",
              "      <td>11</td>\n",
              "      <td>MALAYSIA</td>\n",
              "      <td>19.8</td>\n",
              "      <td>11.88</td>\n",
              "      <td>NaN</td>\n",
              "      <td>75</td>\n",
              "    </tr>\n",
              "    <tr>\n",
              "      <th>3</th>\n",
              "      <td>55816</td>\n",
              "      <td>EPX</td>\n",
              "      <td>Travel Agency</td>\n",
              "      <td>Online</td>\n",
              "      <td>2 way Comprehensive Plan</td>\n",
              "      <td>0</td>\n",
              "      <td>16</td>\n",
              "      <td>INDONESIA</td>\n",
              "      <td>20.0</td>\n",
              "      <td>0.00</td>\n",
              "      <td>NaN</td>\n",
              "      <td>32</td>\n",
              "    </tr>\n",
              "    <tr>\n",
              "      <th>4</th>\n",
              "      <td>13816</td>\n",
              "      <td>EPX</td>\n",
              "      <td>Travel Agency</td>\n",
              "      <td>Online</td>\n",
              "      <td>Cancellation Plan</td>\n",
              "      <td>0</td>\n",
              "      <td>10</td>\n",
              "      <td>KOREA, REPUBLIC OF</td>\n",
              "      <td>15.0</td>\n",
              "      <td>0.00</td>\n",
              "      <td>NaN</td>\n",
              "      <td>29</td>\n",
              "    </tr>\n",
              "  </tbody>\n",
              "</table>\n",
              "</div>"
            ],
            "text/plain": [
              "      ID Agency    Agency Type  ... Commision (in value) Gender  Age\n",
              "0   3433    CWT  Travel Agency  ...                17.82    NaN   31\n",
              "1   4339    EPX  Travel Agency  ...                 0.00    NaN   36\n",
              "2  34590    CWT  Travel Agency  ...                11.88    NaN   75\n",
              "3  55816    EPX  Travel Agency  ...                 0.00    NaN   32\n",
              "4  13816    EPX  Travel Agency  ...                 0.00    NaN   29\n",
              "\n",
              "[5 rows x 12 columns]"
            ]
          },
          "metadata": {
            "tags": []
          },
          "execution_count": 164
        }
      ]
    },
    {
      "cell_type": "code",
      "metadata": {
        "colab": {
          "base_uri": "https://localhost:8080/"
        },
        "id": "_4jS-HqVxi00",
        "outputId": "b32f74d4-b52b-45f5-eb1d-585fa1cdbe85"
      },
      "source": [
        "df.shape"
      ],
      "execution_count": null,
      "outputs": [
        {
          "output_type": "execute_result",
          "data": {
            "text/plain": [
              "(50553, 12)"
            ]
          },
          "metadata": {
            "tags": []
          },
          "execution_count": 165
        }
      ]
    },
    {
      "cell_type": "markdown",
      "metadata": {
        "id": "LErHQD7QxElL"
      },
      "source": [
        "**EDA**"
      ]
    },
    {
      "cell_type": "code",
      "metadata": {
        "colab": {
          "base_uri": "https://localhost:8080/"
        },
        "id": "typcQk3zxlW7",
        "outputId": "b8b5b4a4-ec15-4a44-875f-be8e4492bd59"
      },
      "source": [
        "# Checking the weightage of null values.\n",
        "(df['Gender'].isnull().sum()/df.shape[0]*100).round(2)"
      ],
      "execution_count": null,
      "outputs": [
        {
          "output_type": "execute_result",
          "data": {
            "text/plain": [
              "71.12"
            ]
          },
          "metadata": {
            "tags": []
          },
          "execution_count": 166
        }
      ]
    },
    {
      "cell_type": "markdown",
      "metadata": {
        "id": "cmUpoiPCxrb8"
      },
      "source": [
        "**we can see 71% of the data does not have Gender updated.  there are no other features that will help us find out whether the individual is male or female. Thus we will drop this feature**\n",
        "\n",
        "**We can see from data ID column is not usefull data.hnce we will drop ID column**"
      ]
    },
    {
      "cell_type": "code",
      "metadata": {
        "id": "JwXfvbz9xlYB"
      },
      "source": [
        "df.drop([\"Gender\"],axis=1,inplace=True)"
      ],
      "execution_count": null,
      "outputs": []
    },
    {
      "cell_type": "code",
      "metadata": {
        "id": "mie5kjuVx0EK"
      },
      "source": [
        "df.drop([\"ID\"],axis=1,inplace=True)"
      ],
      "execution_count": null,
      "outputs": []
    },
    {
      "cell_type": "code",
      "metadata": {
        "colab": {
          "base_uri": "https://localhost:8080/",
          "height": 288
        },
        "id": "nkmSwjKAyd7T",
        "outputId": "65c814b8-f02d-4129-ee03-f7c40c20016f"
      },
      "source": [
        "df.describe()"
      ],
      "execution_count": null,
      "outputs": [
        {
          "output_type": "execute_result",
          "data": {
            "text/html": [
              "<div>\n",
              "<style scoped>\n",
              "    .dataframe tbody tr th:only-of-type {\n",
              "        vertical-align: middle;\n",
              "    }\n",
              "\n",
              "    .dataframe tbody tr th {\n",
              "        vertical-align: top;\n",
              "    }\n",
              "\n",
              "    .dataframe thead th {\n",
              "        text-align: right;\n",
              "    }\n",
              "</style>\n",
              "<table border=\"1\" class=\"dataframe\">\n",
              "  <thead>\n",
              "    <tr style=\"text-align: right;\">\n",
              "      <th></th>\n",
              "      <th>Claim</th>\n",
              "      <th>Duration</th>\n",
              "      <th>Net Sales</th>\n",
              "      <th>Commision (in value)</th>\n",
              "      <th>Age</th>\n",
              "    </tr>\n",
              "  </thead>\n",
              "  <tbody>\n",
              "    <tr>\n",
              "      <th>count</th>\n",
              "      <td>50553.000000</td>\n",
              "      <td>50553.000000</td>\n",
              "      <td>50553.000000</td>\n",
              "      <td>50553.00000</td>\n",
              "      <td>50553.000000</td>\n",
              "    </tr>\n",
              "    <tr>\n",
              "      <th>mean</th>\n",
              "      <td>0.014658</td>\n",
              "      <td>49.425969</td>\n",
              "      <td>40.800977</td>\n",
              "      <td>9.83809</td>\n",
              "      <td>40.011236</td>\n",
              "    </tr>\n",
              "    <tr>\n",
              "      <th>std</th>\n",
              "      <td>0.120180</td>\n",
              "      <td>101.434647</td>\n",
              "      <td>48.899683</td>\n",
              "      <td>19.91004</td>\n",
              "      <td>14.076566</td>\n",
              "    </tr>\n",
              "    <tr>\n",
              "      <th>min</th>\n",
              "      <td>0.000000</td>\n",
              "      <td>-2.000000</td>\n",
              "      <td>-389.000000</td>\n",
              "      <td>0.00000</td>\n",
              "      <td>0.000000</td>\n",
              "    </tr>\n",
              "    <tr>\n",
              "      <th>25%</th>\n",
              "      <td>0.000000</td>\n",
              "      <td>9.000000</td>\n",
              "      <td>18.000000</td>\n",
              "      <td>0.00000</td>\n",
              "      <td>35.000000</td>\n",
              "    </tr>\n",
              "    <tr>\n",
              "      <th>50%</th>\n",
              "      <td>0.000000</td>\n",
              "      <td>22.000000</td>\n",
              "      <td>26.500000</td>\n",
              "      <td>0.00000</td>\n",
              "      <td>36.000000</td>\n",
              "    </tr>\n",
              "    <tr>\n",
              "      <th>75%</th>\n",
              "      <td>0.000000</td>\n",
              "      <td>53.000000</td>\n",
              "      <td>48.000000</td>\n",
              "      <td>11.55000</td>\n",
              "      <td>44.000000</td>\n",
              "    </tr>\n",
              "    <tr>\n",
              "      <th>max</th>\n",
              "      <td>1.000000</td>\n",
              "      <td>4881.000000</td>\n",
              "      <td>810.000000</td>\n",
              "      <td>283.50000</td>\n",
              "      <td>118.000000</td>\n",
              "    </tr>\n",
              "  </tbody>\n",
              "</table>\n",
              "</div>"
            ],
            "text/plain": [
              "              Claim      Duration  ...  Commision (in value)           Age\n",
              "count  50553.000000  50553.000000  ...           50553.00000  50553.000000\n",
              "mean       0.014658     49.425969  ...               9.83809     40.011236\n",
              "std        0.120180    101.434647  ...              19.91004     14.076566\n",
              "min        0.000000     -2.000000  ...               0.00000      0.000000\n",
              "25%        0.000000      9.000000  ...               0.00000     35.000000\n",
              "50%        0.000000     22.000000  ...               0.00000     36.000000\n",
              "75%        0.000000     53.000000  ...              11.55000     44.000000\n",
              "max        1.000000   4881.000000  ...             283.50000    118.000000\n",
              "\n",
              "[8 rows x 5 columns]"
            ]
          },
          "metadata": {
            "tags": []
          },
          "execution_count": 169
        }
      ]
    },
    {
      "cell_type": "markdown",
      "metadata": {
        "id": "W5S5AUBpyjeM"
      },
      "source": [
        "**Duration is negative so checking destination for rplace negative value**"
      ]
    },
    {
      "cell_type": "code",
      "metadata": {
        "colab": {
          "base_uri": "https://localhost:8080/",
          "height": 207
        },
        "id": "Lp0AqZkepuIX",
        "outputId": "b3b85df9-c430-4a8f-dcf0-800548cc341c"
      },
      "source": [
        "df[(df[\"Duration\"]<0) & (df[\"Destination\"])]"
      ],
      "execution_count": null,
      "outputs": [
        {
          "output_type": "execute_result",
          "data": {
            "text/html": [
              "<div>\n",
              "<style scoped>\n",
              "    .dataframe tbody tr th:only-of-type {\n",
              "        vertical-align: middle;\n",
              "    }\n",
              "\n",
              "    .dataframe tbody tr th {\n",
              "        vertical-align: top;\n",
              "    }\n",
              "\n",
              "    .dataframe thead th {\n",
              "        text-align: right;\n",
              "    }\n",
              "</style>\n",
              "<table border=\"1\" class=\"dataframe\">\n",
              "  <thead>\n",
              "    <tr style=\"text-align: right;\">\n",
              "      <th></th>\n",
              "      <th>Agency</th>\n",
              "      <th>Agency Type</th>\n",
              "      <th>Distribution Channel</th>\n",
              "      <th>Product Name</th>\n",
              "      <th>Claim</th>\n",
              "      <th>Duration</th>\n",
              "      <th>Destination</th>\n",
              "      <th>Net Sales</th>\n",
              "      <th>Commision (in value)</th>\n",
              "      <th>Age</th>\n",
              "    </tr>\n",
              "  </thead>\n",
              "  <tbody>\n",
              "    <tr>\n",
              "      <th>4063</th>\n",
              "      <td>JZI</td>\n",
              "      <td>Airlines</td>\n",
              "      <td>Online</td>\n",
              "      <td>Basic Plan</td>\n",
              "      <td>0</td>\n",
              "      <td>-1</td>\n",
              "      <td>BRUNEI DARUSSALAM</td>\n",
              "      <td>18.0</td>\n",
              "      <td>6.3</td>\n",
              "      <td>118</td>\n",
              "    </tr>\n",
              "    <tr>\n",
              "      <th>38935</th>\n",
              "      <td>JZI</td>\n",
              "      <td>Airlines</td>\n",
              "      <td>Online</td>\n",
              "      <td>Basic Plan</td>\n",
              "      <td>0</td>\n",
              "      <td>-1</td>\n",
              "      <td>INDONESIA</td>\n",
              "      <td>18.0</td>\n",
              "      <td>6.3</td>\n",
              "      <td>118</td>\n",
              "    </tr>\n",
              "    <tr>\n",
              "      <th>48367</th>\n",
              "      <td>JZI</td>\n",
              "      <td>Airlines</td>\n",
              "      <td>Online</td>\n",
              "      <td>Basic Plan</td>\n",
              "      <td>0</td>\n",
              "      <td>-2</td>\n",
              "      <td>BANGLADESH</td>\n",
              "      <td>22.0</td>\n",
              "      <td>7.7</td>\n",
              "      <td>118</td>\n",
              "    </tr>\n",
              "  </tbody>\n",
              "</table>\n",
              "</div>"
            ],
            "text/plain": [
              "      Agency Agency Type  ... Commision (in value)  Age\n",
              "4063     JZI    Airlines  ...                  6.3  118\n",
              "38935    JZI    Airlines  ...                  6.3  118\n",
              "48367    JZI    Airlines  ...                  7.7  118\n",
              "\n",
              "[3 rows x 10 columns]"
            ]
          },
          "metadata": {
            "tags": []
          },
          "execution_count": 170
        }
      ]
    },
    {
      "cell_type": "code",
      "metadata": {
        "id": "WF5jnwpXtggi"
      },
      "source": [
        "#BANGLADESH,INDONESIA,BRUNEI DARUSSALAM has negaitive values\n",
        "#replacing this negative value with mean value of its own"
      ],
      "execution_count": null,
      "outputs": []
    },
    {
      "cell_type": "code",
      "metadata": {
        "colab": {
          "base_uri": "https://localhost:8080/"
        },
        "id": "cosA8fl4t0HP",
        "outputId": "713e0818-8ce7-4b30-a88e-873edb05bb95"
      },
      "source": [
        "ban=df[(df[\"Duration\"]) & (df[\"Destination\"]==\"BANGLADESH\")]\n",
        "ban[\"Duration\"].mean()"
      ],
      "execution_count": null,
      "outputs": [
        {
          "output_type": "execute_result",
          "data": {
            "text/plain": [
              "15.958333333333334"
            ]
          },
          "metadata": {
            "tags": []
          },
          "execution_count": 172
        }
      ]
    },
    {
      "cell_type": "code",
      "metadata": {
        "colab": {
          "base_uri": "https://localhost:8080/"
        },
        "id": "qf4RBhM4u2xK",
        "outputId": "c3dcce23-fff4-4a27-90d6-962de1fd560d"
      },
      "source": [
        "indo=df[(df[\"Duration\"]) & (df[\"Destination\"]==\"INDONESIA\")]\n",
        "indo[\"Duration\"].mean()"
      ],
      "execution_count": null,
      "outputs": [
        {
          "output_type": "execute_result",
          "data": {
            "text/plain": [
              "31.335203366058906"
            ]
          },
          "metadata": {
            "tags": []
          },
          "execution_count": 173
        }
      ]
    },
    {
      "cell_type": "code",
      "metadata": {
        "colab": {
          "base_uri": "https://localhost:8080/"
        },
        "id": "Ks11v4CxvEha",
        "outputId": "a5b1eb22-825b-4d32-c189-4a44deb8ffae"
      },
      "source": [
        "BRUNEI=df[(df[\"Duration\"]) & (df[\"Destination\"]==\"BRUNEI DARUSSALAM\")]\n",
        "BRUNEI[\"Duration\"].mean()"
      ],
      "execution_count": null,
      "outputs": [
        {
          "output_type": "execute_result",
          "data": {
            "text/plain": [
              "22.37012987012987"
            ]
          },
          "metadata": {
            "tags": []
          },
          "execution_count": 174
        }
      ]
    },
    {
      "cell_type": "code",
      "metadata": {
        "colab": {
          "base_uri": "https://localhost:8080/",
          "height": 1000
        },
        "id": "3nvEAC5avQHv",
        "outputId": "51d27a57-449f-4b85-fa8d-75af19fff19a"
      },
      "source": [
        "des=df[(df[\"Duration\"]==0) & (df[\"Destination\"])]\n",
        "des"
      ],
      "execution_count": null,
      "outputs": [
        {
          "output_type": "execute_result",
          "data": {
            "text/html": [
              "<div>\n",
              "<style scoped>\n",
              "    .dataframe tbody tr th:only-of-type {\n",
              "        vertical-align: middle;\n",
              "    }\n",
              "\n",
              "    .dataframe tbody tr th {\n",
              "        vertical-align: top;\n",
              "    }\n",
              "\n",
              "    .dataframe thead th {\n",
              "        text-align: right;\n",
              "    }\n",
              "</style>\n",
              "<table border=\"1\" class=\"dataframe\">\n",
              "  <thead>\n",
              "    <tr style=\"text-align: right;\">\n",
              "      <th></th>\n",
              "      <th>Agency</th>\n",
              "      <th>Agency Type</th>\n",
              "      <th>Distribution Channel</th>\n",
              "      <th>Product Name</th>\n",
              "      <th>Claim</th>\n",
              "      <th>Duration</th>\n",
              "      <th>Destination</th>\n",
              "      <th>Net Sales</th>\n",
              "      <th>Commision (in value)</th>\n",
              "      <th>Age</th>\n",
              "    </tr>\n",
              "  </thead>\n",
              "  <tbody>\n",
              "    <tr>\n",
              "      <th>181</th>\n",
              "      <td>JWT</td>\n",
              "      <td>Airlines</td>\n",
              "      <td>Online</td>\n",
              "      <td>Value Plan</td>\n",
              "      <td>0</td>\n",
              "      <td>0</td>\n",
              "      <td>INDIA</td>\n",
              "      <td>31.00</td>\n",
              "      <td>12.40</td>\n",
              "      <td>118</td>\n",
              "    </tr>\n",
              "    <tr>\n",
              "      <th>314</th>\n",
              "      <td>RAB</td>\n",
              "      <td>Airlines</td>\n",
              "      <td>Online</td>\n",
              "      <td>Value Plan</td>\n",
              "      <td>0</td>\n",
              "      <td>0</td>\n",
              "      <td>BRUNEI DARUSSALAM</td>\n",
              "      <td>15.00</td>\n",
              "      <td>6.00</td>\n",
              "      <td>53</td>\n",
              "    </tr>\n",
              "    <tr>\n",
              "      <th>1864</th>\n",
              "      <td>JWT</td>\n",
              "      <td>Airlines</td>\n",
              "      <td>Online</td>\n",
              "      <td>Value Plan</td>\n",
              "      <td>0</td>\n",
              "      <td>0</td>\n",
              "      <td>INDIA</td>\n",
              "      <td>31.00</td>\n",
              "      <td>12.40</td>\n",
              "      <td>118</td>\n",
              "    </tr>\n",
              "    <tr>\n",
              "      <th>3068</th>\n",
              "      <td>C2B</td>\n",
              "      <td>Airlines</td>\n",
              "      <td>Online</td>\n",
              "      <td>Silver Plan</td>\n",
              "      <td>0</td>\n",
              "      <td>0</td>\n",
              "      <td>SINGAPORE</td>\n",
              "      <td>0.00</td>\n",
              "      <td>5.63</td>\n",
              "      <td>51</td>\n",
              "    </tr>\n",
              "    <tr>\n",
              "      <th>4282</th>\n",
              "      <td>LWC</td>\n",
              "      <td>Travel Agency</td>\n",
              "      <td>Online</td>\n",
              "      <td>Single Trip Travel Protect Gold</td>\n",
              "      <td>0</td>\n",
              "      <td>0</td>\n",
              "      <td>MALAYSIA</td>\n",
              "      <td>27.00</td>\n",
              "      <td>17.55</td>\n",
              "      <td>56</td>\n",
              "    </tr>\n",
              "    <tr>\n",
              "      <th>7324</th>\n",
              "      <td>RAB</td>\n",
              "      <td>Airlines</td>\n",
              "      <td>Online</td>\n",
              "      <td>Value Plan</td>\n",
              "      <td>0</td>\n",
              "      <td>0</td>\n",
              "      <td>BRUNEI DARUSSALAM</td>\n",
              "      <td>15.00</td>\n",
              "      <td>6.00</td>\n",
              "      <td>24</td>\n",
              "    </tr>\n",
              "    <tr>\n",
              "      <th>7482</th>\n",
              "      <td>JZI</td>\n",
              "      <td>Airlines</td>\n",
              "      <td>Online</td>\n",
              "      <td>Basic Plan</td>\n",
              "      <td>0</td>\n",
              "      <td>0</td>\n",
              "      <td>THAILAND</td>\n",
              "      <td>18.00</td>\n",
              "      <td>6.30</td>\n",
              "      <td>118</td>\n",
              "    </tr>\n",
              "    <tr>\n",
              "      <th>7885</th>\n",
              "      <td>JZI</td>\n",
              "      <td>Airlines</td>\n",
              "      <td>Online</td>\n",
              "      <td>Basic Plan</td>\n",
              "      <td>0</td>\n",
              "      <td>0</td>\n",
              "      <td>THAILAND</td>\n",
              "      <td>18.00</td>\n",
              "      <td>6.30</td>\n",
              "      <td>118</td>\n",
              "    </tr>\n",
              "    <tr>\n",
              "      <th>8205</th>\n",
              "      <td>JWT</td>\n",
              "      <td>Airlines</td>\n",
              "      <td>Online</td>\n",
              "      <td>Value Plan</td>\n",
              "      <td>0</td>\n",
              "      <td>0</td>\n",
              "      <td>INDIA</td>\n",
              "      <td>62.00</td>\n",
              "      <td>24.80</td>\n",
              "      <td>118</td>\n",
              "    </tr>\n",
              "    <tr>\n",
              "      <th>8512</th>\n",
              "      <td>JWT</td>\n",
              "      <td>Airlines</td>\n",
              "      <td>Online</td>\n",
              "      <td>Value Plan</td>\n",
              "      <td>0</td>\n",
              "      <td>0</td>\n",
              "      <td>INDIA</td>\n",
              "      <td>31.00</td>\n",
              "      <td>12.40</td>\n",
              "      <td>118</td>\n",
              "    </tr>\n",
              "    <tr>\n",
              "      <th>8897</th>\n",
              "      <td>JWT</td>\n",
              "      <td>Airlines</td>\n",
              "      <td>Online</td>\n",
              "      <td>Value Plan</td>\n",
              "      <td>0</td>\n",
              "      <td>0</td>\n",
              "      <td>INDIA</td>\n",
              "      <td>62.00</td>\n",
              "      <td>24.80</td>\n",
              "      <td>118</td>\n",
              "    </tr>\n",
              "    <tr>\n",
              "      <th>9501</th>\n",
              "      <td>JWT</td>\n",
              "      <td>Airlines</td>\n",
              "      <td>Online</td>\n",
              "      <td>Value Plan</td>\n",
              "      <td>0</td>\n",
              "      <td>0</td>\n",
              "      <td>INDIA</td>\n",
              "      <td>31.00</td>\n",
              "      <td>12.40</td>\n",
              "      <td>118</td>\n",
              "    </tr>\n",
              "    <tr>\n",
              "      <th>10465</th>\n",
              "      <td>JWT</td>\n",
              "      <td>Airlines</td>\n",
              "      <td>Online</td>\n",
              "      <td>Value Plan</td>\n",
              "      <td>0</td>\n",
              "      <td>0</td>\n",
              "      <td>INDIA</td>\n",
              "      <td>31.00</td>\n",
              "      <td>12.40</td>\n",
              "      <td>118</td>\n",
              "    </tr>\n",
              "    <tr>\n",
              "      <th>10558</th>\n",
              "      <td>JWT</td>\n",
              "      <td>Airlines</td>\n",
              "      <td>Online</td>\n",
              "      <td>Value Plan</td>\n",
              "      <td>0</td>\n",
              "      <td>0</td>\n",
              "      <td>INDIA</td>\n",
              "      <td>62.00</td>\n",
              "      <td>24.80</td>\n",
              "      <td>118</td>\n",
              "    </tr>\n",
              "    <tr>\n",
              "      <th>11515</th>\n",
              "      <td>JZI</td>\n",
              "      <td>Airlines</td>\n",
              "      <td>Online</td>\n",
              "      <td>Basic Plan</td>\n",
              "      <td>0</td>\n",
              "      <td>0</td>\n",
              "      <td>THAILAND</td>\n",
              "      <td>18.00</td>\n",
              "      <td>6.30</td>\n",
              "      <td>118</td>\n",
              "    </tr>\n",
              "    <tr>\n",
              "      <th>12579</th>\n",
              "      <td>SSI</td>\n",
              "      <td>Airlines</td>\n",
              "      <td>Online</td>\n",
              "      <td>Ticket Protector</td>\n",
              "      <td>0</td>\n",
              "      <td>0</td>\n",
              "      <td>SINGAPORE</td>\n",
              "      <td>5.80</td>\n",
              "      <td>1.63</td>\n",
              "      <td>48</td>\n",
              "    </tr>\n",
              "    <tr>\n",
              "      <th>12924</th>\n",
              "      <td>C2B</td>\n",
              "      <td>Airlines</td>\n",
              "      <td>Online</td>\n",
              "      <td>Bronze Plan</td>\n",
              "      <td>0</td>\n",
              "      <td>0</td>\n",
              "      <td>SINGAPORE</td>\n",
              "      <td>-14.40</td>\n",
              "      <td>3.60</td>\n",
              "      <td>49</td>\n",
              "    </tr>\n",
              "    <tr>\n",
              "      <th>16251</th>\n",
              "      <td>SSI</td>\n",
              "      <td>Airlines</td>\n",
              "      <td>Online</td>\n",
              "      <td>Ticket Protector</td>\n",
              "      <td>0</td>\n",
              "      <td>0</td>\n",
              "      <td>SINGAPORE</td>\n",
              "      <td>1.80</td>\n",
              "      <td>0.50</td>\n",
              "      <td>48</td>\n",
              "    </tr>\n",
              "    <tr>\n",
              "      <th>17641</th>\n",
              "      <td>SSI</td>\n",
              "      <td>Airlines</td>\n",
              "      <td>Online</td>\n",
              "      <td>Ticket Protector</td>\n",
              "      <td>0</td>\n",
              "      <td>0</td>\n",
              "      <td>SINGAPORE</td>\n",
              "      <td>0.51</td>\n",
              "      <td>0.14</td>\n",
              "      <td>48</td>\n",
              "    </tr>\n",
              "    <tr>\n",
              "      <th>17741</th>\n",
              "      <td>SSI</td>\n",
              "      <td>Airlines</td>\n",
              "      <td>Online</td>\n",
              "      <td>Ticket Protector</td>\n",
              "      <td>0</td>\n",
              "      <td>0</td>\n",
              "      <td>SINGAPORE</td>\n",
              "      <td>1.35</td>\n",
              "      <td>0.38</td>\n",
              "      <td>48</td>\n",
              "    </tr>\n",
              "    <tr>\n",
              "      <th>18198</th>\n",
              "      <td>JWT</td>\n",
              "      <td>Airlines</td>\n",
              "      <td>Online</td>\n",
              "      <td>Value Plan</td>\n",
              "      <td>0</td>\n",
              "      <td>0</td>\n",
              "      <td>INDIA</td>\n",
              "      <td>62.00</td>\n",
              "      <td>24.80</td>\n",
              "      <td>118</td>\n",
              "    </tr>\n",
              "    <tr>\n",
              "      <th>18299</th>\n",
              "      <td>RAB</td>\n",
              "      <td>Airlines</td>\n",
              "      <td>Online</td>\n",
              "      <td>Value Plan</td>\n",
              "      <td>0</td>\n",
              "      <td>0</td>\n",
              "      <td>BRUNEI DARUSSALAM</td>\n",
              "      <td>15.00</td>\n",
              "      <td>6.00</td>\n",
              "      <td>33</td>\n",
              "    </tr>\n",
              "    <tr>\n",
              "      <th>19419</th>\n",
              "      <td>SSI</td>\n",
              "      <td>Airlines</td>\n",
              "      <td>Online</td>\n",
              "      <td>Ticket Protector</td>\n",
              "      <td>0</td>\n",
              "      <td>0</td>\n",
              "      <td>SINGAPORE</td>\n",
              "      <td>14.40</td>\n",
              "      <td>4.04</td>\n",
              "      <td>48</td>\n",
              "    </tr>\n",
              "    <tr>\n",
              "      <th>20538</th>\n",
              "      <td>JWT</td>\n",
              "      <td>Airlines</td>\n",
              "      <td>Online</td>\n",
              "      <td>Value Plan</td>\n",
              "      <td>0</td>\n",
              "      <td>0</td>\n",
              "      <td>INDIA</td>\n",
              "      <td>62.00</td>\n",
              "      <td>24.80</td>\n",
              "      <td>118</td>\n",
              "    </tr>\n",
              "    <tr>\n",
              "      <th>21442</th>\n",
              "      <td>C2B</td>\n",
              "      <td>Airlines</td>\n",
              "      <td>Online</td>\n",
              "      <td>Bronze Plan</td>\n",
              "      <td>0</td>\n",
              "      <td>0</td>\n",
              "      <td>SINGAPORE</td>\n",
              "      <td>27.00</td>\n",
              "      <td>6.75</td>\n",
              "      <td>23</td>\n",
              "    </tr>\n",
              "    <tr>\n",
              "      <th>23561</th>\n",
              "      <td>SSI</td>\n",
              "      <td>Airlines</td>\n",
              "      <td>Online</td>\n",
              "      <td>Ticket Protector</td>\n",
              "      <td>0</td>\n",
              "      <td>0</td>\n",
              "      <td>SINGAPORE</td>\n",
              "      <td>1.93</td>\n",
              "      <td>0.54</td>\n",
              "      <td>48</td>\n",
              "    </tr>\n",
              "    <tr>\n",
              "      <th>23606</th>\n",
              "      <td>JZI</td>\n",
              "      <td>Airlines</td>\n",
              "      <td>Online</td>\n",
              "      <td>Basic Plan</td>\n",
              "      <td>0</td>\n",
              "      <td>0</td>\n",
              "      <td>MYANMAR</td>\n",
              "      <td>18.00</td>\n",
              "      <td>6.30</td>\n",
              "      <td>24</td>\n",
              "    </tr>\n",
              "    <tr>\n",
              "      <th>23766</th>\n",
              "      <td>SSI</td>\n",
              "      <td>Airlines</td>\n",
              "      <td>Online</td>\n",
              "      <td>Ticket Protector</td>\n",
              "      <td>0</td>\n",
              "      <td>0</td>\n",
              "      <td>SINGAPORE</td>\n",
              "      <td>2.44</td>\n",
              "      <td>0.68</td>\n",
              "      <td>48</td>\n",
              "    </tr>\n",
              "    <tr>\n",
              "      <th>24505</th>\n",
              "      <td>JZI</td>\n",
              "      <td>Airlines</td>\n",
              "      <td>Online</td>\n",
              "      <td>Basic Plan</td>\n",
              "      <td>0</td>\n",
              "      <td>0</td>\n",
              "      <td>MYANMAR</td>\n",
              "      <td>18.00</td>\n",
              "      <td>6.30</td>\n",
              "      <td>26</td>\n",
              "    </tr>\n",
              "    <tr>\n",
              "      <th>25266</th>\n",
              "      <td>CWT</td>\n",
              "      <td>Travel Agency</td>\n",
              "      <td>Online</td>\n",
              "      <td>Rental Vehicle Excess Insurance</td>\n",
              "      <td>0</td>\n",
              "      <td>0</td>\n",
              "      <td>MALAYSIA</td>\n",
              "      <td>9.90</td>\n",
              "      <td>5.94</td>\n",
              "      <td>33</td>\n",
              "    </tr>\n",
              "    <tr>\n",
              "      <th>25785</th>\n",
              "      <td>SSI</td>\n",
              "      <td>Airlines</td>\n",
              "      <td>Online</td>\n",
              "      <td>Ticket Protector</td>\n",
              "      <td>0</td>\n",
              "      <td>0</td>\n",
              "      <td>SINGAPORE</td>\n",
              "      <td>4.44</td>\n",
              "      <td>1.25</td>\n",
              "      <td>48</td>\n",
              "    </tr>\n",
              "    <tr>\n",
              "      <th>26076</th>\n",
              "      <td>SSI</td>\n",
              "      <td>Airlines</td>\n",
              "      <td>Online</td>\n",
              "      <td>Ticket Protector</td>\n",
              "      <td>0</td>\n",
              "      <td>0</td>\n",
              "      <td>SINGAPORE</td>\n",
              "      <td>0.84</td>\n",
              "      <td>0.24</td>\n",
              "      <td>48</td>\n",
              "    </tr>\n",
              "    <tr>\n",
              "      <th>27002</th>\n",
              "      <td>JWT</td>\n",
              "      <td>Airlines</td>\n",
              "      <td>Online</td>\n",
              "      <td>Value Plan</td>\n",
              "      <td>0</td>\n",
              "      <td>0</td>\n",
              "      <td>INDIA</td>\n",
              "      <td>31.00</td>\n",
              "      <td>12.40</td>\n",
              "      <td>118</td>\n",
              "    </tr>\n",
              "    <tr>\n",
              "      <th>30597</th>\n",
              "      <td>SSI</td>\n",
              "      <td>Airlines</td>\n",
              "      <td>Online</td>\n",
              "      <td>Ticket Protector</td>\n",
              "      <td>0</td>\n",
              "      <td>0</td>\n",
              "      <td>SINGAPORE</td>\n",
              "      <td>3.99</td>\n",
              "      <td>1.12</td>\n",
              "      <td>48</td>\n",
              "    </tr>\n",
              "    <tr>\n",
              "      <th>31258</th>\n",
              "      <td>EPX</td>\n",
              "      <td>Travel Agency</td>\n",
              "      <td>Offline</td>\n",
              "      <td>1 way Comprehensive Plan</td>\n",
              "      <td>0</td>\n",
              "      <td>0</td>\n",
              "      <td>MYANMAR</td>\n",
              "      <td>20.00</td>\n",
              "      <td>0.00</td>\n",
              "      <td>33</td>\n",
              "    </tr>\n",
              "    <tr>\n",
              "      <th>31932</th>\n",
              "      <td>SSI</td>\n",
              "      <td>Airlines</td>\n",
              "      <td>Online</td>\n",
              "      <td>Ticket Protector</td>\n",
              "      <td>0</td>\n",
              "      <td>0</td>\n",
              "      <td>SINGAPORE</td>\n",
              "      <td>2.86</td>\n",
              "      <td>0.80</td>\n",
              "      <td>48</td>\n",
              "    </tr>\n",
              "    <tr>\n",
              "      <th>33674</th>\n",
              "      <td>SSI</td>\n",
              "      <td>Airlines</td>\n",
              "      <td>Online</td>\n",
              "      <td>Ticket Protector</td>\n",
              "      <td>0</td>\n",
              "      <td>0</td>\n",
              "      <td>SINGAPORE</td>\n",
              "      <td>4.88</td>\n",
              "      <td>1.37</td>\n",
              "      <td>48</td>\n",
              "    </tr>\n",
              "    <tr>\n",
              "      <th>34178</th>\n",
              "      <td>JWT</td>\n",
              "      <td>Airlines</td>\n",
              "      <td>Online</td>\n",
              "      <td>Value Plan</td>\n",
              "      <td>0</td>\n",
              "      <td>0</td>\n",
              "      <td>INDIA</td>\n",
              "      <td>31.00</td>\n",
              "      <td>12.40</td>\n",
              "      <td>118</td>\n",
              "    </tr>\n",
              "    <tr>\n",
              "      <th>34511</th>\n",
              "      <td>JZI</td>\n",
              "      <td>Airlines</td>\n",
              "      <td>Online</td>\n",
              "      <td>Basic Plan</td>\n",
              "      <td>0</td>\n",
              "      <td>0</td>\n",
              "      <td>CHINA</td>\n",
              "      <td>22.00</td>\n",
              "      <td>7.70</td>\n",
              "      <td>34</td>\n",
              "    </tr>\n",
              "    <tr>\n",
              "      <th>36144</th>\n",
              "      <td>JWT</td>\n",
              "      <td>Airlines</td>\n",
              "      <td>Online</td>\n",
              "      <td>Value Plan</td>\n",
              "      <td>0</td>\n",
              "      <td>0</td>\n",
              "      <td>INDIA</td>\n",
              "      <td>31.00</td>\n",
              "      <td>12.40</td>\n",
              "      <td>118</td>\n",
              "    </tr>\n",
              "    <tr>\n",
              "      <th>36403</th>\n",
              "      <td>JWT</td>\n",
              "      <td>Airlines</td>\n",
              "      <td>Online</td>\n",
              "      <td>Value Plan</td>\n",
              "      <td>0</td>\n",
              "      <td>0</td>\n",
              "      <td>INDIA</td>\n",
              "      <td>31.00</td>\n",
              "      <td>12.40</td>\n",
              "      <td>118</td>\n",
              "    </tr>\n",
              "    <tr>\n",
              "      <th>39014</th>\n",
              "      <td>JWT</td>\n",
              "      <td>Airlines</td>\n",
              "      <td>Online</td>\n",
              "      <td>Value Plan</td>\n",
              "      <td>0</td>\n",
              "      <td>0</td>\n",
              "      <td>INDIA</td>\n",
              "      <td>31.00</td>\n",
              "      <td>12.40</td>\n",
              "      <td>118</td>\n",
              "    </tr>\n",
              "    <tr>\n",
              "      <th>39027</th>\n",
              "      <td>JZI</td>\n",
              "      <td>Airlines</td>\n",
              "      <td>Online</td>\n",
              "      <td>Basic Plan</td>\n",
              "      <td>0</td>\n",
              "      <td>0</td>\n",
              "      <td>INDONESIA</td>\n",
              "      <td>18.00</td>\n",
              "      <td>6.30</td>\n",
              "      <td>118</td>\n",
              "    </tr>\n",
              "    <tr>\n",
              "      <th>39318</th>\n",
              "      <td>JWT</td>\n",
              "      <td>Airlines</td>\n",
              "      <td>Online</td>\n",
              "      <td>Value Plan</td>\n",
              "      <td>0</td>\n",
              "      <td>0</td>\n",
              "      <td>INDIA</td>\n",
              "      <td>31.00</td>\n",
              "      <td>12.40</td>\n",
              "      <td>118</td>\n",
              "    </tr>\n",
              "    <tr>\n",
              "      <th>41302</th>\n",
              "      <td>JWT</td>\n",
              "      <td>Airlines</td>\n",
              "      <td>Online</td>\n",
              "      <td>Value Plan</td>\n",
              "      <td>0</td>\n",
              "      <td>0</td>\n",
              "      <td>INDIA</td>\n",
              "      <td>62.00</td>\n",
              "      <td>24.80</td>\n",
              "      <td>118</td>\n",
              "    </tr>\n",
              "    <tr>\n",
              "      <th>41861</th>\n",
              "      <td>JWT</td>\n",
              "      <td>Airlines</td>\n",
              "      <td>Online</td>\n",
              "      <td>Value Plan</td>\n",
              "      <td>0</td>\n",
              "      <td>0</td>\n",
              "      <td>INDIA</td>\n",
              "      <td>93.00</td>\n",
              "      <td>37.20</td>\n",
              "      <td>118</td>\n",
              "    </tr>\n",
              "    <tr>\n",
              "      <th>43410</th>\n",
              "      <td>SSI</td>\n",
              "      <td>Airlines</td>\n",
              "      <td>Online</td>\n",
              "      <td>Ticket Protector</td>\n",
              "      <td>0</td>\n",
              "      <td>0</td>\n",
              "      <td>SINGAPORE</td>\n",
              "      <td>9.77</td>\n",
              "      <td>2.74</td>\n",
              "      <td>48</td>\n",
              "    </tr>\n",
              "    <tr>\n",
              "      <th>43464</th>\n",
              "      <td>RAB</td>\n",
              "      <td>Airlines</td>\n",
              "      <td>Online</td>\n",
              "      <td>Value Plan</td>\n",
              "      <td>0</td>\n",
              "      <td>0</td>\n",
              "      <td>BRUNEI DARUSSALAM</td>\n",
              "      <td>15.00</td>\n",
              "      <td>6.00</td>\n",
              "      <td>24</td>\n",
              "    </tr>\n",
              "    <tr>\n",
              "      <th>43485</th>\n",
              "      <td>JZI</td>\n",
              "      <td>Airlines</td>\n",
              "      <td>Online</td>\n",
              "      <td>Basic Plan</td>\n",
              "      <td>0</td>\n",
              "      <td>0</td>\n",
              "      <td>VIET NAM</td>\n",
              "      <td>18.00</td>\n",
              "      <td>6.30</td>\n",
              "      <td>58</td>\n",
              "    </tr>\n",
              "    <tr>\n",
              "      <th>43719</th>\n",
              "      <td>SSI</td>\n",
              "      <td>Airlines</td>\n",
              "      <td>Online</td>\n",
              "      <td>Ticket Protector</td>\n",
              "      <td>0</td>\n",
              "      <td>0</td>\n",
              "      <td>SINGAPORE</td>\n",
              "      <td>1.03</td>\n",
              "      <td>0.29</td>\n",
              "      <td>48</td>\n",
              "    </tr>\n",
              "    <tr>\n",
              "      <th>45395</th>\n",
              "      <td>CWT</td>\n",
              "      <td>Travel Agency</td>\n",
              "      <td>Online</td>\n",
              "      <td>Rental Vehicle Excess Insurance</td>\n",
              "      <td>0</td>\n",
              "      <td>0</td>\n",
              "      <td>UNITED STATES</td>\n",
              "      <td>9.90</td>\n",
              "      <td>5.94</td>\n",
              "      <td>59</td>\n",
              "    </tr>\n",
              "    <tr>\n",
              "      <th>45474</th>\n",
              "      <td>RAB</td>\n",
              "      <td>Airlines</td>\n",
              "      <td>Online</td>\n",
              "      <td>Value Plan</td>\n",
              "      <td>0</td>\n",
              "      <td>0</td>\n",
              "      <td>BRUNEI DARUSSALAM</td>\n",
              "      <td>15.00</td>\n",
              "      <td>6.00</td>\n",
              "      <td>38</td>\n",
              "    </tr>\n",
              "    <tr>\n",
              "      <th>47625</th>\n",
              "      <td>LWC</td>\n",
              "      <td>Travel Agency</td>\n",
              "      <td>Online</td>\n",
              "      <td>Single Trip Travel Protect Gold</td>\n",
              "      <td>0</td>\n",
              "      <td>0</td>\n",
              "      <td>INDIA</td>\n",
              "      <td>35.25</td>\n",
              "      <td>22.91</td>\n",
              "      <td>24</td>\n",
              "    </tr>\n",
              "    <tr>\n",
              "      <th>50357</th>\n",
              "      <td>C2B</td>\n",
              "      <td>Airlines</td>\n",
              "      <td>Online</td>\n",
              "      <td>Bronze Plan</td>\n",
              "      <td>0</td>\n",
              "      <td>0</td>\n",
              "      <td>SINGAPORE</td>\n",
              "      <td>14.40</td>\n",
              "      <td>3.60</td>\n",
              "      <td>49</td>\n",
              "    </tr>\n",
              "  </tbody>\n",
              "</table>\n",
              "</div>"
            ],
            "text/plain": [
              "      Agency    Agency Type  ... Commision (in value)  Age\n",
              "181      JWT       Airlines  ...                12.40  118\n",
              "314      RAB       Airlines  ...                 6.00   53\n",
              "1864     JWT       Airlines  ...                12.40  118\n",
              "3068     C2B       Airlines  ...                 5.63   51\n",
              "4282     LWC  Travel Agency  ...                17.55   56\n",
              "7324     RAB       Airlines  ...                 6.00   24\n",
              "7482     JZI       Airlines  ...                 6.30  118\n",
              "7885     JZI       Airlines  ...                 6.30  118\n",
              "8205     JWT       Airlines  ...                24.80  118\n",
              "8512     JWT       Airlines  ...                12.40  118\n",
              "8897     JWT       Airlines  ...                24.80  118\n",
              "9501     JWT       Airlines  ...                12.40  118\n",
              "10465    JWT       Airlines  ...                12.40  118\n",
              "10558    JWT       Airlines  ...                24.80  118\n",
              "11515    JZI       Airlines  ...                 6.30  118\n",
              "12579    SSI       Airlines  ...                 1.63   48\n",
              "12924    C2B       Airlines  ...                 3.60   49\n",
              "16251    SSI       Airlines  ...                 0.50   48\n",
              "17641    SSI       Airlines  ...                 0.14   48\n",
              "17741    SSI       Airlines  ...                 0.38   48\n",
              "18198    JWT       Airlines  ...                24.80  118\n",
              "18299    RAB       Airlines  ...                 6.00   33\n",
              "19419    SSI       Airlines  ...                 4.04   48\n",
              "20538    JWT       Airlines  ...                24.80  118\n",
              "21442    C2B       Airlines  ...                 6.75   23\n",
              "23561    SSI       Airlines  ...                 0.54   48\n",
              "23606    JZI       Airlines  ...                 6.30   24\n",
              "23766    SSI       Airlines  ...                 0.68   48\n",
              "24505    JZI       Airlines  ...                 6.30   26\n",
              "25266    CWT  Travel Agency  ...                 5.94   33\n",
              "25785    SSI       Airlines  ...                 1.25   48\n",
              "26076    SSI       Airlines  ...                 0.24   48\n",
              "27002    JWT       Airlines  ...                12.40  118\n",
              "30597    SSI       Airlines  ...                 1.12   48\n",
              "31258    EPX  Travel Agency  ...                 0.00   33\n",
              "31932    SSI       Airlines  ...                 0.80   48\n",
              "33674    SSI       Airlines  ...                 1.37   48\n",
              "34178    JWT       Airlines  ...                12.40  118\n",
              "34511    JZI       Airlines  ...                 7.70   34\n",
              "36144    JWT       Airlines  ...                12.40  118\n",
              "36403    JWT       Airlines  ...                12.40  118\n",
              "39014    JWT       Airlines  ...                12.40  118\n",
              "39027    JZI       Airlines  ...                 6.30  118\n",
              "39318    JWT       Airlines  ...                12.40  118\n",
              "41302    JWT       Airlines  ...                24.80  118\n",
              "41861    JWT       Airlines  ...                37.20  118\n",
              "43410    SSI       Airlines  ...                 2.74   48\n",
              "43464    RAB       Airlines  ...                 6.00   24\n",
              "43485    JZI       Airlines  ...                 6.30   58\n",
              "43719    SSI       Airlines  ...                 0.29   48\n",
              "45395    CWT  Travel Agency  ...                 5.94   59\n",
              "45474    RAB       Airlines  ...                 6.00   38\n",
              "47625    LWC  Travel Agency  ...                22.91   24\n",
              "50357    C2B       Airlines  ...                 3.60   49\n",
              "\n",
              "[54 rows x 10 columns]"
            ]
          },
          "metadata": {
            "tags": []
          },
          "execution_count": 175
        }
      ]
    },
    {
      "cell_type": "code",
      "metadata": {
        "colab": {
          "base_uri": "https://localhost:8080/"
        },
        "id": "KV9O7NC-wLbZ",
        "outputId": "7ba6f0f0-ab2c-4d27-a1aa-0a31f7ce6333"
      },
      "source": [
        "des[\"Destination\"].mode()"
      ],
      "execution_count": null,
      "outputs": [
        {
          "output_type": "execute_result",
          "data": {
            "text/plain": [
              "0    INDIA\n",
              "dtype: object"
            ]
          },
          "metadata": {
            "tags": []
          },
          "execution_count": 176
        }
      ]
    },
    {
      "cell_type": "code",
      "metadata": {
        "colab": {
          "base_uri": "https://localhost:8080/"
        },
        "id": "dWh5hEROv6i6",
        "outputId": "64b0ca9e-7d33-4a44-bfd6-deddeab1c6fe"
      },
      "source": [
        "ind=df[(df[\"Duration\"]) & (df[\"Destination\"]==\"INDIA\")]\n",
        "ind[\"Duration\"].mean()"
      ],
      "execution_count": null,
      "outputs": [
        {
          "output_type": "execute_result",
          "data": {
            "text/plain": [
              "30.41387024608501"
            ]
          },
          "metadata": {
            "tags": []
          },
          "execution_count": 177
        }
      ]
    },
    {
      "cell_type": "code",
      "metadata": {
        "colab": {
          "base_uri": "https://localhost:8080/"
        },
        "id": "YYjSLi05yYNr",
        "outputId": "ac3d70c8-dd51-4694-8c99-c2d91a6a9058"
      },
      "source": [
        "#duration has negative value\n",
        "for i in range(len(df)):\n",
        "    if df['Duration'][i]<0:\n",
        "        print(df['Duration'].iloc[i])\n",
        "        "
      ],
      "execution_count": null,
      "outputs": [
        {
          "output_type": "stream",
          "text": [
            "-1\n",
            "-1\n",
            "-2\n"
          ],
          "name": "stdout"
        }
      ]
    },
    {
      "cell_type": "code",
      "metadata": {
        "colab": {
          "base_uri": "https://localhost:8080/",
          "height": 459
        },
        "id": "XujOCkrLytzj",
        "outputId": "8b13eba6-3fe7-4ceb-cfdc-37efd433c1f7"
      },
      "source": [
        "df[df[\"Age\"] >100]"
      ],
      "execution_count": null,
      "outputs": [
        {
          "output_type": "execute_result",
          "data": {
            "text/html": [
              "<div>\n",
              "<style scoped>\n",
              "    .dataframe tbody tr th:only-of-type {\n",
              "        vertical-align: middle;\n",
              "    }\n",
              "\n",
              "    .dataframe tbody tr th {\n",
              "        vertical-align: top;\n",
              "    }\n",
              "\n",
              "    .dataframe thead th {\n",
              "        text-align: right;\n",
              "    }\n",
              "</style>\n",
              "<table border=\"1\" class=\"dataframe\">\n",
              "  <thead>\n",
              "    <tr style=\"text-align: right;\">\n",
              "      <th></th>\n",
              "      <th>Agency</th>\n",
              "      <th>Agency Type</th>\n",
              "      <th>Distribution Channel</th>\n",
              "      <th>Product Name</th>\n",
              "      <th>Claim</th>\n",
              "      <th>Duration</th>\n",
              "      <th>Destination</th>\n",
              "      <th>Net Sales</th>\n",
              "      <th>Commision (in value)</th>\n",
              "      <th>Age</th>\n",
              "    </tr>\n",
              "  </thead>\n",
              "  <tbody>\n",
              "    <tr>\n",
              "      <th>90</th>\n",
              "      <td>JWT</td>\n",
              "      <td>Airlines</td>\n",
              "      <td>Online</td>\n",
              "      <td>Value Plan</td>\n",
              "      <td>0</td>\n",
              "      <td>58</td>\n",
              "      <td>INDIA</td>\n",
              "      <td>78.0</td>\n",
              "      <td>31.20</td>\n",
              "      <td>118</td>\n",
              "    </tr>\n",
              "    <tr>\n",
              "      <th>108</th>\n",
              "      <td>JWT</td>\n",
              "      <td>Airlines</td>\n",
              "      <td>Online</td>\n",
              "      <td>Value Plan</td>\n",
              "      <td>0</td>\n",
              "      <td>15</td>\n",
              "      <td>INDIA</td>\n",
              "      <td>31.0</td>\n",
              "      <td>12.40</td>\n",
              "      <td>118</td>\n",
              "    </tr>\n",
              "    <tr>\n",
              "      <th>140</th>\n",
              "      <td>JWT</td>\n",
              "      <td>Airlines</td>\n",
              "      <td>Online</td>\n",
              "      <td>Value Plan</td>\n",
              "      <td>0</td>\n",
              "      <td>8</td>\n",
              "      <td>INDIA</td>\n",
              "      <td>39.0</td>\n",
              "      <td>15.60</td>\n",
              "      <td>118</td>\n",
              "    </tr>\n",
              "    <tr>\n",
              "      <th>153</th>\n",
              "      <td>JWT</td>\n",
              "      <td>Airlines</td>\n",
              "      <td>Online</td>\n",
              "      <td>Value Plan</td>\n",
              "      <td>0</td>\n",
              "      <td>4</td>\n",
              "      <td>INDIA</td>\n",
              "      <td>78.0</td>\n",
              "      <td>31.20</td>\n",
              "      <td>118</td>\n",
              "    </tr>\n",
              "    <tr>\n",
              "      <th>181</th>\n",
              "      <td>JWT</td>\n",
              "      <td>Airlines</td>\n",
              "      <td>Online</td>\n",
              "      <td>Value Plan</td>\n",
              "      <td>0</td>\n",
              "      <td>0</td>\n",
              "      <td>INDIA</td>\n",
              "      <td>31.0</td>\n",
              "      <td>12.40</td>\n",
              "      <td>118</td>\n",
              "    </tr>\n",
              "    <tr>\n",
              "      <th>...</th>\n",
              "      <td>...</td>\n",
              "      <td>...</td>\n",
              "      <td>...</td>\n",
              "      <td>...</td>\n",
              "      <td>...</td>\n",
              "      <td>...</td>\n",
              "      <td>...</td>\n",
              "      <td>...</td>\n",
              "      <td>...</td>\n",
              "      <td>...</td>\n",
              "    </tr>\n",
              "    <tr>\n",
              "      <th>50158</th>\n",
              "      <td>JWT</td>\n",
              "      <td>Airlines</td>\n",
              "      <td>Online</td>\n",
              "      <td>Value Plan</td>\n",
              "      <td>0</td>\n",
              "      <td>41</td>\n",
              "      <td>INDIA</td>\n",
              "      <td>60.0</td>\n",
              "      <td>24.00</td>\n",
              "      <td>118</td>\n",
              "    </tr>\n",
              "    <tr>\n",
              "      <th>50179</th>\n",
              "      <td>JWT</td>\n",
              "      <td>Airlines</td>\n",
              "      <td>Online</td>\n",
              "      <td>Value Plan</td>\n",
              "      <td>0</td>\n",
              "      <td>62</td>\n",
              "      <td>INDIA</td>\n",
              "      <td>31.0</td>\n",
              "      <td>12.40</td>\n",
              "      <td>118</td>\n",
              "    </tr>\n",
              "    <tr>\n",
              "      <th>50250</th>\n",
              "      <td>JWT</td>\n",
              "      <td>Airlines</td>\n",
              "      <td>Online</td>\n",
              "      <td>Value Plan</td>\n",
              "      <td>0</td>\n",
              "      <td>15</td>\n",
              "      <td>INDIA</td>\n",
              "      <td>31.0</td>\n",
              "      <td>12.40</td>\n",
              "      <td>118</td>\n",
              "    </tr>\n",
              "    <tr>\n",
              "      <th>50429</th>\n",
              "      <td>JZI</td>\n",
              "      <td>Airlines</td>\n",
              "      <td>Online</td>\n",
              "      <td>Basic Plan</td>\n",
              "      <td>0</td>\n",
              "      <td>19</td>\n",
              "      <td>SRI LANKA</td>\n",
              "      <td>35.0</td>\n",
              "      <td>12.25</td>\n",
              "      <td>118</td>\n",
              "    </tr>\n",
              "    <tr>\n",
              "      <th>50478</th>\n",
              "      <td>CCR</td>\n",
              "      <td>Travel Agency</td>\n",
              "      <td>Offline</td>\n",
              "      <td>Comprehensive Plan</td>\n",
              "      <td>0</td>\n",
              "      <td>6</td>\n",
              "      <td>THAILAND</td>\n",
              "      <td>29.0</td>\n",
              "      <td>9.57</td>\n",
              "      <td>118</td>\n",
              "    </tr>\n",
              "  </tbody>\n",
              "</table>\n",
              "<p>795 rows × 10 columns</p>\n",
              "</div>"
            ],
            "text/plain": [
              "      Agency    Agency Type  ... Commision (in value)  Age\n",
              "90       JWT       Airlines  ...                31.20  118\n",
              "108      JWT       Airlines  ...                12.40  118\n",
              "140      JWT       Airlines  ...                15.60  118\n",
              "153      JWT       Airlines  ...                31.20  118\n",
              "181      JWT       Airlines  ...                12.40  118\n",
              "...      ...            ...  ...                  ...  ...\n",
              "50158    JWT       Airlines  ...                24.00  118\n",
              "50179    JWT       Airlines  ...                12.40  118\n",
              "50250    JWT       Airlines  ...                12.40  118\n",
              "50429    JZI       Airlines  ...                12.25  118\n",
              "50478    CCR  Travel Agency  ...                 9.57  118\n",
              "\n",
              "[795 rows x 10 columns]"
            ]
          },
          "metadata": {
            "tags": []
          },
          "execution_count": 179
        }
      ]
    },
    {
      "cell_type": "code",
      "metadata": {
        "colab": {
          "base_uri": "https://localhost:8080/"
        },
        "id": "kiINj9jPyt0w",
        "outputId": "764048d9-1d61-420e-f71c-9f2514d0ca99"
      },
      "source": [
        "df[\"Age\"].mean()"
      ],
      "execution_count": null,
      "outputs": [
        {
          "output_type": "execute_result",
          "data": {
            "text/plain": [
              "40.011235732795285"
            ]
          },
          "metadata": {
            "tags": []
          },
          "execution_count": 180
        }
      ]
    },
    {
      "cell_type": "markdown",
      "metadata": {
        "id": "TVBFTuFO9vsQ"
      },
      "source": [
        "**#we can see from data there is 795 rows so we replace age with mean value 40**\n"
      ]
    },
    {
      "cell_type": "code",
      "metadata": {
        "id": "1YeCAP8Xy4cn"
      },
      "source": [
        "#we can see from data there is 795 rows so we replace age with mean value 40.011235732795285\n",
        "df.loc[df['Age'] > 100, 'Age'] = 40"
      ],
      "execution_count": null,
      "outputs": []
    },
    {
      "cell_type": "code",
      "metadata": {
        "colab": {
          "base_uri": "https://localhost:8080/",
          "height": 65
        },
        "id": "wMnpxRREy-vw",
        "outputId": "66edd553-f31e-4081-a745-9bb2a0b9fa9a"
      },
      "source": [
        "df[df[\"Age\"] >100]"
      ],
      "execution_count": null,
      "outputs": [
        {
          "output_type": "execute_result",
          "data": {
            "text/html": [
              "<div>\n",
              "<style scoped>\n",
              "    .dataframe tbody tr th:only-of-type {\n",
              "        vertical-align: middle;\n",
              "    }\n",
              "\n",
              "    .dataframe tbody tr th {\n",
              "        vertical-align: top;\n",
              "    }\n",
              "\n",
              "    .dataframe thead th {\n",
              "        text-align: right;\n",
              "    }\n",
              "</style>\n",
              "<table border=\"1\" class=\"dataframe\">\n",
              "  <thead>\n",
              "    <tr style=\"text-align: right;\">\n",
              "      <th></th>\n",
              "      <th>Agency</th>\n",
              "      <th>Agency Type</th>\n",
              "      <th>Distribution Channel</th>\n",
              "      <th>Product Name</th>\n",
              "      <th>Claim</th>\n",
              "      <th>Duration</th>\n",
              "      <th>Destination</th>\n",
              "      <th>Net Sales</th>\n",
              "      <th>Commision (in value)</th>\n",
              "      <th>Age</th>\n",
              "    </tr>\n",
              "  </thead>\n",
              "  <tbody>\n",
              "  </tbody>\n",
              "</table>\n",
              "</div>"
            ],
            "text/plain": [
              "Empty DataFrame\n",
              "Columns: [Agency, Agency Type, Distribution Channel, Product Name, Claim, Duration, Destination, Net Sales, Commision (in value), Age]\n",
              "Index: []"
            ]
          },
          "metadata": {
            "tags": []
          },
          "execution_count": 182
        }
      ]
    },
    {
      "cell_type": "code",
      "metadata": {
        "id": "O-vE37njzFk9"
      },
      "source": [
        "# we replace duration -2 value with 16  Bngladesh travel duration mean time is 16\n",
        "df[df[\"Duration\"]==-2]\n",
        "df.loc[df['Duration']==-2, 'Duration'] =16"
      ],
      "execution_count": null,
      "outputs": []
    },
    {
      "cell_type": "code",
      "metadata": {
        "colab": {
          "base_uri": "https://localhost:8080/",
          "height": 65
        },
        "id": "hNmYKxSiIj3v",
        "outputId": "118c2179-780d-449e-cabe-c81e822b8b4c"
      },
      "source": [
        "df[df[\"Duration\"]==-2]"
      ],
      "execution_count": null,
      "outputs": [
        {
          "output_type": "execute_result",
          "data": {
            "text/html": [
              "<div>\n",
              "<style scoped>\n",
              "    .dataframe tbody tr th:only-of-type {\n",
              "        vertical-align: middle;\n",
              "    }\n",
              "\n",
              "    .dataframe tbody tr th {\n",
              "        vertical-align: top;\n",
              "    }\n",
              "\n",
              "    .dataframe thead th {\n",
              "        text-align: right;\n",
              "    }\n",
              "</style>\n",
              "<table border=\"1\" class=\"dataframe\">\n",
              "  <thead>\n",
              "    <tr style=\"text-align: right;\">\n",
              "      <th></th>\n",
              "      <th>Agency</th>\n",
              "      <th>Agency Type</th>\n",
              "      <th>Distribution Channel</th>\n",
              "      <th>Product Name</th>\n",
              "      <th>Claim</th>\n",
              "      <th>Duration</th>\n",
              "      <th>Destination</th>\n",
              "      <th>Net Sales</th>\n",
              "      <th>Commision (in value)</th>\n",
              "      <th>Age</th>\n",
              "    </tr>\n",
              "  </thead>\n",
              "  <tbody>\n",
              "  </tbody>\n",
              "</table>\n",
              "</div>"
            ],
            "text/plain": [
              "Empty DataFrame\n",
              "Columns: [Agency, Agency Type, Distribution Channel, Product Name, Claim, Duration, Destination, Net Sales, Commision (in value), Age]\n",
              "Index: []"
            ]
          },
          "metadata": {
            "tags": []
          },
          "execution_count": 184
        }
      ]
    },
    {
      "cell_type": "code",
      "metadata": {
        "id": "ppzHTTkYxOEZ"
      },
      "source": [
        "# we replace duration -1 value with 27  INDONESIA,BRUNEI DARUSSALAM travel duration mean time is 27\n",
        "df.loc[df['Duration']==-1, 'Duration'] =27"
      ],
      "execution_count": null,
      "outputs": []
    },
    {
      "cell_type": "code",
      "metadata": {
        "colab": {
          "base_uri": "https://localhost:8080/",
          "height": 65
        },
        "id": "mI22mNZLyFn7",
        "outputId": "16154321-a8a4-4294-9945-33ff970d2c99"
      },
      "source": [
        "df[df[\"Duration\"]==-1]"
      ],
      "execution_count": null,
      "outputs": [
        {
          "output_type": "execute_result",
          "data": {
            "text/html": [
              "<div>\n",
              "<style scoped>\n",
              "    .dataframe tbody tr th:only-of-type {\n",
              "        vertical-align: middle;\n",
              "    }\n",
              "\n",
              "    .dataframe tbody tr th {\n",
              "        vertical-align: top;\n",
              "    }\n",
              "\n",
              "    .dataframe thead th {\n",
              "        text-align: right;\n",
              "    }\n",
              "</style>\n",
              "<table border=\"1\" class=\"dataframe\">\n",
              "  <thead>\n",
              "    <tr style=\"text-align: right;\">\n",
              "      <th></th>\n",
              "      <th>Agency</th>\n",
              "      <th>Agency Type</th>\n",
              "      <th>Distribution Channel</th>\n",
              "      <th>Product Name</th>\n",
              "      <th>Claim</th>\n",
              "      <th>Duration</th>\n",
              "      <th>Destination</th>\n",
              "      <th>Net Sales</th>\n",
              "      <th>Commision (in value)</th>\n",
              "      <th>Age</th>\n",
              "    </tr>\n",
              "  </thead>\n",
              "  <tbody>\n",
              "  </tbody>\n",
              "</table>\n",
              "</div>"
            ],
            "text/plain": [
              "Empty DataFrame\n",
              "Columns: [Agency, Agency Type, Distribution Channel, Product Name, Claim, Duration, Destination, Net Sales, Commision (in value), Age]\n",
              "Index: []"
            ]
          },
          "metadata": {
            "tags": []
          },
          "execution_count": 186
        }
      ]
    },
    {
      "cell_type": "code",
      "metadata": {
        "id": "6yV3Z_m-xodP"
      },
      "source": [
        "# we replace duration 0 value with 30 because mode of 0 value desitnation is india.and indias meaan is 30 \n",
        "df.loc[df['Duration']==0, 'Duration'] =30"
      ],
      "execution_count": null,
      "outputs": []
    },
    {
      "cell_type": "code",
      "metadata": {
        "colab": {
          "base_uri": "https://localhost:8080/",
          "height": 65
        },
        "id": "zeafn2bbyIP6",
        "outputId": "09184f51-e70b-4196-deb8-fafe0d50df61"
      },
      "source": [
        "df[df[\"Duration\"]==0]"
      ],
      "execution_count": null,
      "outputs": [
        {
          "output_type": "execute_result",
          "data": {
            "text/html": [
              "<div>\n",
              "<style scoped>\n",
              "    .dataframe tbody tr th:only-of-type {\n",
              "        vertical-align: middle;\n",
              "    }\n",
              "\n",
              "    .dataframe tbody tr th {\n",
              "        vertical-align: top;\n",
              "    }\n",
              "\n",
              "    .dataframe thead th {\n",
              "        text-align: right;\n",
              "    }\n",
              "</style>\n",
              "<table border=\"1\" class=\"dataframe\">\n",
              "  <thead>\n",
              "    <tr style=\"text-align: right;\">\n",
              "      <th></th>\n",
              "      <th>Agency</th>\n",
              "      <th>Agency Type</th>\n",
              "      <th>Distribution Channel</th>\n",
              "      <th>Product Name</th>\n",
              "      <th>Claim</th>\n",
              "      <th>Duration</th>\n",
              "      <th>Destination</th>\n",
              "      <th>Net Sales</th>\n",
              "      <th>Commision (in value)</th>\n",
              "      <th>Age</th>\n",
              "    </tr>\n",
              "  </thead>\n",
              "  <tbody>\n",
              "  </tbody>\n",
              "</table>\n",
              "</div>"
            ],
            "text/plain": [
              "Empty DataFrame\n",
              "Columns: [Agency, Agency Type, Distribution Channel, Product Name, Claim, Duration, Destination, Net Sales, Commision (in value), Age]\n",
              "Index: []"
            ]
          },
          "metadata": {
            "tags": []
          },
          "execution_count": 188
        }
      ]
    },
    {
      "cell_type": "code",
      "metadata": {
        "colab": {
          "base_uri": "https://localhost:8080/",
          "height": 336
        },
        "id": "tfF_5cdCzFmP",
        "outputId": "54525e3c-b891-4799-d972-bd0b34a954ab"
      },
      "source": [
        "df.head()"
      ],
      "execution_count": null,
      "outputs": [
        {
          "output_type": "execute_result",
          "data": {
            "text/html": [
              "<div>\n",
              "<style scoped>\n",
              "    .dataframe tbody tr th:only-of-type {\n",
              "        vertical-align: middle;\n",
              "    }\n",
              "\n",
              "    .dataframe tbody tr th {\n",
              "        vertical-align: top;\n",
              "    }\n",
              "\n",
              "    .dataframe thead th {\n",
              "        text-align: right;\n",
              "    }\n",
              "</style>\n",
              "<table border=\"1\" class=\"dataframe\">\n",
              "  <thead>\n",
              "    <tr style=\"text-align: right;\">\n",
              "      <th></th>\n",
              "      <th>Agency</th>\n",
              "      <th>Agency Type</th>\n",
              "      <th>Distribution Channel</th>\n",
              "      <th>Product Name</th>\n",
              "      <th>Claim</th>\n",
              "      <th>Duration</th>\n",
              "      <th>Destination</th>\n",
              "      <th>Net Sales</th>\n",
              "      <th>Commision (in value)</th>\n",
              "      <th>Age</th>\n",
              "    </tr>\n",
              "  </thead>\n",
              "  <tbody>\n",
              "    <tr>\n",
              "      <th>0</th>\n",
              "      <td>CWT</td>\n",
              "      <td>Travel Agency</td>\n",
              "      <td>Online</td>\n",
              "      <td>Rental Vehicle Excess Insurance</td>\n",
              "      <td>0</td>\n",
              "      <td>7</td>\n",
              "      <td>MALAYSIA</td>\n",
              "      <td>0.0</td>\n",
              "      <td>17.82</td>\n",
              "      <td>31</td>\n",
              "    </tr>\n",
              "    <tr>\n",
              "      <th>1</th>\n",
              "      <td>EPX</td>\n",
              "      <td>Travel Agency</td>\n",
              "      <td>Online</td>\n",
              "      <td>Cancellation Plan</td>\n",
              "      <td>0</td>\n",
              "      <td>85</td>\n",
              "      <td>SINGAPORE</td>\n",
              "      <td>69.0</td>\n",
              "      <td>0.00</td>\n",
              "      <td>36</td>\n",
              "    </tr>\n",
              "    <tr>\n",
              "      <th>2</th>\n",
              "      <td>CWT</td>\n",
              "      <td>Travel Agency</td>\n",
              "      <td>Online</td>\n",
              "      <td>Rental Vehicle Excess Insurance</td>\n",
              "      <td>0</td>\n",
              "      <td>11</td>\n",
              "      <td>MALAYSIA</td>\n",
              "      <td>19.8</td>\n",
              "      <td>11.88</td>\n",
              "      <td>75</td>\n",
              "    </tr>\n",
              "    <tr>\n",
              "      <th>3</th>\n",
              "      <td>EPX</td>\n",
              "      <td>Travel Agency</td>\n",
              "      <td>Online</td>\n",
              "      <td>2 way Comprehensive Plan</td>\n",
              "      <td>0</td>\n",
              "      <td>16</td>\n",
              "      <td>INDONESIA</td>\n",
              "      <td>20.0</td>\n",
              "      <td>0.00</td>\n",
              "      <td>32</td>\n",
              "    </tr>\n",
              "    <tr>\n",
              "      <th>4</th>\n",
              "      <td>EPX</td>\n",
              "      <td>Travel Agency</td>\n",
              "      <td>Online</td>\n",
              "      <td>Cancellation Plan</td>\n",
              "      <td>0</td>\n",
              "      <td>10</td>\n",
              "      <td>KOREA, REPUBLIC OF</td>\n",
              "      <td>15.0</td>\n",
              "      <td>0.00</td>\n",
              "      <td>29</td>\n",
              "    </tr>\n",
              "  </tbody>\n",
              "</table>\n",
              "</div>"
            ],
            "text/plain": [
              "  Agency    Agency Type  ... Commision (in value) Age\n",
              "0    CWT  Travel Agency  ...                17.82  31\n",
              "1    EPX  Travel Agency  ...                 0.00  36\n",
              "2    CWT  Travel Agency  ...                11.88  75\n",
              "3    EPX  Travel Agency  ...                 0.00  32\n",
              "4    EPX  Travel Agency  ...                 0.00  29\n",
              "\n",
              "[5 rows x 10 columns]"
            ]
          },
          "metadata": {
            "tags": []
          },
          "execution_count": 189
        }
      ]
    },
    {
      "cell_type": "code",
      "metadata": {
        "colab": {
          "base_uri": "https://localhost:8080/"
        },
        "id": "ZozNPIsZzLsU",
        "outputId": "34ace286-a204-4dce-e31c-06bd26cc5e0e"
      },
      "source": [
        "df.info()"
      ],
      "execution_count": null,
      "outputs": [
        {
          "output_type": "stream",
          "text": [
            "<class 'pandas.core.frame.DataFrame'>\n",
            "RangeIndex: 50553 entries, 0 to 50552\n",
            "Data columns (total 10 columns):\n",
            " #   Column                Non-Null Count  Dtype  \n",
            "---  ------                --------------  -----  \n",
            " 0   Agency                50553 non-null  object \n",
            " 1   Agency Type           50553 non-null  object \n",
            " 2   Distribution Channel  50553 non-null  object \n",
            " 3   Product Name          50553 non-null  object \n",
            " 4   Claim                 50553 non-null  int64  \n",
            " 5   Duration              50553 non-null  int64  \n",
            " 6   Destination           50553 non-null  object \n",
            " 7   Net Sales             50553 non-null  float64\n",
            " 8   Commision (in value)  50553 non-null  float64\n",
            " 9   Age                   50553 non-null  int64  \n",
            "dtypes: float64(2), int64(3), object(5)\n",
            "memory usage: 3.9+ MB\n"
          ],
          "name": "stdout"
        }
      ]
    },
    {
      "cell_type": "code",
      "metadata": {
        "id": "-oZYFfp80OkH"
      },
      "source": [
        "#changing data of claim int to objetive\n",
        "df[\"Claim\"]=df[\"Claim\"].astype('object')"
      ],
      "execution_count": null,
      "outputs": []
    },
    {
      "cell_type": "code",
      "metadata": {
        "id": "x_-hJSn1iX6Q"
      },
      "source": [
        "#changing data of claim int to objetive\n",
        "df[\"Claim\"]=df[\"Claim\"].astype('int')"
      ],
      "execution_count": null,
      "outputs": []
    },
    {
      "cell_type": "code",
      "metadata": {
        "colab": {
          "base_uri": "https://localhost:8080/"
        },
        "id": "2HgeSgy22HT9",
        "outputId": "861479e5-8fcd-449b-d402-3af433dbc89d"
      },
      "source": [
        "#net sale wont be negative so removing those record \n",
        "df=df[df['Net Sales'] > 0]\n",
        "df['Net Sales'].describe().T"
      ],
      "execution_count": null,
      "outputs": [
        {
          "output_type": "execute_result",
          "data": {
            "text/plain": [
              "count    48536.000000\n",
              "mean        43.148207\n",
              "std         47.939269\n",
              "min          0.070000\n",
              "25%         19.800000\n",
              "50%         28.000000\n",
              "75%         49.500000\n",
              "max        810.000000\n",
              "Name: Net Sales, dtype: float64"
            ]
          },
          "metadata": {
            "tags": []
          },
          "execution_count": 193
        }
      ]
    },
    {
      "cell_type": "code",
      "metadata": {
        "colab": {
          "base_uri": "https://localhost:8080/"
        },
        "id": "sdAo-Sik02KA",
        "outputId": "d13988ca-b115-4cc4-997a-634699f3defc"
      },
      "source": [
        "df.info()"
      ],
      "execution_count": null,
      "outputs": [
        {
          "output_type": "stream",
          "text": [
            "<class 'pandas.core.frame.DataFrame'>\n",
            "Int64Index: 48536 entries, 1 to 50552\n",
            "Data columns (total 10 columns):\n",
            " #   Column                Non-Null Count  Dtype  \n",
            "---  ------                --------------  -----  \n",
            " 0   Agency                48536 non-null  object \n",
            " 1   Agency Type           48536 non-null  object \n",
            " 2   Distribution Channel  48536 non-null  object \n",
            " 3   Product Name          48536 non-null  object \n",
            " 4   Claim                 48536 non-null  int64  \n",
            " 5   Duration              48536 non-null  int64  \n",
            " 6   Destination           48536 non-null  object \n",
            " 7   Net Sales             48536 non-null  float64\n",
            " 8   Commision (in value)  48536 non-null  float64\n",
            " 9   Age                   48536 non-null  int64  \n",
            "dtypes: float64(2), int64(3), object(5)\n",
            "memory usage: 4.1+ MB\n"
          ],
          "name": "stdout"
        }
      ]
    },
    {
      "cell_type": "markdown",
      "metadata": {
        "id": "B4zedlsc9_Mc"
      },
      "source": [
        "**Data visualization**"
      ]
    },
    {
      "cell_type": "markdown",
      "metadata": {
        "id": "T7e5i5r7M-6Q"
      },
      "source": [
        "**Agencies with maximum claims**\n"
      ]
    },
    {
      "cell_type": "code",
      "metadata": {
        "colab": {
          "base_uri": "https://localhost:8080/",
          "height": 348
        },
        "id": "EuWpw4W4Ne25",
        "outputId": "dcfc2673-9bb3-49cf-cdfb-916f6646917b"
      },
      "source": [
        "#ploting diffrant diffrant graphs for understnding\n",
        "# Finding the Agencies with the Maximum Claims\n",
        "Claim_mean = (df.groupby('Agency', as_index=False)['Claim'].mean()).nlargest(10,'Claim')\n",
        "Claim_mean"
      ],
      "execution_count": null,
      "outputs": [
        {
          "output_type": "execute_result",
          "data": {
            "text/html": [
              "<div>\n",
              "<style scoped>\n",
              "    .dataframe tbody tr th:only-of-type {\n",
              "        vertical-align: middle;\n",
              "    }\n",
              "\n",
              "    .dataframe tbody tr th {\n",
              "        vertical-align: top;\n",
              "    }\n",
              "\n",
              "    .dataframe thead th {\n",
              "        text-align: right;\n",
              "    }\n",
              "</style>\n",
              "<table border=\"1\" class=\"dataframe\">\n",
              "  <thead>\n",
              "    <tr style=\"text-align: right;\">\n",
              "      <th></th>\n",
              "      <th>Agency</th>\n",
              "      <th>Claim</th>\n",
              "    </tr>\n",
              "  </thead>\n",
              "  <tbody>\n",
              "    <tr>\n",
              "      <th>2</th>\n",
              "      <td>C2B</td>\n",
              "      <td>0.067726</td>\n",
              "    </tr>\n",
              "    <tr>\n",
              "      <th>11</th>\n",
              "      <td>LWC</td>\n",
              "      <td>0.055028</td>\n",
              "    </tr>\n",
              "    <tr>\n",
              "      <th>15</th>\n",
              "      <td>TTW</td>\n",
              "      <td>0.051948</td>\n",
              "    </tr>\n",
              "    <tr>\n",
              "      <th>10</th>\n",
              "      <td>KML</td>\n",
              "      <td>0.022364</td>\n",
              "    </tr>\n",
              "    <tr>\n",
              "      <th>4</th>\n",
              "      <td>CCR</td>\n",
              "      <td>0.019355</td>\n",
              "    </tr>\n",
              "    <tr>\n",
              "      <th>5</th>\n",
              "      <td>CSR</td>\n",
              "      <td>0.014706</td>\n",
              "    </tr>\n",
              "    <tr>\n",
              "      <th>3</th>\n",
              "      <td>CBH</td>\n",
              "      <td>0.013333</td>\n",
              "    </tr>\n",
              "    <tr>\n",
              "      <th>6</th>\n",
              "      <td>CWT</td>\n",
              "      <td>0.011810</td>\n",
              "    </tr>\n",
              "    <tr>\n",
              "      <th>13</th>\n",
              "      <td>SSI</td>\n",
              "      <td>0.006010</td>\n",
              "    </tr>\n",
              "    <tr>\n",
              "      <th>7</th>\n",
              "      <td>EPX</td>\n",
              "      <td>0.005468</td>\n",
              "    </tr>\n",
              "  </tbody>\n",
              "</table>\n",
              "</div>"
            ],
            "text/plain": [
              "   Agency     Claim\n",
              "2     C2B  0.067726\n",
              "11    LWC  0.055028\n",
              "15    TTW  0.051948\n",
              "10    KML  0.022364\n",
              "4     CCR  0.019355\n",
              "5     CSR  0.014706\n",
              "3     CBH  0.013333\n",
              "6     CWT  0.011810\n",
              "13    SSI  0.006010\n",
              "7     EPX  0.005468"
            ]
          },
          "metadata": {
            "tags": []
          },
          "execution_count": 195
        }
      ]
    },
    {
      "cell_type": "code",
      "metadata": {
        "colab": {
          "base_uri": "https://localhost:8080/",
          "height": 280
        },
        "id": "WMNsepJsNkiS",
        "outputId": "c5f4d8a9-e481-4009-b786-c3e52f49a7c0"
      },
      "source": [
        "ax = Claim_mean.plot.bar(x='Agency', y='Claim', rot=0)\n"
      ],
      "execution_count": null,
      "outputs": [
        {
          "output_type": "display_data",
          "data": {
            "image/png": "[encoded data removed]",
            "text/plain": [
              "<Figure size 432x288 with 1 Axes>"
            ]
          },
          "metadata": {
            "tags": [],
            "needs_background": "light"
          }
        }
      ]
    },
    {
      "cell_type": "markdown",
      "metadata": {
        "id": "8Iai5g1dNoDR"
      },
      "source": [
        "**Agencies with the most number of net sales**\n"
      ]
    },
    {
      "cell_type": "code",
      "metadata": {
        "colab": {
          "base_uri": "https://localhost:8080/",
          "height": 348
        },
        "id": "Bbkp5ZPMNqSD",
        "outputId": "6cc4884b-2b4b-4754-95e9-0719a6544a33"
      },
      "source": [
        "netsales_mean = (df.groupby('Agency', as_index=False)['Net Sales'].mean()).nlargest(10,'Net Sales')\n",
        "netsales_mean"
      ],
      "execution_count": null,
      "outputs": [
        {
          "output_type": "execute_result",
          "data": {
            "text/html": [
              "<div>\n",
              "<style scoped>\n",
              "    .dataframe tbody tr th:only-of-type {\n",
              "        vertical-align: middle;\n",
              "    }\n",
              "\n",
              "    .dataframe tbody tr th {\n",
              "        vertical-align: top;\n",
              "    }\n",
              "\n",
              "    .dataframe thead th {\n",
              "        text-align: right;\n",
              "    }\n",
              "</style>\n",
              "<table border=\"1\" class=\"dataframe\">\n",
              "  <thead>\n",
              "    <tr style=\"text-align: right;\">\n",
              "      <th></th>\n",
              "      <th>Agency</th>\n",
              "      <th>Net Sales</th>\n",
              "    </tr>\n",
              "  </thead>\n",
              "  <tbody>\n",
              "    <tr>\n",
              "      <th>11</th>\n",
              "      <td>LWC</td>\n",
              "      <td>120.021442</td>\n",
              "    </tr>\n",
              "    <tr>\n",
              "      <th>0</th>\n",
              "      <td>ADM</td>\n",
              "      <td>97.697674</td>\n",
              "    </tr>\n",
              "    <tr>\n",
              "      <th>15</th>\n",
              "      <td>TTW</td>\n",
              "      <td>93.194805</td>\n",
              "    </tr>\n",
              "    <tr>\n",
              "      <th>2</th>\n",
              "      <td>C2B</td>\n",
              "      <td>81.687274</td>\n",
              "    </tr>\n",
              "    <tr>\n",
              "      <th>10</th>\n",
              "      <td>KML</td>\n",
              "      <td>57.329073</td>\n",
              "    </tr>\n",
              "    <tr>\n",
              "      <th>8</th>\n",
              "      <td>JWT</td>\n",
              "      <td>55.108514</td>\n",
              "    </tr>\n",
              "    <tr>\n",
              "      <th>6</th>\n",
              "      <td>CWT</td>\n",
              "      <td>53.973741</td>\n",
              "    </tr>\n",
              "    <tr>\n",
              "      <th>5</th>\n",
              "      <td>CSR</td>\n",
              "      <td>33.808824</td>\n",
              "    </tr>\n",
              "    <tr>\n",
              "      <th>7</th>\n",
              "      <td>EPX</td>\n",
              "      <td>33.473937</td>\n",
              "    </tr>\n",
              "    <tr>\n",
              "      <th>9</th>\n",
              "      <td>JZI</td>\n",
              "      <td>33.370798</td>\n",
              "    </tr>\n",
              "  </tbody>\n",
              "</table>\n",
              "</div>"
            ],
            "text/plain": [
              "   Agency   Net Sales\n",
              "11    LWC  120.021442\n",
              "0     ADM   97.697674\n",
              "15    TTW   93.194805\n",
              "2     C2B   81.687274\n",
              "10    KML   57.329073\n",
              "8     JWT   55.108514\n",
              "6     CWT   53.973741\n",
              "5     CSR   33.808824\n",
              "7     EPX   33.473937\n",
              "9     JZI   33.370798"
            ]
          },
          "metadata": {
            "tags": []
          },
          "execution_count": 197
        }
      ]
    },
    {
      "cell_type": "code",
      "metadata": {
        "colab": {
          "base_uri": "https://localhost:8080/",
          "height": 279
        },
        "id": "3lYna1b1Nybm",
        "outputId": "dc7545ee-91f1-423d-b8d3-e6e74a9fed57"
      },
      "source": [
        "ax1 = netsales_mean.plot.bar(x='Agency', y='Net Sales', rot=0)"
      ],
      "execution_count": null,
      "outputs": [
        {
          "output_type": "display_data",
          "data": {
            "image/png": "[encoded data removed]",
            "text/plain": [
              "<Figure size 432x288 with 1 Axes>"
            ]
          },
          "metadata": {
            "tags": [],
            "needs_background": "light"
          }
        }
      ]
    },
    {
      "cell_type": "code",
      "metadata": {
        "colab": {
          "base_uri": "https://localhost:8080/",
          "height": 462
        },
        "id": "is0cahuIN4QK",
        "outputId": "bf4ab953-e576-4b81-c12f-74dd3ff42927"
      },
      "source": [
        "plot2 = sns.catplot(x=\"Agency Type\", col=\"Claim\",data=df, kind=\"count\",height=4, aspect=.7)\n",
        "df.pivot_table(index=['Agency Type'],columns=['Claim'], values=['Agency'], aggfunc='count')"
      ],
      "execution_count": null,
      "outputs": [
        {
          "output_type": "execute_result",
          "data": {
            "text/html": [
              "<div>\n",
              "<style scoped>\n",
              "    .dataframe tbody tr th:only-of-type {\n",
              "        vertical-align: middle;\n",
              "    }\n",
              "\n",
              "    .dataframe tbody tr th {\n",
              "        vertical-align: top;\n",
              "    }\n",
              "\n",
              "    .dataframe thead tr th {\n",
              "        text-align: left;\n",
              "    }\n",
              "\n",
              "    .dataframe thead tr:last-of-type th {\n",
              "        text-align: right;\n",
              "    }\n",
              "</style>\n",
              "<table border=\"1\" class=\"dataframe\">\n",
              "  <thead>\n",
              "    <tr>\n",
              "      <th></th>\n",
              "      <th colspan=\"2\" halign=\"left\">Agency</th>\n",
              "    </tr>\n",
              "    <tr>\n",
              "      <th>Claim</th>\n",
              "      <th>0</th>\n",
              "      <th>1</th>\n",
              "    </tr>\n",
              "    <tr>\n",
              "      <th>Agency Type</th>\n",
              "      <th></th>\n",
              "      <th></th>\n",
              "    </tr>\n",
              "  </thead>\n",
              "  <tbody>\n",
              "    <tr>\n",
              "      <th>Airlines</th>\n",
              "      <td>13199</td>\n",
              "      <td>473</td>\n",
              "    </tr>\n",
              "    <tr>\n",
              "      <th>Travel Agency</th>\n",
              "      <td>34599</td>\n",
              "      <td>265</td>\n",
              "    </tr>\n",
              "  </tbody>\n",
              "</table>\n",
              "</div>"
            ],
            "text/plain": [
              "              Agency     \n",
              "Claim              0    1\n",
              "Agency Type              \n",
              "Airlines       13199  473\n",
              "Travel Agency  34599  265"
            ]
          },
          "metadata": {
            "tags": []
          },
          "execution_count": 199
        },
        {
          "output_type": "display_data",
          "data": {
            "image/png": "[encoded data removed]",
            "text/plain": [
              "<Figure size 403.2x288 with 2 Axes>"
            ]
          },
          "metadata": {
            "tags": [],
            "needs_background": "light"
          }
        }
      ]
    },
    {
      "cell_type": "code",
      "metadata": {
        "colab": {
          "base_uri": "https://localhost:8080/",
          "height": 828
        },
        "id": "_oV3XHJ_ODxC",
        "outputId": "94d64694-9a59-48ed-ec14-17e51ffdff6e"
      },
      "source": [
        "df.pivot_table(index = ['Product Name'], values = ['Net Sales'], aggfunc = 'mean')\n"
      ],
      "execution_count": null,
      "outputs": [
        {
          "output_type": "execute_result",
          "data": {
            "text/html": [
              "<div>\n",
              "<style scoped>\n",
              "    .dataframe tbody tr th:only-of-type {\n",
              "        vertical-align: middle;\n",
              "    }\n",
              "\n",
              "    .dataframe tbody tr th {\n",
              "        vertical-align: top;\n",
              "    }\n",
              "\n",
              "    .dataframe thead th {\n",
              "        text-align: right;\n",
              "    }\n",
              "</style>\n",
              "<table border=\"1\" class=\"dataframe\">\n",
              "  <thead>\n",
              "    <tr style=\"text-align: right;\">\n",
              "      <th></th>\n",
              "      <th>Net Sales</th>\n",
              "    </tr>\n",
              "    <tr>\n",
              "      <th>Product Name</th>\n",
              "      <th></th>\n",
              "    </tr>\n",
              "  </thead>\n",
              "  <tbody>\n",
              "    <tr>\n",
              "      <th>1 way Comprehensive Plan</th>\n",
              "      <td>28.476154</td>\n",
              "    </tr>\n",
              "    <tr>\n",
              "      <th>2 way Comprehensive Plan</th>\n",
              "      <td>43.524684</td>\n",
              "    </tr>\n",
              "    <tr>\n",
              "      <th>24 Protect</th>\n",
              "      <td>24.324706</td>\n",
              "    </tr>\n",
              "    <tr>\n",
              "      <th>Annual Gold Plan</th>\n",
              "      <td>362.430000</td>\n",
              "    </tr>\n",
              "    <tr>\n",
              "      <th>Annual Silver Plan</th>\n",
              "      <td>227.285451</td>\n",
              "    </tr>\n",
              "    <tr>\n",
              "      <th>Annual Travel Protect Gold</th>\n",
              "      <td>249.142593</td>\n",
              "    </tr>\n",
              "    <tr>\n",
              "      <th>Annual Travel Protect Platinum</th>\n",
              "      <td>335.104444</td>\n",
              "    </tr>\n",
              "    <tr>\n",
              "      <th>Annual Travel Protect Silver</th>\n",
              "      <td>211.761765</td>\n",
              "    </tr>\n",
              "    <tr>\n",
              "      <th>Basic Plan</th>\n",
              "      <td>27.075577</td>\n",
              "    </tr>\n",
              "    <tr>\n",
              "      <th>Bronze Plan</th>\n",
              "      <td>33.803918</td>\n",
              "    </tr>\n",
              "    <tr>\n",
              "      <th>Cancellation Plan</th>\n",
              "      <td>27.256394</td>\n",
              "    </tr>\n",
              "    <tr>\n",
              "      <th>Child Comprehensive Plan</th>\n",
              "      <td>74.000000</td>\n",
              "    </tr>\n",
              "    <tr>\n",
              "      <th>Comprehensive Plan</th>\n",
              "      <td>30.021127</td>\n",
              "    </tr>\n",
              "    <tr>\n",
              "      <th>Gold Plan</th>\n",
              "      <td>86.322500</td>\n",
              "    </tr>\n",
              "    <tr>\n",
              "      <th>Individual Comprehensive Plan</th>\n",
              "      <td>97.000000</td>\n",
              "    </tr>\n",
              "    <tr>\n",
              "      <th>Premier Plan</th>\n",
              "      <td>79.138889</td>\n",
              "    </tr>\n",
              "    <tr>\n",
              "      <th>Rental Vehicle Excess Insurance</th>\n",
              "      <td>53.973741</td>\n",
              "    </tr>\n",
              "    <tr>\n",
              "      <th>Silver Plan</th>\n",
              "      <td>51.496579</td>\n",
              "    </tr>\n",
              "    <tr>\n",
              "      <th>Single Trip Travel Protect Gold</th>\n",
              "      <td>42.277333</td>\n",
              "    </tr>\n",
              "    <tr>\n",
              "      <th>Single Trip Travel Protect Platinum</th>\n",
              "      <td>47.684545</td>\n",
              "    </tr>\n",
              "    <tr>\n",
              "      <th>Single Trip Travel Protect Silver</th>\n",
              "      <td>36.148438</td>\n",
              "    </tr>\n",
              "    <tr>\n",
              "      <th>Spouse or Parents Comprehensive Plan</th>\n",
              "      <td>86.000000</td>\n",
              "    </tr>\n",
              "    <tr>\n",
              "      <th>Ticket Protector</th>\n",
              "      <td>6.488774</td>\n",
              "    </tr>\n",
              "    <tr>\n",
              "      <th>Travel Cruise Protect</th>\n",
              "      <td>30.000000</td>\n",
              "    </tr>\n",
              "    <tr>\n",
              "      <th>Value Plan</th>\n",
              "      <td>50.639810</td>\n",
              "    </tr>\n",
              "  </tbody>\n",
              "</table>\n",
              "</div>"
            ],
            "text/plain": [
              "                                       Net Sales\n",
              "Product Name                                    \n",
              "1 way Comprehensive Plan               28.476154\n",
              "2 way Comprehensive Plan               43.524684\n",
              "24 Protect                             24.324706\n",
              "Annual Gold Plan                      362.430000\n",
              "Annual Silver Plan                    227.285451\n",
              "Annual Travel Protect Gold            249.142593\n",
              "Annual Travel Protect Platinum        335.104444\n",
              "Annual Travel Protect Silver          211.761765\n",
              "Basic Plan                             27.075577\n",
              "Bronze Plan                            33.803918\n",
              "Cancellation Plan                      27.256394\n",
              "Child Comprehensive Plan               74.000000\n",
              "Comprehensive Plan                     30.021127\n",
              "Gold Plan                              86.322500\n",
              "Individual Comprehensive Plan          97.000000\n",
              "Premier Plan                           79.138889\n",
              "Rental Vehicle Excess Insurance        53.973741\n",
              "Silver Plan                            51.496579\n",
              "Single Trip Travel Protect Gold        42.277333\n",
              "Single Trip Travel Protect Platinum    47.684545\n",
              "Single Trip Travel Protect Silver      36.148438\n",
              "Spouse or Parents Comprehensive Plan   86.000000\n",
              "Ticket Protector                        6.488774\n",
              "Travel Cruise Protect                  30.000000\n",
              "Value Plan                             50.639810"
            ]
          },
          "metadata": {
            "tags": []
          },
          "execution_count": 200
        }
      ]
    },
    {
      "cell_type": "markdown",
      "metadata": {
        "id": "a84o2T5t6ByD"
      },
      "source": [
        "**We can see from above Desity,Commision,Net sale,duration,clasim positivly skewd**"
      ]
    },
    {
      "cell_type": "code",
      "metadata": {
        "id": "cHUtp1Yhe8Y3"
      },
      "source": [
        "#seprating numeric and catagorical data\n",
        "df_num=df.select_dtypes([\"int\",\"float\"])\n",
        "df_cat=df.select_dtypes(\"object\")"
      ],
      "execution_count": null,
      "outputs": []
    },
    {
      "cell_type": "code",
      "metadata": {
        "colab": {
          "base_uri": "https://localhost:8080/",
          "height": 198
        },
        "id": "WaE3s9QPfAqQ",
        "outputId": "8a93db24-8f16-42d7-acbf-feeede918245"
      },
      "source": [
        "df_num.head()"
      ],
      "execution_count": null,
      "outputs": [
        {
          "output_type": "execute_result",
          "data": {
            "text/html": [
              "<div>\n",
              "<style scoped>\n",
              "    .dataframe tbody tr th:only-of-type {\n",
              "        vertical-align: middle;\n",
              "    }\n",
              "\n",
              "    .dataframe tbody tr th {\n",
              "        vertical-align: top;\n",
              "    }\n",
              "\n",
              "    .dataframe thead th {\n",
              "        text-align: right;\n",
              "    }\n",
              "</style>\n",
              "<table border=\"1\" class=\"dataframe\">\n",
              "  <thead>\n",
              "    <tr style=\"text-align: right;\">\n",
              "      <th></th>\n",
              "      <th>Claim</th>\n",
              "      <th>Duration</th>\n",
              "      <th>Net Sales</th>\n",
              "      <th>Commision (in value)</th>\n",
              "      <th>Age</th>\n",
              "    </tr>\n",
              "  </thead>\n",
              "  <tbody>\n",
              "    <tr>\n",
              "      <th>1</th>\n",
              "      <td>0</td>\n",
              "      <td>85</td>\n",
              "      <td>69.0</td>\n",
              "      <td>0.00</td>\n",
              "      <td>36</td>\n",
              "    </tr>\n",
              "    <tr>\n",
              "      <th>2</th>\n",
              "      <td>0</td>\n",
              "      <td>11</td>\n",
              "      <td>19.8</td>\n",
              "      <td>11.88</td>\n",
              "      <td>75</td>\n",
              "    </tr>\n",
              "    <tr>\n",
              "      <th>3</th>\n",
              "      <td>0</td>\n",
              "      <td>16</td>\n",
              "      <td>20.0</td>\n",
              "      <td>0.00</td>\n",
              "      <td>32</td>\n",
              "    </tr>\n",
              "    <tr>\n",
              "      <th>4</th>\n",
              "      <td>0</td>\n",
              "      <td>10</td>\n",
              "      <td>15.0</td>\n",
              "      <td>0.00</td>\n",
              "      <td>29</td>\n",
              "    </tr>\n",
              "    <tr>\n",
              "      <th>5</th>\n",
              "      <td>0</td>\n",
              "      <td>64</td>\n",
              "      <td>49.5</td>\n",
              "      <td>29.70</td>\n",
              "      <td>36</td>\n",
              "    </tr>\n",
              "  </tbody>\n",
              "</table>\n",
              "</div>"
            ],
            "text/plain": [
              "   Claim  Duration  Net Sales  Commision (in value)  Age\n",
              "1      0        85       69.0                  0.00   36\n",
              "2      0        11       19.8                 11.88   75\n",
              "3      0        16       20.0                  0.00   32\n",
              "4      0        10       15.0                  0.00   29\n",
              "5      0        64       49.5                 29.70   36"
            ]
          },
          "metadata": {
            "tags": []
          },
          "execution_count": 202
        }
      ]
    },
    {
      "cell_type": "markdown",
      "metadata": {
        "id": "vkypIM1az47s"
      },
      "source": [
        "**Skewness**"
      ]
    },
    {
      "cell_type": "code",
      "metadata": {
        "colab": {
          "base_uri": "https://localhost:8080/",
          "height": 1000
        },
        "id": "vGsPHWC7fDfC",
        "outputId": "93834f29-7ea3-4fca-dac3-7fd46383da9b"
      },
      "source": [
        "from scipy.stats import skew\n",
        "\n",
        "for col in df_num:\n",
        "  plt.figure()\n",
        "  sns.distplot(df_num[col])\n",
        "  plt.show()\n",
        "  print(col, skew(df_num[col]))"
      ],
      "execution_count": null,
      "outputs": [
        {
          "output_type": "display_data",
          "data": {
            "image/png": "[encoded data removed]",
            "text/plain": [
              "<Figure size 432x288 with 1 Axes>"
            ]
          },
          "metadata": {
            "tags": [],
            "needs_background": "light"
          }
        },
        {
          "output_type": "stream",
          "text": [
            "Claim 7.9235331542150345\n"
          ],
          "name": "stdout"
        },
        {
          "output_type": "display_data",
          "data": {
            "image/png": "[encoded data removed]",
            "text/plain": [
              "<Figure size 432x288 with 1 Axes>"
            ]
          },
          "metadata": {
            "tags": [],
            "needs_background": "light"
          }
        },
        {
          "output_type": "stream",
          "text": [
            "Duration 23.13355551269812\n"
          ],
          "name": "stdout"
        },
        {
          "output_type": "display_data",
          "data": {
            "image/png": "[encoded data removed]",
            "text/plain": [
              "<Figure size 432x288 with 1 Axes>"
            ]
          },
          "metadata": {
            "tags": [],
            "needs_background": "light"
          }
        },
        {
          "output_type": "stream",
          "text": [
            "Net Sales 3.7486997052049746\n"
          ],
          "name": "stdout"
        },
        {
          "output_type": "display_data",
          "data": {
            "image/png": "[encoded data removed]",
            "text/plain": [
              "<Figure size 432x288 with 1 Axes>"
            ]
          },
          "metadata": {
            "tags": [],
            "needs_background": "light"
          }
        },
        {
          "output_type": "stream",
          "text": [
            "Commision (in value) 4.276732044098302\n"
          ],
          "name": "stdout"
        },
        {
          "output_type": "display_data",
          "data": {
            "image/png": "[encoded data removed]",
            "text/plain": [
              "<Figure size 432x288 with 1 Axes>"
            ]
          },
          "metadata": {
            "tags": [],
            "needs_background": "light"
          }
        },
        {
          "output_type": "stream",
          "text": [
            "Age 1.2148443680304253\n"
          ],
          "name": "stdout"
        }
      ]
    },
    {
      "cell_type": "code",
      "metadata": {
        "id": "Ojh9SibhmQYs"
      },
      "source": [
        "#store claim column in variable\n",
        "df_numnew=df_num[\"Claim\"]\n",
        "df_numwitoutclaim=df_num[[\"Duration\",\"Net Sales\",\"Commision (in value)\",\"Age\"]]"
      ],
      "execution_count": null,
      "outputs": []
    },
    {
      "cell_type": "code",
      "metadata": {
        "colab": {
          "base_uri": "https://localhost:8080/",
          "height": 407
        },
        "id": "X32grr-wnIWh",
        "outputId": "ca495dd4-8498-4cdd-a43d-3a0c3f9135d7"
      },
      "source": [
        "df_numwitoutclaim"
      ],
      "execution_count": null,
      "outputs": [
        {
          "output_type": "execute_result",
          "data": {
            "text/html": [
              "<div>\n",
              "<style scoped>\n",
              "    .dataframe tbody tr th:only-of-type {\n",
              "        vertical-align: middle;\n",
              "    }\n",
              "\n",
              "    .dataframe tbody tr th {\n",
              "        vertical-align: top;\n",
              "    }\n",
              "\n",
              "    .dataframe thead th {\n",
              "        text-align: right;\n",
              "    }\n",
              "</style>\n",
              "<table border=\"1\" class=\"dataframe\">\n",
              "  <thead>\n",
              "    <tr style=\"text-align: right;\">\n",
              "      <th></th>\n",
              "      <th>Duration</th>\n",
              "      <th>Net Sales</th>\n",
              "      <th>Commision (in value)</th>\n",
              "      <th>Age</th>\n",
              "    </tr>\n",
              "  </thead>\n",
              "  <tbody>\n",
              "    <tr>\n",
              "      <th>1</th>\n",
              "      <td>85</td>\n",
              "      <td>69.0</td>\n",
              "      <td>0.00</td>\n",
              "      <td>36</td>\n",
              "    </tr>\n",
              "    <tr>\n",
              "      <th>2</th>\n",
              "      <td>11</td>\n",
              "      <td>19.8</td>\n",
              "      <td>11.88</td>\n",
              "      <td>75</td>\n",
              "    </tr>\n",
              "    <tr>\n",
              "      <th>3</th>\n",
              "      <td>16</td>\n",
              "      <td>20.0</td>\n",
              "      <td>0.00</td>\n",
              "      <td>32</td>\n",
              "    </tr>\n",
              "    <tr>\n",
              "      <th>4</th>\n",
              "      <td>10</td>\n",
              "      <td>15.0</td>\n",
              "      <td>0.00</td>\n",
              "      <td>29</td>\n",
              "    </tr>\n",
              "    <tr>\n",
              "      <th>5</th>\n",
              "      <td>64</td>\n",
              "      <td>49.5</td>\n",
              "      <td>29.70</td>\n",
              "      <td>36</td>\n",
              "    </tr>\n",
              "    <tr>\n",
              "      <th>...</th>\n",
              "      <td>...</td>\n",
              "      <td>...</td>\n",
              "      <td>...</td>\n",
              "      <td>...</td>\n",
              "    </tr>\n",
              "    <tr>\n",
              "      <th>50548</th>\n",
              "      <td>11</td>\n",
              "      <td>99.0</td>\n",
              "      <td>59.40</td>\n",
              "      <td>50</td>\n",
              "    </tr>\n",
              "    <tr>\n",
              "      <th>50549</th>\n",
              "      <td>48</td>\n",
              "      <td>20.0</td>\n",
              "      <td>0.00</td>\n",
              "      <td>36</td>\n",
              "    </tr>\n",
              "    <tr>\n",
              "      <th>50550</th>\n",
              "      <td>24</td>\n",
              "      <td>28.0</td>\n",
              "      <td>10.64</td>\n",
              "      <td>48</td>\n",
              "    </tr>\n",
              "    <tr>\n",
              "      <th>50551</th>\n",
              "      <td>25</td>\n",
              "      <td>15.0</td>\n",
              "      <td>0.00</td>\n",
              "      <td>36</td>\n",
              "    </tr>\n",
              "    <tr>\n",
              "      <th>50552</th>\n",
              "      <td>9</td>\n",
              "      <td>20.0</td>\n",
              "      <td>0.00</td>\n",
              "      <td>59</td>\n",
              "    </tr>\n",
              "  </tbody>\n",
              "</table>\n",
              "<p>48536 rows × 4 columns</p>\n",
              "</div>"
            ],
            "text/plain": [
              "       Duration  Net Sales  Commision (in value)  Age\n",
              "1            85       69.0                  0.00   36\n",
              "2            11       19.8                 11.88   75\n",
              "3            16       20.0                  0.00   32\n",
              "4            10       15.0                  0.00   29\n",
              "5            64       49.5                 29.70   36\n",
              "...         ...        ...                   ...  ...\n",
              "50548        11       99.0                 59.40   50\n",
              "50549        48       20.0                  0.00   36\n",
              "50550        24       28.0                 10.64   48\n",
              "50551        25       15.0                  0.00   36\n",
              "50552         9       20.0                  0.00   59\n",
              "\n",
              "[48536 rows x 4 columns]"
            ]
          },
          "metadata": {
            "tags": []
          },
          "execution_count": 205
        }
      ]
    },
    {
      "cell_type": "code",
      "metadata": {
        "colab": {
          "base_uri": "https://localhost:8080/"
        },
        "id": "vhvzs806nNNP",
        "outputId": "2aeff773-a8d9-43af-ff47-00698c5c6f95"
      },
      "source": [
        "df_numnew"
      ],
      "execution_count": null,
      "outputs": [
        {
          "output_type": "execute_result",
          "data": {
            "text/plain": [
              "1        0\n",
              "2        0\n",
              "3        0\n",
              "4        0\n",
              "5        0\n",
              "        ..\n",
              "50548    0\n",
              "50549    0\n",
              "50550    0\n",
              "50551    0\n",
              "50552    0\n",
              "Name: Claim, Length: 48536, dtype: int64"
            ]
          },
          "metadata": {
            "tags": []
          },
          "execution_count": 206
        }
      ]
    },
    {
      "cell_type": "code",
      "metadata": {
        "colab": {
          "base_uri": "https://localhost:8080/",
          "height": 1000
        },
        "id": "NwLf9Bm_nWYH",
        "outputId": "4e8fadef-6e8f-404b-9b0d-2213d0488542"
      },
      "source": [
        "#lets see skewness\n",
        "for col in df_numwitoutclaim:\n",
        "  plt.figure()\n",
        "  sns.distplot(df_numwitoutclaim[col])\n",
        "  plt.show()\n",
        "  print(col, skew(df_numwitoutclaim[col]))"
      ],
      "execution_count": null,
      "outputs": [
        {
          "output_type": "display_data",
          "data": {
            "image/png": "[encoded data removed]",
            "text/plain": [
              "<Figure size 432x288 with 1 Axes>"
            ]
          },
          "metadata": {
            "tags": [],
            "needs_background": "light"
          }
        },
        {
          "output_type": "stream",
          "text": [
            "Duration 23.13355551269812\n"
          ],
          "name": "stdout"
        },
        {
          "output_type": "display_data",
          "data": {
            "image/png": "[encoded data removed]",
            "text/plain": [
              "<Figure size 432x288 with 1 Axes>"
            ]
          },
          "metadata": {
            "tags": [],
            "needs_background": "light"
          }
        },
        {
          "output_type": "stream",
          "text": [
            "Net Sales 3.7486997052049746\n"
          ],
          "name": "stdout"
        },
        {
          "output_type": "display_data",
          "data": {
            "image/png": "[encoded data removed]",
            "text/plain": [
              "<Figure size 432x288 with 1 Axes>"
            ]
          },
          "metadata": {
            "tags": [],
            "needs_background": "light"
          }
        },
        {
          "output_type": "stream",
          "text": [
            "Commision (in value) 4.276732044098302\n"
          ],
          "name": "stdout"
        },
        {
          "output_type": "display_data",
          "data": {
            "image/png": "[encoded data removed]",
            "text/plain": [
              "<Figure size 432x288 with 1 Axes>"
            ]
          },
          "metadata": {
            "tags": [],
            "needs_background": "light"
          }
        },
        {
          "output_type": "stream",
          "text": [
            "Age 1.2148443680304253\n"
          ],
          "name": "stdout"
        }
      ]
    },
    {
      "cell_type": "code",
      "metadata": {
        "id": "z37FTT0-3csP"
      },
      "source": [
        "#removing skewness\n",
        "for col in df_numwitoutclaim:\n",
        "  if skew(df_numwitoutclaim[col]) >= 0.5 or skew(df_numwitoutclaim[col]) <= -0.5:\n",
        "    df_numwitoutclaim[col] = np.sqrt(df_numwitoutclaim[col])\n",
        "    "
      ],
      "execution_count": null,
      "outputs": []
    },
    {
      "cell_type": "code",
      "metadata": {
        "colab": {
          "base_uri": "https://localhost:8080/",
          "height": 1000
        },
        "id": "9e6wyBfL3ct5",
        "outputId": "85cdb488-0e36-4e95-88f8-676942ca279d"
      },
      "source": [
        "for col in df_numwitoutclaim:\n",
        "  plt.figure()\n",
        "  sns.distplot(df_numwitoutclaim[col])\n",
        "  plt.show()\n",
        "  print(col, skew(df_numwitoutclaim[col]))"
      ],
      "execution_count": null,
      "outputs": [
        {
          "output_type": "display_data",
          "data": {
            "image/png": "[encoded data removed]",
            "text/plain": [
              "<Figure size 432x288 with 1 Axes>"
            ]
          },
          "metadata": {
            "tags": [],
            "needs_background": "light"
          }
        },
        {
          "output_type": "stream",
          "text": [
            "Duration 2.4681989896626795\n"
          ],
          "name": "stdout"
        },
        {
          "output_type": "display_data",
          "data": {
            "image/png": "[encoded data removed]",
            "text/plain": [
              "<Figure size 432x288 with 1 Axes>"
            ]
          },
          "metadata": {
            "tags": [],
            "needs_background": "light"
          }
        },
        {
          "output_type": "stream",
          "text": [
            "Net Sales 1.8479734387767213\n"
          ],
          "name": "stdout"
        },
        {
          "output_type": "display_data",
          "data": {
            "image/png": "[encoded data removed]",
            "text/plain": [
              "<Figure size 432x288 with 1 Axes>"
            ]
          },
          "metadata": {
            "tags": [],
            "needs_background": "light"
          }
        },
        {
          "output_type": "stream",
          "text": [
            "Commision (in value) 1.4209919803987445\n"
          ],
          "name": "stdout"
        },
        {
          "output_type": "display_data",
          "data": {
            "image/png": "[encoded data removed]",
            "text/plain": [
              "<Figure size 432x288 with 1 Axes>"
            ]
          },
          "metadata": {
            "tags": [],
            "needs_background": "light"
          }
        },
        {
          "output_type": "stream",
          "text": [
            "Age 0.6971452234312263\n"
          ],
          "name": "stdout"
        }
      ]
    },
    {
      "cell_type": "markdown",
      "metadata": {
        "id": "didZ00Ok-gmq"
      },
      "source": [
        "**Combine Data**"
      ]
    },
    {
      "cell_type": "code",
      "metadata": {
        "id": "jWyeGZsNodQB"
      },
      "source": [
        "df_num=pd.concat([df_numwitoutclaim,df_numnew],axis=1)"
      ],
      "execution_count": null,
      "outputs": []
    },
    {
      "cell_type": "code",
      "metadata": {
        "colab": {
          "base_uri": "https://localhost:8080/",
          "height": 407
        },
        "id": "zQiM6sFf6UTG",
        "outputId": "4c4a3360-9a16-4224-e2d6-11d75c0c49d3"
      },
      "source": [
        "df_num"
      ],
      "execution_count": null,
      "outputs": [
        {
          "output_type": "execute_result",
          "data": {
            "text/html": [
              "<div>\n",
              "<style scoped>\n",
              "    .dataframe tbody tr th:only-of-type {\n",
              "        vertical-align: middle;\n",
              "    }\n",
              "\n",
              "    .dataframe tbody tr th {\n",
              "        vertical-align: top;\n",
              "    }\n",
              "\n",
              "    .dataframe thead th {\n",
              "        text-align: right;\n",
              "    }\n",
              "</style>\n",
              "<table border=\"1\" class=\"dataframe\">\n",
              "  <thead>\n",
              "    <tr style=\"text-align: right;\">\n",
              "      <th></th>\n",
              "      <th>Duration</th>\n",
              "      <th>Net Sales</th>\n",
              "      <th>Commision (in value)</th>\n",
              "      <th>Age</th>\n",
              "      <th>Claim</th>\n",
              "    </tr>\n",
              "  </thead>\n",
              "  <tbody>\n",
              "    <tr>\n",
              "      <th>1</th>\n",
              "      <td>9.219544</td>\n",
              "      <td>8.306624</td>\n",
              "      <td>0.000000</td>\n",
              "      <td>6.000000</td>\n",
              "      <td>0</td>\n",
              "    </tr>\n",
              "    <tr>\n",
              "      <th>2</th>\n",
              "      <td>3.316625</td>\n",
              "      <td>4.449719</td>\n",
              "      <td>3.446738</td>\n",
              "      <td>8.660254</td>\n",
              "      <td>0</td>\n",
              "    </tr>\n",
              "    <tr>\n",
              "      <th>3</th>\n",
              "      <td>4.000000</td>\n",
              "      <td>4.472136</td>\n",
              "      <td>0.000000</td>\n",
              "      <td>5.656854</td>\n",
              "      <td>0</td>\n",
              "    </tr>\n",
              "    <tr>\n",
              "      <th>4</th>\n",
              "      <td>3.162278</td>\n",
              "      <td>3.872983</td>\n",
              "      <td>0.000000</td>\n",
              "      <td>5.385165</td>\n",
              "      <td>0</td>\n",
              "    </tr>\n",
              "    <tr>\n",
              "      <th>5</th>\n",
              "      <td>8.000000</td>\n",
              "      <td>7.035624</td>\n",
              "      <td>5.449771</td>\n",
              "      <td>6.000000</td>\n",
              "      <td>0</td>\n",
              "    </tr>\n",
              "    <tr>\n",
              "      <th>...</th>\n",
              "      <td>...</td>\n",
              "      <td>...</td>\n",
              "      <td>...</td>\n",
              "      <td>...</td>\n",
              "      <td>...</td>\n",
              "    </tr>\n",
              "    <tr>\n",
              "      <th>50548</th>\n",
              "      <td>3.316625</td>\n",
              "      <td>9.949874</td>\n",
              "      <td>7.707140</td>\n",
              "      <td>7.071068</td>\n",
              "      <td>0</td>\n",
              "    </tr>\n",
              "    <tr>\n",
              "      <th>50549</th>\n",
              "      <td>6.928203</td>\n",
              "      <td>4.472136</td>\n",
              "      <td>0.000000</td>\n",
              "      <td>6.000000</td>\n",
              "      <td>0</td>\n",
              "    </tr>\n",
              "    <tr>\n",
              "      <th>50550</th>\n",
              "      <td>4.898979</td>\n",
              "      <td>5.291503</td>\n",
              "      <td>3.261901</td>\n",
              "      <td>6.928203</td>\n",
              "      <td>0</td>\n",
              "    </tr>\n",
              "    <tr>\n",
              "      <th>50551</th>\n",
              "      <td>5.000000</td>\n",
              "      <td>3.872983</td>\n",
              "      <td>0.000000</td>\n",
              "      <td>6.000000</td>\n",
              "      <td>0</td>\n",
              "    </tr>\n",
              "    <tr>\n",
              "      <th>50552</th>\n",
              "      <td>3.000000</td>\n",
              "      <td>4.472136</td>\n",
              "      <td>0.000000</td>\n",
              "      <td>7.681146</td>\n",
              "      <td>0</td>\n",
              "    </tr>\n",
              "  </tbody>\n",
              "</table>\n",
              "<p>48536 rows × 5 columns</p>\n",
              "</div>"
            ],
            "text/plain": [
              "       Duration  Net Sales  Commision (in value)       Age  Claim\n",
              "1      9.219544   8.306624              0.000000  6.000000      0\n",
              "2      3.316625   4.449719              3.446738  8.660254      0\n",
              "3      4.000000   4.472136              0.000000  5.656854      0\n",
              "4      3.162278   3.872983              0.000000  5.385165      0\n",
              "5      8.000000   7.035624              5.449771  6.000000      0\n",
              "...         ...        ...                   ...       ...    ...\n",
              "50548  3.316625   9.949874              7.707140  7.071068      0\n",
              "50549  6.928203   4.472136              0.000000  6.000000      0\n",
              "50550  4.898979   5.291503              3.261901  6.928203      0\n",
              "50551  5.000000   3.872983              0.000000  6.000000      0\n",
              "50552  3.000000   4.472136              0.000000  7.681146      0\n",
              "\n",
              "[48536 rows x 5 columns]"
            ]
          },
          "metadata": {
            "tags": []
          },
          "execution_count": 211
        }
      ]
    },
    {
      "cell_type": "markdown",
      "metadata": {
        "id": "QJiKZwSN-pat"
      },
      "source": [
        "**Encoding of data**"
      ]
    },
    {
      "cell_type": "code",
      "metadata": {
        "id": "FJgd9RuRozSx"
      },
      "source": [
        "from sklearn.preprocessing import LabelEncoder\n",
        "for col in df_cat:\n",
        "    le = LabelEncoder()\n",
        "    df_cat[col] = le.fit_transform(df_cat[col])"
      ],
      "execution_count": null,
      "outputs": []
    },
    {
      "cell_type": "code",
      "metadata": {
        "colab": {
          "base_uri": "https://localhost:8080/",
          "height": 407
        },
        "id": "597ehtzIp4z3",
        "outputId": "69ec656f-acb7-4abe-f5b1-31f15d707acf"
      },
      "source": [
        "df_cat"
      ],
      "execution_count": null,
      "outputs": [
        {
          "output_type": "execute_result",
          "data": {
            "text/html": [
              "<div>\n",
              "<style scoped>\n",
              "    .dataframe tbody tr th:only-of-type {\n",
              "        vertical-align: middle;\n",
              "    }\n",
              "\n",
              "    .dataframe tbody tr th {\n",
              "        vertical-align: top;\n",
              "    }\n",
              "\n",
              "    .dataframe thead th {\n",
              "        text-align: right;\n",
              "    }\n",
              "</style>\n",
              "<table border=\"1\" class=\"dataframe\">\n",
              "  <thead>\n",
              "    <tr style=\"text-align: right;\">\n",
              "      <th></th>\n",
              "      <th>Agency</th>\n",
              "      <th>Agency Type</th>\n",
              "      <th>Distribution Channel</th>\n",
              "      <th>Product Name</th>\n",
              "      <th>Destination</th>\n",
              "    </tr>\n",
              "  </thead>\n",
              "  <tbody>\n",
              "    <tr>\n",
              "      <th>1</th>\n",
              "      <td>7</td>\n",
              "      <td>1</td>\n",
              "      <td>1</td>\n",
              "      <td>10</td>\n",
              "      <td>79</td>\n",
              "    </tr>\n",
              "    <tr>\n",
              "      <th>2</th>\n",
              "      <td>6</td>\n",
              "      <td>1</td>\n",
              "      <td>1</td>\n",
              "      <td>16</td>\n",
              "      <td>56</td>\n",
              "    </tr>\n",
              "    <tr>\n",
              "      <th>3</th>\n",
              "      <td>7</td>\n",
              "      <td>1</td>\n",
              "      <td>1</td>\n",
              "      <td>1</td>\n",
              "      <td>38</td>\n",
              "    </tr>\n",
              "    <tr>\n",
              "      <th>4</th>\n",
              "      <td>7</td>\n",
              "      <td>1</td>\n",
              "      <td>1</td>\n",
              "      <td>10</td>\n",
              "      <td>47</td>\n",
              "    </tr>\n",
              "    <tr>\n",
              "      <th>5</th>\n",
              "      <td>6</td>\n",
              "      <td>1</td>\n",
              "      <td>1</td>\n",
              "      <td>16</td>\n",
              "      <td>88</td>\n",
              "    </tr>\n",
              "    <tr>\n",
              "      <th>...</th>\n",
              "      <td>...</td>\n",
              "      <td>...</td>\n",
              "      <td>...</td>\n",
              "      <td>...</td>\n",
              "      <td>...</td>\n",
              "    </tr>\n",
              "    <tr>\n",
              "      <th>50548</th>\n",
              "      <td>6</td>\n",
              "      <td>1</td>\n",
              "      <td>1</td>\n",
              "      <td>16</td>\n",
              "      <td>65</td>\n",
              "    </tr>\n",
              "    <tr>\n",
              "      <th>50549</th>\n",
              "      <td>7</td>\n",
              "      <td>1</td>\n",
              "      <td>1</td>\n",
              "      <td>0</td>\n",
              "      <td>38</td>\n",
              "    </tr>\n",
              "    <tr>\n",
              "      <th>50550</th>\n",
              "      <td>10</td>\n",
              "      <td>1</td>\n",
              "      <td>1</td>\n",
              "      <td>24</td>\n",
              "      <td>38</td>\n",
              "    </tr>\n",
              "    <tr>\n",
              "      <th>50551</th>\n",
              "      <td>7</td>\n",
              "      <td>1</td>\n",
              "      <td>1</td>\n",
              "      <td>10</td>\n",
              "      <td>7</td>\n",
              "    </tr>\n",
              "    <tr>\n",
              "      <th>50552</th>\n",
              "      <td>7</td>\n",
              "      <td>1</td>\n",
              "      <td>1</td>\n",
              "      <td>0</td>\n",
              "      <td>79</td>\n",
              "    </tr>\n",
              "  </tbody>\n",
              "</table>\n",
              "<p>48536 rows × 5 columns</p>\n",
              "</div>"
            ],
            "text/plain": [
              "       Agency  Agency Type  Distribution Channel  Product Name  Destination\n",
              "1           7            1                     1            10           79\n",
              "2           6            1                     1            16           56\n",
              "3           7            1                     1             1           38\n",
              "4           7            1                     1            10           47\n",
              "5           6            1                     1            16           88\n",
              "...       ...          ...                   ...           ...          ...\n",
              "50548       6            1                     1            16           65\n",
              "50549       7            1                     1             0           38\n",
              "50550      10            1                     1            24           38\n",
              "50551       7            1                     1            10            7\n",
              "50552       7            1                     1             0           79\n",
              "\n",
              "[48536 rows x 5 columns]"
            ]
          },
          "metadata": {
            "tags": []
          },
          "execution_count": 213
        }
      ]
    },
    {
      "cell_type": "code",
      "metadata": {
        "id": "zIuMH40Ep88n"
      },
      "source": [
        "df_new=pd.concat([df_num,df_cat],axis=1)"
      ],
      "execution_count": null,
      "outputs": []
    },
    {
      "cell_type": "code",
      "metadata": {
        "colab": {
          "base_uri": "https://localhost:8080/",
          "height": 425
        },
        "id": "YPPJ_QYNqDIS",
        "outputId": "a8bfbeb4-9f58-4a4e-90a5-5de3fdbe921c"
      },
      "source": [
        "df_new"
      ],
      "execution_count": null,
      "outputs": [
        {
          "output_type": "execute_result",
          "data": {
            "text/html": [
              "<div>\n",
              "<style scoped>\n",
              "    .dataframe tbody tr th:only-of-type {\n",
              "        vertical-align: middle;\n",
              "    }\n",
              "\n",
              "    .dataframe tbody tr th {\n",
              "        vertical-align: top;\n",
              "    }\n",
              "\n",
              "    .dataframe thead th {\n",
              "        text-align: right;\n",
              "    }\n",
              "</style>\n",
              "<table border=\"1\" class=\"dataframe\">\n",
              "  <thead>\n",
              "    <tr style=\"text-align: right;\">\n",
              "      <th></th>\n",
              "      <th>Duration</th>\n",
              "      <th>Net Sales</th>\n",
              "      <th>Commision (in value)</th>\n",
              "      <th>Age</th>\n",
              "      <th>Claim</th>\n",
              "      <th>Agency</th>\n",
              "      <th>Agency Type</th>\n",
              "      <th>Distribution Channel</th>\n",
              "      <th>Product Name</th>\n",
              "      <th>Destination</th>\n",
              "    </tr>\n",
              "  </thead>\n",
              "  <tbody>\n",
              "    <tr>\n",
              "      <th>1</th>\n",
              "      <td>9.219544</td>\n",
              "      <td>8.306624</td>\n",
              "      <td>0.000000</td>\n",
              "      <td>6.000000</td>\n",
              "      <td>0</td>\n",
              "      <td>7</td>\n",
              "      <td>1</td>\n",
              "      <td>1</td>\n",
              "      <td>10</td>\n",
              "      <td>79</td>\n",
              "    </tr>\n",
              "    <tr>\n",
              "      <th>2</th>\n",
              "      <td>3.316625</td>\n",
              "      <td>4.449719</td>\n",
              "      <td>3.446738</td>\n",
              "      <td>8.660254</td>\n",
              "      <td>0</td>\n",
              "      <td>6</td>\n",
              "      <td>1</td>\n",
              "      <td>1</td>\n",
              "      <td>16</td>\n",
              "      <td>56</td>\n",
              "    </tr>\n",
              "    <tr>\n",
              "      <th>3</th>\n",
              "      <td>4.000000</td>\n",
              "      <td>4.472136</td>\n",
              "      <td>0.000000</td>\n",
              "      <td>5.656854</td>\n",
              "      <td>0</td>\n",
              "      <td>7</td>\n",
              "      <td>1</td>\n",
              "      <td>1</td>\n",
              "      <td>1</td>\n",
              "      <td>38</td>\n",
              "    </tr>\n",
              "    <tr>\n",
              "      <th>4</th>\n",
              "      <td>3.162278</td>\n",
              "      <td>3.872983</td>\n",
              "      <td>0.000000</td>\n",
              "      <td>5.385165</td>\n",
              "      <td>0</td>\n",
              "      <td>7</td>\n",
              "      <td>1</td>\n",
              "      <td>1</td>\n",
              "      <td>10</td>\n",
              "      <td>47</td>\n",
              "    </tr>\n",
              "    <tr>\n",
              "      <th>5</th>\n",
              "      <td>8.000000</td>\n",
              "      <td>7.035624</td>\n",
              "      <td>5.449771</td>\n",
              "      <td>6.000000</td>\n",
              "      <td>0</td>\n",
              "      <td>6</td>\n",
              "      <td>1</td>\n",
              "      <td>1</td>\n",
              "      <td>16</td>\n",
              "      <td>88</td>\n",
              "    </tr>\n",
              "    <tr>\n",
              "      <th>...</th>\n",
              "      <td>...</td>\n",
              "      <td>...</td>\n",
              "      <td>...</td>\n",
              "      <td>...</td>\n",
              "      <td>...</td>\n",
              "      <td>...</td>\n",
              "      <td>...</td>\n",
              "      <td>...</td>\n",
              "      <td>...</td>\n",
              "      <td>...</td>\n",
              "    </tr>\n",
              "    <tr>\n",
              "      <th>50548</th>\n",
              "      <td>3.316625</td>\n",
              "      <td>9.949874</td>\n",
              "      <td>7.707140</td>\n",
              "      <td>7.071068</td>\n",
              "      <td>0</td>\n",
              "      <td>6</td>\n",
              "      <td>1</td>\n",
              "      <td>1</td>\n",
              "      <td>16</td>\n",
              "      <td>65</td>\n",
              "    </tr>\n",
              "    <tr>\n",
              "      <th>50549</th>\n",
              "      <td>6.928203</td>\n",
              "      <td>4.472136</td>\n",
              "      <td>0.000000</td>\n",
              "      <td>6.000000</td>\n",
              "      <td>0</td>\n",
              "      <td>7</td>\n",
              "      <td>1</td>\n",
              "      <td>1</td>\n",
              "      <td>0</td>\n",
              "      <td>38</td>\n",
              "    </tr>\n",
              "    <tr>\n",
              "      <th>50550</th>\n",
              "      <td>4.898979</td>\n",
              "      <td>5.291503</td>\n",
              "      <td>3.261901</td>\n",
              "      <td>6.928203</td>\n",
              "      <td>0</td>\n",
              "      <td>10</td>\n",
              "      <td>1</td>\n",
              "      <td>1</td>\n",
              "      <td>24</td>\n",
              "      <td>38</td>\n",
              "    </tr>\n",
              "    <tr>\n",
              "      <th>50551</th>\n",
              "      <td>5.000000</td>\n",
              "      <td>3.872983</td>\n",
              "      <td>0.000000</td>\n",
              "      <td>6.000000</td>\n",
              "      <td>0</td>\n",
              "      <td>7</td>\n",
              "      <td>1</td>\n",
              "      <td>1</td>\n",
              "      <td>10</td>\n",
              "      <td>7</td>\n",
              "    </tr>\n",
              "    <tr>\n",
              "      <th>50552</th>\n",
              "      <td>3.000000</td>\n",
              "      <td>4.472136</td>\n",
              "      <td>0.000000</td>\n",
              "      <td>7.681146</td>\n",
              "      <td>0</td>\n",
              "      <td>7</td>\n",
              "      <td>1</td>\n",
              "      <td>1</td>\n",
              "      <td>0</td>\n",
              "      <td>79</td>\n",
              "    </tr>\n",
              "  </tbody>\n",
              "</table>\n",
              "<p>48536 rows × 10 columns</p>\n",
              "</div>"
            ],
            "text/plain": [
              "       Duration  Net Sales  ...  Product Name  Destination\n",
              "1      9.219544   8.306624  ...            10           79\n",
              "2      3.316625   4.449719  ...            16           56\n",
              "3      4.000000   4.472136  ...             1           38\n",
              "4      3.162278   3.872983  ...            10           47\n",
              "5      8.000000   7.035624  ...            16           88\n",
              "...         ...        ...  ...           ...          ...\n",
              "50548  3.316625   9.949874  ...            16           65\n",
              "50549  6.928203   4.472136  ...             0           38\n",
              "50550  4.898979   5.291503  ...            24           38\n",
              "50551  5.000000   3.872983  ...            10            7\n",
              "50552  3.000000   4.472136  ...             0           79\n",
              "\n",
              "[48536 rows x 10 columns]"
            ]
          },
          "metadata": {
            "tags": []
          },
          "execution_count": 215
        }
      ]
    },
    {
      "cell_type": "markdown",
      "metadata": {
        "id": "aOavBS-T-yF2"
      },
      "source": [
        "**Ploting Data for multicolinearity**"
      ]
    },
    {
      "cell_type": "code",
      "metadata": {
        "colab": {
          "base_uri": "https://localhost:8080/",
          "height": 648
        },
        "id": "Jvnv1AGkpHUI",
        "outputId": "32c4397e-0e7e-4bec-f75d-d9fbd72844ef"
      },
      "source": [
        "#ploting heatmap\n",
        "plt.show()\n",
        "plt.figure(figsize=(18,12))\n",
        "sns.heatmap(df_new.corr(),annot=True)"
      ],
      "execution_count": null,
      "outputs": [
        {
          "output_type": "execute_result",
          "data": {
            "text/plain": [
              "<matplotlib.axes._subplots.AxesSubplot at 0x7f94de18f050>"
            ]
          },
          "metadata": {
            "tags": []
          },
          "execution_count": 216
        },
        {
          "output_type": "display_data",
          "data": {
            "image/png": "[encoded data removed]",
            "text/plain": [
              "<Figure size 1296x864 with 2 Axes>"
            ]
          },
          "metadata": {
            "tags": [],
            "needs_background": "light"
          }
        }
      ]
    },
    {
      "cell_type": "markdown",
      "metadata": {
        "id": "EPT-zRJz-3Ir"
      },
      "source": [
        "**as we can see from fig there is multicolineaarity in between Commision (in value) and agancy**"
      ]
    },
    {
      "cell_type": "code",
      "metadata": {
        "id": "KnlgbPkmqlio"
      },
      "source": [
        "#Dropping Commision (in value)\tbecause it multicolinear with agancy\n",
        "df_new.drop(\"Commision (in value)\",axis=1,inplace=True)\n"
      ],
      "execution_count": null,
      "outputs": []
    },
    {
      "cell_type": "markdown",
      "metadata": {
        "id": "sFl-s1FH0UDp"
      },
      "source": [
        "**outliers Checking**"
      ]
    },
    {
      "cell_type": "code",
      "metadata": {
        "id": "R08L4U-y7pfB"
      },
      "source": [
        "#checking outliers in Net sales\n",
        "q1 =np.quantile(df_num[\"Net Sales\"],0.25)\n",
        "q2=np.quantile(df_num[\"Net Sales\"],0.50)\n",
        "q3=np.quantile(df_num[\"Net Sales\"],0.75)"
      ],
      "execution_count": null,
      "outputs": []
    },
    {
      "cell_type": "code",
      "metadata": {
        "colab": {
          "base_uri": "https://localhost:8080/"
        },
        "id": "VKalMSg47zGI",
        "outputId": "e1661dd8-4c48-453b-d20b-afff76e49176"
      },
      "source": [
        "print(q1,q2,q3)"
      ],
      "execution_count": null,
      "outputs": [
        {
          "output_type": "stream",
          "text": [
            "4.449719092257398 5.291502622129181 7.035623639735144\n"
          ],
          "name": "stdout"
        }
      ]
    },
    {
      "cell_type": "code",
      "metadata": {
        "colab": {
          "base_uri": "https://localhost:8080/"
        },
        "id": "YRHRh4Kt704m",
        "outputId": "86da8161-9caf-45b8-9af4-7c61ef4d2c77"
      },
      "source": [
        "IQR=q3-q1\n",
        "IQR"
      ],
      "execution_count": null,
      "outputs": [
        {
          "output_type": "execute_result",
          "data": {
            "text/plain": [
              "2.585904547477746"
            ]
          },
          "metadata": {
            "tags": []
          },
          "execution_count": 220
        }
      ]
    },
    {
      "cell_type": "code",
      "metadata": {
        "colab": {
          "base_uri": "https://localhost:8080/"
        },
        "id": "Hf8Y_fWd72hy",
        "outputId": "6f2c2147-a104-43f8-ae5f-aaa2d5201c80"
      },
      "source": [
        "UW= q3+1.5*IQR\n",
        "LW=q1-1.5*IQR\n",
        "print(UW,LW)"
      ],
      "execution_count": null,
      "outputs": [
        {
          "output_type": "stream",
          "text": [
            "10.914480460951763 0.5708622710407791\n"
          ],
          "name": "stdout"
        }
      ]
    },
    {
      "cell_type": "code",
      "metadata": {
        "colab": {
          "base_uri": "https://localhost:8080/",
          "height": 407
        },
        "id": "PGZbgCaf75DR",
        "outputId": "9be87fa3-7c08-4abd-8add-3c5058bb1453"
      },
      "source": [
        "df_num[df_num[\"Net Sales\"] > UW]"
      ],
      "execution_count": null,
      "outputs": [
        {
          "output_type": "execute_result",
          "data": {
            "text/html": [
              "<div>\n",
              "<style scoped>\n",
              "    .dataframe tbody tr th:only-of-type {\n",
              "        vertical-align: middle;\n",
              "    }\n",
              "\n",
              "    .dataframe tbody tr th {\n",
              "        vertical-align: top;\n",
              "    }\n",
              "\n",
              "    .dataframe thead th {\n",
              "        text-align: right;\n",
              "    }\n",
              "</style>\n",
              "<table border=\"1\" class=\"dataframe\">\n",
              "  <thead>\n",
              "    <tr style=\"text-align: right;\">\n",
              "      <th></th>\n",
              "      <th>Duration</th>\n",
              "      <th>Net Sales</th>\n",
              "      <th>Commision (in value)</th>\n",
              "      <th>Age</th>\n",
              "      <th>Claim</th>\n",
              "    </tr>\n",
              "  </thead>\n",
              "  <tbody>\n",
              "    <tr>\n",
              "      <th>64</th>\n",
              "      <td>19.646883</td>\n",
              "      <td>14.696938</td>\n",
              "      <td>7.348469</td>\n",
              "      <td>7.280110</td>\n",
              "      <td>0</td>\n",
              "    </tr>\n",
              "    <tr>\n",
              "      <th>99</th>\n",
              "      <td>19.364917</td>\n",
              "      <td>19.731954</td>\n",
              "      <td>9.866104</td>\n",
              "      <td>5.099020</td>\n",
              "      <td>0</td>\n",
              "    </tr>\n",
              "    <tr>\n",
              "      <th>111</th>\n",
              "      <td>20.760539</td>\n",
              "      <td>16.501515</td>\n",
              "      <td>8.251061</td>\n",
              "      <td>5.830952</td>\n",
              "      <td>1</td>\n",
              "    </tr>\n",
              "    <tr>\n",
              "      <th>188</th>\n",
              "      <td>8.306624</td>\n",
              "      <td>12.922848</td>\n",
              "      <td>7.645260</td>\n",
              "      <td>7.416198</td>\n",
              "      <td>0</td>\n",
              "    </tr>\n",
              "    <tr>\n",
              "      <th>202</th>\n",
              "      <td>11.618950</td>\n",
              "      <td>16.046807</td>\n",
              "      <td>8.023715</td>\n",
              "      <td>9.000000</td>\n",
              "      <td>1</td>\n",
              "    </tr>\n",
              "    <tr>\n",
              "      <th>...</th>\n",
              "      <td>...</td>\n",
              "      <td>...</td>\n",
              "      <td>...</td>\n",
              "      <td>...</td>\n",
              "      <td>...</td>\n",
              "    </tr>\n",
              "    <tr>\n",
              "      <th>50437</th>\n",
              "      <td>3.464102</td>\n",
              "      <td>11.789826</td>\n",
              "      <td>5.894913</td>\n",
              "      <td>7.348469</td>\n",
              "      <td>0</td>\n",
              "    </tr>\n",
              "    <tr>\n",
              "      <th>50466</th>\n",
              "      <td>19.949937</td>\n",
              "      <td>18.248288</td>\n",
              "      <td>9.124144</td>\n",
              "      <td>6.403124</td>\n",
              "      <td>0</td>\n",
              "    </tr>\n",
              "    <tr>\n",
              "      <th>50493</th>\n",
              "      <td>19.157244</td>\n",
              "      <td>12.688578</td>\n",
              "      <td>6.344289</td>\n",
              "      <td>7.071068</td>\n",
              "      <td>0</td>\n",
              "    </tr>\n",
              "    <tr>\n",
              "      <th>50513</th>\n",
              "      <td>19.104973</td>\n",
              "      <td>15.901258</td>\n",
              "      <td>7.950472</td>\n",
              "      <td>5.567764</td>\n",
              "      <td>0</td>\n",
              "    </tr>\n",
              "    <tr>\n",
              "      <th>50536</th>\n",
              "      <td>19.416488</td>\n",
              "      <td>15.901258</td>\n",
              "      <td>7.950472</td>\n",
              "      <td>7.874008</td>\n",
              "      <td>0</td>\n",
              "    </tr>\n",
              "  </tbody>\n",
              "</table>\n",
              "<p>2194 rows × 5 columns</p>\n",
              "</div>"
            ],
            "text/plain": [
              "        Duration  Net Sales  Commision (in value)       Age  Claim\n",
              "64     19.646883  14.696938              7.348469  7.280110      0\n",
              "99     19.364917  19.731954              9.866104  5.099020      0\n",
              "111    20.760539  16.501515              8.251061  5.830952      1\n",
              "188     8.306624  12.922848              7.645260  7.416198      0\n",
              "202    11.618950  16.046807              8.023715  9.000000      1\n",
              "...          ...        ...                   ...       ...    ...\n",
              "50437   3.464102  11.789826              5.894913  7.348469      0\n",
              "50466  19.949937  18.248288              9.124144  6.403124      0\n",
              "50493  19.157244  12.688578              6.344289  7.071068      0\n",
              "50513  19.104973  15.901258              7.950472  5.567764      0\n",
              "50536  19.416488  15.901258              7.950472  7.874008      0\n",
              "\n",
              "[2194 rows x 5 columns]"
            ]
          },
          "metadata": {
            "tags": []
          },
          "execution_count": 222
        }
      ]
    },
    {
      "cell_type": "code",
      "metadata": {
        "colab": {
          "base_uri": "https://localhost:8080/"
        },
        "id": "hOtvioiE7-g-",
        "outputId": "2cf6b96b-bb05-4681-c2a3-b455796713d4"
      },
      "source": [
        "#Duration\n",
        "q1 =np.quantile(df_new[\"Duration\"], 0.25)\n",
        "q2=np.quantile(df_new[\"Duration\"],0.50)\n",
        "q3=np.quantile(df_new[\"Duration\"],0.75)\n",
        "print(q1,q2,q3)"
      ],
      "execution_count": null,
      "outputs": [
        {
          "output_type": "stream",
          "text": [
            "3.0 4.69041575982343 7.211102550927978\n"
          ],
          "name": "stdout"
        }
      ]
    },
    {
      "cell_type": "code",
      "metadata": {
        "colab": {
          "base_uri": "https://localhost:8080/"
        },
        "id": "m7-C0xX88CHo",
        "outputId": "eb37f0fd-3a81-40d2-fd13-ffd482247b1a"
      },
      "source": [
        "IQR=q3-q1\n",
        "IQR"
      ],
      "execution_count": null,
      "outputs": [
        {
          "output_type": "execute_result",
          "data": {
            "text/plain": [
              "4.211102550927978"
            ]
          },
          "metadata": {
            "tags": []
          },
          "execution_count": 224
        }
      ]
    },
    {
      "cell_type": "code",
      "metadata": {
        "colab": {
          "base_uri": "https://localhost:8080/"
        },
        "id": "iqdUXytn8CJB",
        "outputId": "84fcfa6b-9679-4f19-9bf2-51f61648ffb0"
      },
      "source": [
        "UW= q3+1.5*IQR\n",
        "LW=q1-1.5*IQR\n",
        "print(UW,LW)"
      ],
      "execution_count": null,
      "outputs": [
        {
          "output_type": "stream",
          "text": [
            "13.527756377319946 -3.316653826391967\n"
          ],
          "name": "stdout"
        }
      ]
    },
    {
      "cell_type": "code",
      "metadata": {
        "colab": {
          "base_uri": "https://localhost:8080/",
          "height": 425
        },
        "id": "XgRWdCj38JqY",
        "outputId": "26256d27-c513-4f72-95c1-70f5c056da91"
      },
      "source": [
        "df_new[df_new[\"Duration\"] > UW]"
      ],
      "execution_count": null,
      "outputs": [
        {
          "output_type": "execute_result",
          "data": {
            "text/html": [
              "<div>\n",
              "<style scoped>\n",
              "    .dataframe tbody tr th:only-of-type {\n",
              "        vertical-align: middle;\n",
              "    }\n",
              "\n",
              "    .dataframe tbody tr th {\n",
              "        vertical-align: top;\n",
              "    }\n",
              "\n",
              "    .dataframe thead th {\n",
              "        text-align: right;\n",
              "    }\n",
              "</style>\n",
              "<table border=\"1\" class=\"dataframe\">\n",
              "  <thead>\n",
              "    <tr style=\"text-align: right;\">\n",
              "      <th></th>\n",
              "      <th>Duration</th>\n",
              "      <th>Net Sales</th>\n",
              "      <th>Age</th>\n",
              "      <th>Claim</th>\n",
              "      <th>Agency</th>\n",
              "      <th>Agency Type</th>\n",
              "      <th>Distribution Channel</th>\n",
              "      <th>Product Name</th>\n",
              "      <th>Destination</th>\n",
              "    </tr>\n",
              "  </thead>\n",
              "  <tbody>\n",
              "    <tr>\n",
              "      <th>18</th>\n",
              "      <td>15.491933</td>\n",
              "      <td>5.385165</td>\n",
              "      <td>5.099020</td>\n",
              "      <td>0</td>\n",
              "      <td>5</td>\n",
              "      <td>1</td>\n",
              "      <td>0</td>\n",
              "      <td>12</td>\n",
              "      <td>88</td>\n",
              "    </tr>\n",
              "    <tr>\n",
              "      <th>64</th>\n",
              "      <td>19.646883</td>\n",
              "      <td>14.696938</td>\n",
              "      <td>7.280110</td>\n",
              "      <td>0</td>\n",
              "      <td>2</td>\n",
              "      <td>0</td>\n",
              "      <td>1</td>\n",
              "      <td>4</td>\n",
              "      <td>79</td>\n",
              "    </tr>\n",
              "    <tr>\n",
              "      <th>99</th>\n",
              "      <td>19.364917</td>\n",
              "      <td>19.731954</td>\n",
              "      <td>5.099020</td>\n",
              "      <td>0</td>\n",
              "      <td>2</td>\n",
              "      <td>0</td>\n",
              "      <td>1</td>\n",
              "      <td>3</td>\n",
              "      <td>79</td>\n",
              "    </tr>\n",
              "    <tr>\n",
              "      <th>100</th>\n",
              "      <td>13.638182</td>\n",
              "      <td>6.557439</td>\n",
              "      <td>6.000000</td>\n",
              "      <td>0</td>\n",
              "      <td>7</td>\n",
              "      <td>1</td>\n",
              "      <td>1</td>\n",
              "      <td>1</td>\n",
              "      <td>17</td>\n",
              "    </tr>\n",
              "    <tr>\n",
              "      <th>111</th>\n",
              "      <td>20.760539</td>\n",
              "      <td>16.501515</td>\n",
              "      <td>5.830952</td>\n",
              "      <td>1</td>\n",
              "      <td>2</td>\n",
              "      <td>0</td>\n",
              "      <td>1</td>\n",
              "      <td>4</td>\n",
              "      <td>79</td>\n",
              "    </tr>\n",
              "    <tr>\n",
              "      <th>...</th>\n",
              "      <td>...</td>\n",
              "      <td>...</td>\n",
              "      <td>...</td>\n",
              "      <td>...</td>\n",
              "      <td>...</td>\n",
              "      <td>...</td>\n",
              "      <td>...</td>\n",
              "      <td>...</td>\n",
              "      <td>...</td>\n",
              "    </tr>\n",
              "    <tr>\n",
              "      <th>50493</th>\n",
              "      <td>19.157244</td>\n",
              "      <td>12.688578</td>\n",
              "      <td>7.071068</td>\n",
              "      <td>0</td>\n",
              "      <td>2</td>\n",
              "      <td>0</td>\n",
              "      <td>1</td>\n",
              "      <td>4</td>\n",
              "      <td>79</td>\n",
              "    </tr>\n",
              "    <tr>\n",
              "      <th>50513</th>\n",
              "      <td>19.104973</td>\n",
              "      <td>15.901258</td>\n",
              "      <td>5.567764</td>\n",
              "      <td>0</td>\n",
              "      <td>2</td>\n",
              "      <td>0</td>\n",
              "      <td>1</td>\n",
              "      <td>4</td>\n",
              "      <td>79</td>\n",
              "    </tr>\n",
              "    <tr>\n",
              "      <th>50525</th>\n",
              "      <td>16.309506</td>\n",
              "      <td>6.292853</td>\n",
              "      <td>6.403124</td>\n",
              "      <td>0</td>\n",
              "      <td>6</td>\n",
              "      <td>1</td>\n",
              "      <td>1</td>\n",
              "      <td>16</td>\n",
              "      <td>36</td>\n",
              "    </tr>\n",
              "    <tr>\n",
              "      <th>50536</th>\n",
              "      <td>19.416488</td>\n",
              "      <td>15.901258</td>\n",
              "      <td>7.874008</td>\n",
              "      <td>0</td>\n",
              "      <td>2</td>\n",
              "      <td>0</td>\n",
              "      <td>1</td>\n",
              "      <td>4</td>\n",
              "      <td>79</td>\n",
              "    </tr>\n",
              "    <tr>\n",
              "      <th>50546</th>\n",
              "      <td>13.784049</td>\n",
              "      <td>3.162278</td>\n",
              "      <td>6.000000</td>\n",
              "      <td>0</td>\n",
              "      <td>7</td>\n",
              "      <td>1</td>\n",
              "      <td>1</td>\n",
              "      <td>10</td>\n",
              "      <td>88</td>\n",
              "    </tr>\n",
              "  </tbody>\n",
              "</table>\n",
              "<p>2502 rows × 9 columns</p>\n",
              "</div>"
            ],
            "text/plain": [
              "        Duration  Net Sales  ...  Product Name  Destination\n",
              "18     15.491933   5.385165  ...            12           88\n",
              "64     19.646883  14.696938  ...             4           79\n",
              "99     19.364917  19.731954  ...             3           79\n",
              "100    13.638182   6.557439  ...             1           17\n",
              "111    20.760539  16.501515  ...             4           79\n",
              "...          ...        ...  ...           ...          ...\n",
              "50493  19.157244  12.688578  ...             4           79\n",
              "50513  19.104973  15.901258  ...             4           79\n",
              "50525  16.309506   6.292853  ...            16           36\n",
              "50536  19.416488  15.901258  ...             4           79\n",
              "50546  13.784049   3.162278  ...            10           88\n",
              "\n",
              "[2502 rows x 9 columns]"
            ]
          },
          "metadata": {
            "tags": []
          },
          "execution_count": 226
        }
      ]
    },
    {
      "cell_type": "markdown",
      "metadata": {
        "id": "sSzcuHby_Mff"
      },
      "source": [
        "**Lets Check the ration of Claim and Non Claim data**"
      ]
    },
    {
      "cell_type": "code",
      "metadata": {
        "id": "NPZ1G3sa3Jrd"
      },
      "source": [
        "LABELS = [\"Non_claim\",\"Clamin\"]"
      ],
      "execution_count": null,
      "outputs": []
    },
    {
      "cell_type": "code",
      "metadata": {
        "colab": {
          "base_uri": "https://localhost:8080/",
          "height": 315
        },
        "id": "KcDjGybU2evG",
        "outputId": "af460c79-d7e6-4b77-dfbc-87abdb841956"
      },
      "source": [
        "count_classes = pd.value_counts(df_new['Claim'], sort = True)\n",
        "\n",
        "count_classes.plot(kind = 'bar', rot=0)\n",
        "\n",
        "plt.title(\"Insurance Claim\")\n",
        "\n",
        "plt.xticks(range(2), LABELS)\n",
        "\n",
        "plt.xlabel(\"Claim\")\n",
        "\n",
        "plt.ylabel(\"Frequency\")"
      ],
      "execution_count": null,
      "outputs": [
        {
          "output_type": "execute_result",
          "data": {
            "text/plain": [
              "Text(0, 0.5, 'Frequency')"
            ]
          },
          "metadata": {
            "tags": []
          },
          "execution_count": 228
        },
        {
          "output_type": "display_data",
          "data": {
            "image/png": "[encoded data removed]",
            "text/plain": [
              "<Figure size 432x288 with 1 Axes>"
            ]
          },
          "metadata": {
            "tags": [],
            "needs_background": "light"
          }
        }
      ]
    },
    {
      "cell_type": "code",
      "metadata": {
        "colab": {
          "base_uri": "https://localhost:8080/",
          "height": 484
        },
        "id": "Pz6J3eW1zNjF",
        "outputId": "3e16a288-c2b2-4c32-a0e6-4a9a332c103e"
      },
      "source": [
        "print(df_new[\"Claim\"].value_counts())\n",
        "print(\"---------------------------------------------------\")\n",
        "plt.figure(figsize=(7,7))\n",
        "df[\"Claim\"].value_counts().plot.pie(autopct=\"%.1f%%\")\n",
        "plt.show()"
      ],
      "execution_count": null,
      "outputs": [
        {
          "output_type": "stream",
          "text": [
            "0    47798\n",
            "1      738\n",
            "Name: Claim, dtype: int64\n",
            "---------------------------------------------------\n"
          ],
          "name": "stdout"
        },
        {
          "output_type": "display_data",
          "data": {
            "image/png": "[encoded data removed]",
            "text/plain": [
              "<Figure size 504x504 with 1 Axes>"
            ]
          },
          "metadata": {
            "tags": []
          }
        }
      ]
    },
    {
      "cell_type": "code",
      "metadata": {
        "id": "zIExYZ0q6G-1"
      },
      "source": [
        "df_new=df_new.dropna()"
      ],
      "execution_count": null,
      "outputs": []
    },
    {
      "cell_type": "markdown",
      "metadata": {
        "id": "bjsqv2zd_VVq"
      },
      "source": [
        "**From above fig we can see there is huge inbalance data**\n"
      ]
    },
    {
      "cell_type": "code",
      "metadata": {
        "id": "nrfTXh3hqg-O"
      },
      "source": [
        "X = df_new.drop(\"Claim\",axis=1)\n",
        "y = df_new[\"Claim\"]"
      ],
      "execution_count": null,
      "outputs": []
    },
    {
      "cell_type": "markdown",
      "metadata": {
        "id": "lkeT13dy0rSj"
      },
      "source": [
        "**Base line model**"
      ]
    },
    {
      "cell_type": "markdown",
      "metadata": {
        "id": "6zXI83FNP0F8"
      },
      "source": [
        "**Filter Method -- Feature Selection**"
      ]
    },
    {
      "cell_type": "code",
      "metadata": {
        "id": "25Hboezjfmhw"
      },
      "source": [
        "from sklearn.model_selection import train_test_split\n",
        "X_train, X_test, y_train, y_test = train_test_split(X,y,test_size=0.3,random_state=1)"
      ],
      "execution_count": null,
      "outputs": []
    },
    {
      "cell_type": "code",
      "metadata": {
        "id": "fVy1XdioP1ZC"
      },
      "source": [
        "from sklearn.feature_selection import chi2\n",
        "from sklearn.feature_selection import f_classif\n",
        "from sklearn.feature_selection import SelectKBest\n",
        "fe=SelectKBest(score_func=chi2,k=5)\n",
        "X_train_fe=fe.fit_transform(X_train,y_train)\n",
        "X_test_fe=fe.transform(X_test)"
      ],
      "execution_count": null,
      "outputs": []
    },
    {
      "cell_type": "markdown",
      "metadata": {
        "id": "t9KNoycrQJ3_"
      },
      "source": [
        "**StandardScaler**"
      ]
    },
    {
      "cell_type": "code",
      "metadata": {
        "id": "7mxNi2miQL5x"
      },
      "source": [
        "from sklearn.preprocessing import StandardScaler\n",
        "ss=StandardScaler()\n"
      ],
      "execution_count": null,
      "outputs": []
    },
    {
      "cell_type": "code",
      "metadata": {
        "id": "XpNIym33QddG"
      },
      "source": [
        "X_train_ss=ss.fit_transform(X_train_fe)\n",
        "X_test_ss=ss.transform(X_test_fe)\n"
      ],
      "execution_count": null,
      "outputs": []
    },
    {
      "cell_type": "markdown",
      "metadata": {
        "id": "5QqGoznL_fS2"
      },
      "source": [
        "**Data imbalance Process**"
      ]
    },
    {
      "cell_type": "markdown",
      "metadata": {
        "id": "hWBoyXm20yqu"
      },
      "source": [
        "**We are doing Oversampling because undersampling required huge amount of data and chances of lossing data is high**"
      ]
    },
    {
      "cell_type": "markdown",
      "metadata": {
        "id": "KhweYyYZRaa1"
      },
      "source": [
        "**oversampling**"
      ]
    },
    {
      "cell_type": "code",
      "metadata": {
        "id": "KoXOkcrpQdjO"
      },
      "source": [
        "from imblearn.over_sampling import RandomOverSampler"
      ],
      "execution_count": null,
      "outputs": []
    },
    {
      "cell_type": "code",
      "metadata": {
        "colab": {
          "base_uri": "https://localhost:8080/"
        },
        "id": "OrLnC1VLQdlz",
        "outputId": "7d6d5942-6244-4890-fe13-5624a8e2033e"
      },
      "source": [
        "ros=RandomOverSampler(random_state=1)\n",
        "X_sample2 ,y_sample2=ros.fit_resample(X_train_ss,y_train)\n",
        "pd.Series(y_sample2).value_counts()\n"
      ],
      "execution_count": null,
      "outputs": [
        {
          "output_type": "execute_result",
          "data": {
            "text/plain": [
              "1    33452\n",
              "0    33452\n",
              "dtype: int64"
            ]
          },
          "metadata": {
            "tags": []
          },
          "execution_count": 237
        }
      ]
    },
    {
      "cell_type": "markdown",
      "metadata": {
        "id": "GUf-NeHGSEbQ"
      },
      "source": [
        "**Modeling Process**\n",
        "**Model-1 LogisticRegression**"
      ]
    },
    {
      "cell_type": "code",
      "metadata": {
        "id": "6lwoAqT6Qdns"
      },
      "source": [
        "from sklearn.linear_model import LogisticRegression"
      ],
      "execution_count": null,
      "outputs": []
    },
    {
      "cell_type": "code",
      "metadata": {
        "id": "HPAK7TluS6NT"
      },
      "source": [
        "lr1=LogisticRegression()"
      ],
      "execution_count": null,
      "outputs": []
    },
    {
      "cell_type": "code",
      "metadata": {
        "colab": {
          "base_uri": "https://localhost:8080/"
        },
        "id": "cKA346yhS6PX",
        "outputId": "b55e90c4-c37a-4b8e-dbf0-6001a8687c41"
      },
      "source": [
        "lr1.fit(X_sample2,y_sample2)"
      ],
      "execution_count": null,
      "outputs": [
        {
          "output_type": "execute_result",
          "data": {
            "text/plain": [
              "LogisticRegression(C=1.0, class_weight=None, dual=False, fit_intercept=True,\n",
              "                   intercept_scaling=1, l1_ratio=None, max_iter=100,\n",
              "                   multi_class='auto', n_jobs=None, penalty='l2',\n",
              "                   random_state=None, solver='lbfgs', tol=0.0001, verbose=0,\n",
              "                   warm_start=False)"
            ]
          },
          "metadata": {
            "tags": []
          },
          "execution_count": 240
        }
      ]
    },
    {
      "cell_type": "code",
      "metadata": {
        "id": "ItAgQ9z5TAqO"
      },
      "source": [
        "score=cross_val_score(lr1,X_sample2,y_sample2,cv=5)"
      ],
      "execution_count": null,
      "outputs": []
    },
    {
      "cell_type": "code",
      "metadata": {
        "colab": {
          "base_uri": "https://localhost:8080/"
        },
        "id": "Db5FSbfnTAsO",
        "outputId": "10c54012-ebc5-447b-ade7-5a71fd7a9344"
      },
      "source": [
        "score"
      ],
      "execution_count": null,
      "outputs": [
        {
          "output_type": "execute_result",
          "data": {
            "text/plain": [
              "array([0.74545998, 0.7423212 , 0.74105074, 0.74605784, 0.74185351])"
            ]
          },
          "metadata": {
            "tags": []
          },
          "execution_count": 242
        }
      ]
    },
    {
      "cell_type": "code",
      "metadata": {
        "id": "HNF637ROTIGn"
      },
      "source": [
        "y_pred1=lr1.predict(X_test_ss)"
      ],
      "execution_count": null,
      "outputs": []
    },
    {
      "cell_type": "code",
      "metadata": {
        "colab": {
          "base_uri": "https://localhost:8080/"
        },
        "id": "McqKyfPKTLv-",
        "outputId": "2ec88aeb-14bb-49fc-f5f3-2f1041fb43fa"
      },
      "source": [
        "print(classification_report(y_test,y_pred1))"
      ],
      "execution_count": null,
      "outputs": [
        {
          "output_type": "stream",
          "text": [
            "              precision    recall  f1-score   support\n",
            "\n",
            "           0       0.99      0.81      0.89     14346\n",
            "           1       0.05      0.67      0.09       215\n",
            "\n",
            "    accuracy                           0.81     14561\n",
            "   macro avg       0.52      0.74      0.49     14561\n",
            "weighted avg       0.98      0.81      0.88     14561\n",
            "\n"
          ],
          "name": "stdout"
        }
      ]
    },
    {
      "cell_type": "code",
      "metadata": {
        "colab": {
          "base_uri": "https://localhost:8080/",
          "height": 283
        },
        "id": "b7nvHpifTQgI",
        "outputId": "be4bc786-a978-42ca-f599-0c1244713765"
      },
      "source": [
        "mat1=confusion_matrix(y_test,y_pred1)\n",
        "sns.heatmap(mat1,square=True,fmt=\"d\",annot=True)"
      ],
      "execution_count": null,
      "outputs": [
        {
          "output_type": "execute_result",
          "data": {
            "text/plain": [
              "<matplotlib.axes._subplots.AxesSubplot at 0x7f94d35f3ad0>"
            ]
          },
          "metadata": {
            "tags": []
          },
          "execution_count": 245
        },
        {
          "output_type": "display_data",
          "data": {
            "image/png": "[encoded data removed]",
            "text/plain": [
              "<Figure size 432x288 with 2 Axes>"
            ]
          },
          "metadata": {
            "tags": [],
            "needs_background": "light"
          }
        }
      ]
    },
    {
      "cell_type": "markdown",
      "metadata": {
        "id": "QlaHX9jk1R9j"
      },
      "source": [
        "we can see our base model logistic regression give us acuracy of 81%"
      ]
    },
    {
      "cell_type": "markdown",
      "metadata": {
        "id": "oSgodipCTXq7"
      },
      "source": [
        "**roc_auc_score**"
      ]
    },
    {
      "cell_type": "code",
      "metadata": {
        "id": "9mU6WBdyTaa7"
      },
      "source": [
        "scores=lr1.predict_proba(X_test_ss)"
      ],
      "execution_count": null,
      "outputs": []
    },
    {
      "cell_type": "code",
      "metadata": {
        "colab": {
          "base_uri": "https://localhost:8080/"
        },
        "id": "uPh16M2mTagh",
        "outputId": "46628210-4c1f-4f69-e135-54abc1ab5c09"
      },
      "source": [
        "print(scores)"
      ],
      "execution_count": null,
      "outputs": [
        {
          "output_type": "stream",
          "text": [
            "[[0.79548903 0.20451097]\n",
            " [0.79810906 0.20189094]\n",
            " [0.09097915 0.90902085]\n",
            " ...\n",
            " [0.45407006 0.54592994]\n",
            " [0.69544252 0.30455748]\n",
            " [0.19179342 0.80820658]]\n"
          ],
          "name": "stdout"
        }
      ]
    },
    {
      "cell_type": "code",
      "metadata": {
        "colab": {
          "base_uri": "https://localhost:8080/"
        },
        "id": "5YGreMX6Tato",
        "outputId": "c7910235-8cf0-49af-9513-a04734b265fe"
      },
      "source": [
        "roc_auc_score(y_test,y_pred1)"
      ],
      "execution_count": null,
      "outputs": [
        {
          "output_type": "execute_result",
          "data": {
            "text/plain": [
              "0.743176122345099"
            ]
          },
          "metadata": {
            "tags": []
          },
          "execution_count": 248
        }
      ]
    },
    {
      "cell_type": "code",
      "metadata": {
        "colab": {
          "base_uri": "https://localhost:8080/",
          "height": 283
        },
        "id": "g0HwftQWTawB",
        "outputId": "40faf963-ca60-42f5-fedf-bfebe74716fa"
      },
      "source": [
        "mat1=confusion_matrix(y_test,y_pred1)\n",
        "sns.heatmap(mat1,square=True,fmt=\"d\",annot=True)"
      ],
      "execution_count": null,
      "outputs": [
        {
          "output_type": "execute_result",
          "data": {
            "text/plain": [
              "<matplotlib.axes._subplots.AxesSubplot at 0x7f94d11c2450>"
            ]
          },
          "metadata": {
            "tags": []
          },
          "execution_count": 249
        },
        {
          "output_type": "display_data",
          "data": {
            "image/png": "[encoded data removed]",
            "text/plain": [
              "<Figure size 432x288 with 2 Axes>"
            ]
          },
          "metadata": {
            "tags": [],
            "needs_background": "light"
          }
        }
      ]
    },
    {
      "cell_type": "markdown",
      "metadata": {
        "id": "PF3Wze7CTtg0"
      },
      "source": [
        "**Model 2= DecisionTreeClassifie**"
      ]
    },
    {
      "cell_type": "code",
      "metadata": {
        "id": "L_Db5XlCTxYO"
      },
      "source": [
        "dt1=DecisionTreeClassifier( max_depth=10, min_samples_leaf=35)"
      ],
      "execution_count": null,
      "outputs": []
    },
    {
      "cell_type": "code",
      "metadata": {
        "colab": {
          "base_uri": "https://localhost:8080/"
        },
        "id": "AkSzMPv_TxbC",
        "outputId": "3205a78f-17ff-4e1e-fa1e-90fe37ad640f"
      },
      "source": [
        "dt1.fit(X_sample2,y_sample2)"
      ],
      "execution_count": null,
      "outputs": [
        {
          "output_type": "execute_result",
          "data": {
            "text/plain": [
              "DecisionTreeClassifier(ccp_alpha=0.0, class_weight=None, criterion='gini',\n",
              "                       max_depth=10, max_features=None, max_leaf_nodes=None,\n",
              "                       min_impurity_decrease=0.0, min_impurity_split=None,\n",
              "                       min_samples_leaf=35, min_samples_split=2,\n",
              "                       min_weight_fraction_leaf=0.0, presort='deprecated',\n",
              "                       random_state=None, splitter='best')"
            ]
          },
          "metadata": {
            "tags": []
          },
          "execution_count": 251
        }
      ]
    },
    {
      "cell_type": "code",
      "metadata": {
        "id": "oZIzvTmuTxeR"
      },
      "source": [
        "score=cross_val_score(dt1,X_sample2,y_sample2,cv=5)"
      ],
      "execution_count": null,
      "outputs": []
    },
    {
      "cell_type": "code",
      "metadata": {
        "colab": {
          "base_uri": "https://localhost:8080/"
        },
        "id": "c1uJOcLjTxir",
        "outputId": "71087a3f-3c8c-4a41-eae3-37885e455e4a"
      },
      "source": [
        "score"
      ],
      "execution_count": null,
      "outputs": [
        {
          "output_type": "execute_result",
          "data": {
            "text/plain": [
              "array([0.80935655, 0.81787609, 0.8121964 , 0.82848815, 0.81083707])"
            ]
          },
          "metadata": {
            "tags": []
          },
          "execution_count": 253
        }
      ]
    },
    {
      "cell_type": "code",
      "metadata": {
        "id": "qcy-LDTcTxmA"
      },
      "source": [
        "y_pred3=dt1.predict(X_test_ss)\n"
      ],
      "execution_count": null,
      "outputs": []
    },
    {
      "cell_type": "code",
      "metadata": {
        "colab": {
          "base_uri": "https://localhost:8080/"
        },
        "id": "qf9Occs_TxoX",
        "outputId": "7aacdfae-b331-4a30-a970-4d83323ed0c2"
      },
      "source": [
        "print(classification_report(y_test,y_pred3))"
      ],
      "execution_count": null,
      "outputs": [
        {
          "output_type": "stream",
          "text": [
            "              precision    recall  f1-score   support\n",
            "\n",
            "           0       0.99      0.84      0.91     14346\n",
            "           1       0.05      0.59      0.09       215\n",
            "\n",
            "    accuracy                           0.83     14561\n",
            "   macro avg       0.52      0.71      0.50     14561\n",
            "weighted avg       0.98      0.83      0.90     14561\n",
            "\n"
          ],
          "name": "stdout"
        }
      ]
    },
    {
      "cell_type": "markdown",
      "metadata": {
        "id": "Osw7_I0c2VIf"
      },
      "source": [
        "**From above fig we can see our model accuracy with gimi index is 83%**\n",
        "\n"
      ]
    },
    {
      "cell_type": "code",
      "metadata": {
        "colab": {
          "base_uri": "https://localhost:8080/",
          "height": 287
        },
        "id": "L-2_updsULI8",
        "outputId": "5fd4a345-8e45-4f41-daa0-ccad2b00db04"
      },
      "source": [
        "mat3=confusion_matrix(y_test,y_pred3)\n",
        "sns.heatmap(mat3,square=True,fmt=\"d\",annot=True)"
      ],
      "execution_count": null,
      "outputs": [
        {
          "output_type": "execute_result",
          "data": {
            "text/plain": [
              "<matplotlib.axes._subplots.AxesSubplot at 0x7f94d0f000d0>"
            ]
          },
          "metadata": {
            "tags": []
          },
          "execution_count": 256
        },
        {
          "output_type": "display_data",
          "data": {
            "image/png": "[encoded data removed]",
            "text/plain": [
              "<Figure size 432x288 with 2 Axes>"
            ]
          },
          "metadata": {
            "tags": [],
            "needs_background": "light"
          }
        }
      ]
    },
    {
      "cell_type": "markdown",
      "metadata": {
        "id": "nR_VNCTzUPjx"
      },
      "source": [
        "**roc_auc_score**"
      ]
    },
    {
      "cell_type": "code",
      "metadata": {
        "id": "8fytMtZhURTj"
      },
      "source": [
        "scores=dt1.predict_proba(X_test_ss)"
      ],
      "execution_count": null,
      "outputs": []
    },
    {
      "cell_type": "code",
      "metadata": {
        "colab": {
          "base_uri": "https://localhost:8080/"
        },
        "id": "XOPA9FsXUX-E",
        "outputId": "733b71ac-c936-487e-f5b5-2dce61d402f5"
      },
      "source": [
        "print(scores)"
      ],
      "execution_count": null,
      "outputs": [
        {
          "output_type": "stream",
          "text": [
            "[[1.         0.        ]\n",
            " [1.         0.        ]\n",
            " [0.12284562 0.87715438]\n",
            " ...\n",
            " [1.         0.        ]\n",
            " [1.         0.        ]\n",
            " [0.13620267 0.86379733]]\n"
          ],
          "name": "stdout"
        }
      ]
    },
    {
      "cell_type": "code",
      "metadata": {
        "colab": {
          "base_uri": "https://localhost:8080/"
        },
        "id": "TPslDNumUbPW",
        "outputId": "f7bef62e-4aca-44f2-a4d9-9fb08741f336"
      },
      "source": [
        "roc_auc_score(y_test,y_pred3)"
      ],
      "execution_count": null,
      "outputs": [
        {
          "output_type": "execute_result",
          "data": {
            "text/plain": [
              "0.7140718261957794"
            ]
          },
          "metadata": {
            "tags": []
          },
          "execution_count": 259
        }
      ]
    },
    {
      "cell_type": "markdown",
      "metadata": {
        "id": "9xk1sjYlUiKX"
      },
      "source": [
        ""
      ]
    },
    {
      "cell_type": "markdown",
      "metadata": {
        "id": "-4Ik6n5tUiNH"
      },
      "source": [
        "**Decesion tree with (criterion=\"entropy\")**"
      ]
    },
    {
      "cell_type": "code",
      "metadata": {
        "id": "GdNn2JbVUpC_"
      },
      "source": [
        "dt3=DecisionTreeClassifier(criterion=\"entropy\", max_depth=25, min_samples_leaf=30)"
      ],
      "execution_count": null,
      "outputs": []
    },
    {
      "cell_type": "code",
      "metadata": {
        "colab": {
          "base_uri": "https://localhost:8080/"
        },
        "id": "0DYBxiWuUrw2",
        "outputId": "66bd9d2d-51ce-476d-a157-7adc0e15adc7"
      },
      "source": [
        "dt3.fit(X_sample2,y_sample2)"
      ],
      "execution_count": null,
      "outputs": [
        {
          "output_type": "execute_result",
          "data": {
            "text/plain": [
              "DecisionTreeClassifier(ccp_alpha=0.0, class_weight=None, criterion='entropy',\n",
              "                       max_depth=25, max_features=None, max_leaf_nodes=None,\n",
              "                       min_impurity_decrease=0.0, min_impurity_split=None,\n",
              "                       min_samples_leaf=30, min_samples_split=2,\n",
              "                       min_weight_fraction_leaf=0.0, presort='deprecated',\n",
              "                       random_state=None, splitter='best')"
            ]
          },
          "metadata": {
            "tags": []
          },
          "execution_count": 261
        }
      ]
    },
    {
      "cell_type": "code",
      "metadata": {
        "id": "8W1DTGJ-Uu2w"
      },
      "source": [
        "score=cross_val_score(dt3,X_sample2,y_sample2,cv=5)"
      ],
      "execution_count": null,
      "outputs": []
    },
    {
      "cell_type": "code",
      "metadata": {
        "colab": {
          "base_uri": "https://localhost:8080/"
        },
        "id": "ISCtDOrcUy1k",
        "outputId": "a380ebb1-e7d4-40fd-d791-c967ae44ed82"
      },
      "source": [
        "score"
      ],
      "execution_count": null,
      "outputs": [
        {
          "output_type": "execute_result",
          "data": {
            "text/plain": [
              "array([0.91248786, 0.90934908, 0.91293625, 0.9062103 , 0.90814649])"
            ]
          },
          "metadata": {
            "tags": []
          },
          "execution_count": 263
        }
      ]
    },
    {
      "cell_type": "code",
      "metadata": {
        "id": "UQ1twrjFU1HQ"
      },
      "source": [
        "y_pred5=dt3.predict(X_test_ss)"
      ],
      "execution_count": null,
      "outputs": []
    },
    {
      "cell_type": "code",
      "metadata": {
        "colab": {
          "base_uri": "https://localhost:8080/"
        },
        "id": "Eto6rvpvU4kY",
        "outputId": "5671969d-446a-4275-faef-979b70950398"
      },
      "source": [
        "print(classification_report(y_test,y_pred5))"
      ],
      "execution_count": null,
      "outputs": [
        {
          "output_type": "stream",
          "text": [
            "              precision    recall  f1-score   support\n",
            "\n",
            "           0       0.99      0.84      0.91     14346\n",
            "           1       0.05      0.51      0.08       215\n",
            "\n",
            "    accuracy                           0.84     14561\n",
            "   macro avg       0.52      0.68      0.50     14561\n",
            "weighted avg       0.98      0.84      0.90     14561\n",
            "\n"
          ],
          "name": "stdout"
        }
      ]
    },
    {
      "cell_type": "markdown",
      "metadata": {
        "id": "pr9PwiGH2noM"
      },
      "source": [
        "**From above fig we can see our model accuracy with  entropy is 84%**"
      ]
    },
    {
      "cell_type": "code",
      "metadata": {
        "colab": {
          "base_uri": "https://localhost:8080/",
          "height": 286
        },
        "id": "14oi6ohSU8vC",
        "outputId": "e22e2757-ddc6-45ee-df69-852b7f1baa21"
      },
      "source": [
        "mat5=confusion_matrix(y_test,y_pred5)\n",
        "sns.heatmap(mat5,square=True,annot=True,fmt='d')"
      ],
      "execution_count": null,
      "outputs": [
        {
          "output_type": "execute_result",
          "data": {
            "text/plain": [
              "<matplotlib.axes._subplots.AxesSubplot at 0x7f94d1278410>"
            ]
          },
          "metadata": {
            "tags": []
          },
          "execution_count": 266
        },
        {
          "output_type": "display_data",
          "data": {
            "image/png": "[encoded data removed]",
            "text/plain": [
              "<Figure size 432x288 with 2 Axes>"
            ]
          },
          "metadata": {
            "tags": [],
            "needs_background": "light"
          }
        }
      ]
    },
    {
      "cell_type": "code",
      "metadata": {
        "colab": {
          "base_uri": "https://localhost:8080/"
        },
        "id": "J4rw4yHLVHCL",
        "outputId": "231227c2-edb9-423f-83e5-a543f6f4e9d8"
      },
      "source": [
        "scores=dt3.predict_proba(X_test_ss)\n",
        "print(scores)"
      ],
      "execution_count": null,
      "outputs": [
        {
          "output_type": "stream",
          "text": [
            "[[1.         0.        ]\n",
            " [1.         0.        ]\n",
            " [0.12418301 0.87581699]\n",
            " ...\n",
            " [1.         0.        ]\n",
            " [1.         0.        ]\n",
            " [0.27586207 0.72413793]]\n"
          ],
          "name": "stdout"
        }
      ]
    },
    {
      "cell_type": "code",
      "metadata": {
        "colab": {
          "base_uri": "https://localhost:8080/"
        },
        "id": "puB5zVZ3VHE1",
        "outputId": "fdeaffdc-311a-489d-8ab5-55c2074f23b8"
      },
      "source": [
        "y_test.value_counts()"
      ],
      "execution_count": null,
      "outputs": [
        {
          "output_type": "execute_result",
          "data": {
            "text/plain": [
              "0    14346\n",
              "1      215\n",
              "Name: Claim, dtype: int64"
            ]
          },
          "metadata": {
            "tags": []
          },
          "execution_count": 268
        }
      ]
    },
    {
      "cell_type": "code",
      "metadata": {
        "colab": {
          "base_uri": "https://localhost:8080/"
        },
        "id": "L8RwtE6RVHHe",
        "outputId": "4746a4bd-0e4c-41e5-97b2-6431e7be6894"
      },
      "source": [
        "roc_auc_score(y_test,y_pred5)"
      ],
      "execution_count": null,
      "outputs": [
        {
          "output_type": "execute_result",
          "data": {
            "text/plain": [
              "0.6765584118739848"
            ]
          },
          "metadata": {
            "tags": []
          },
          "execution_count": 269
        }
      ]
    },
    {
      "cell_type": "markdown",
      "metadata": {
        "id": "vyHrST1iVXC3"
      },
      "source": [
        "**Model 3== RandomForestClassifier**"
      ]
    },
    {
      "cell_type": "code",
      "metadata": {
        "id": "TJgeJymwVHKA"
      },
      "source": [
        "rfc1=RandomForestClassifier(n_estimators=100,random_state=1)"
      ],
      "execution_count": null,
      "outputs": []
    },
    {
      "cell_type": "code",
      "metadata": {
        "colab": {
          "base_uri": "https://localhost:8080/"
        },
        "id": "HKCwEe6tVHMU",
        "outputId": "d028365e-d3d0-48ec-f885-b0a5715d5051"
      },
      "source": [
        "rfc1.fit(X_sample2,y_sample2)"
      ],
      "execution_count": null,
      "outputs": [
        {
          "output_type": "execute_result",
          "data": {
            "text/plain": [
              "RandomForestClassifier(bootstrap=True, ccp_alpha=0.0, class_weight=None,\n",
              "                       criterion='gini', max_depth=None, max_features='auto',\n",
              "                       max_leaf_nodes=None, max_samples=None,\n",
              "                       min_impurity_decrease=0.0, min_impurity_split=None,\n",
              "                       min_samples_leaf=1, min_samples_split=2,\n",
              "                       min_weight_fraction_leaf=0.0, n_estimators=100,\n",
              "                       n_jobs=None, oob_score=False, random_state=1, verbose=0,\n",
              "                       warm_start=False)"
            ]
          },
          "metadata": {
            "tags": []
          },
          "execution_count": 271
        }
      ]
    },
    {
      "cell_type": "code",
      "metadata": {
        "id": "k3F6zxOKVHO4"
      },
      "source": [
        "score=cross_val_score(rfc1,X_sample2,y_sample2,cv=5)"
      ],
      "execution_count": null,
      "outputs": []
    },
    {
      "cell_type": "code",
      "metadata": {
        "colab": {
          "base_uri": "https://localhost:8080/"
        },
        "id": "4D18nfdBVrE4",
        "outputId": "a8ae0b01-9ad2-4d00-cc7e-45cb91c97fb6"
      },
      "source": [
        "score"
      ],
      "execution_count": null,
      "outputs": [
        {
          "output_type": "execute_result",
          "data": {
            "text/plain": [
              "array([0.97967267, 0.98116733, 0.98251252, 0.98027053, 0.97944694])"
            ]
          },
          "metadata": {
            "tags": []
          },
          "execution_count": 273
        }
      ]
    },
    {
      "cell_type": "code",
      "metadata": {
        "id": "qajrLW1lVxcs"
      },
      "source": [
        "y_pred7=rfc1.predict(X_test_ss)"
      ],
      "execution_count": null,
      "outputs": []
    },
    {
      "cell_type": "code",
      "metadata": {
        "colab": {
          "base_uri": "https://localhost:8080/"
        },
        "id": "xq9uPi-DV0ZQ",
        "outputId": "409f53e3-d93f-4605-a932-0f862943bf60"
      },
      "source": [
        "print(classification_report(y_test,y_pred7))"
      ],
      "execution_count": null,
      "outputs": [
        {
          "output_type": "stream",
          "text": [
            "              precision    recall  f1-score   support\n",
            "\n",
            "           0       0.99      0.96      0.98     14346\n",
            "           1       0.08      0.23      0.12       215\n",
            "\n",
            "    accuracy                           0.95     14561\n",
            "   macro avg       0.54      0.60      0.55     14561\n",
            "weighted avg       0.97      0.95      0.96     14561\n",
            "\n"
          ],
          "name": "stdout"
        }
      ]
    },
    {
      "cell_type": "code",
      "metadata": {
        "id": "0q1w28CX-tHl"
      },
      "source": [
        ""
      ],
      "execution_count": null,
      "outputs": []
    },
    {
      "cell_type": "markdown",
      "metadata": {
        "id": "yme5nL6s20bM"
      },
      "source": [
        ""
      ]
    },
    {
      "cell_type": "markdown",
      "metadata": {
        "id": "esg8Px2C20e8"
      },
      "source": [
        "**From above fig we can see our Random model accuracy  is 95%**"
      ]
    },
    {
      "cell_type": "code",
      "metadata": {
        "colab": {
          "base_uri": "https://localhost:8080/",
          "height": 283
        },
        "id": "HT8hcTb3V7Hn",
        "outputId": "6db7581f-0152-4663-f205-be784be5a0ca"
      },
      "source": [
        "mat7=confusion_matrix(y_test,y_pred7)\n",
        "sns.heatmap(mat7,square=True,annot=True,fmt='d')\n",
        "\n"
      ],
      "execution_count": null,
      "outputs": [
        {
          "output_type": "execute_result",
          "data": {
            "text/plain": [
              "<matplotlib.axes._subplots.AxesSubplot at 0x7f94d12bd5d0>"
            ]
          },
          "metadata": {
            "tags": []
          },
          "execution_count": 276
        },
        {
          "output_type": "display_data",
          "data": {
            "image/png": "[encoded data removed]",
            "text/plain": [
              "<Figure size 432x288 with 2 Axes>"
            ]
          },
          "metadata": {
            "tags": [],
            "needs_background": "light"
          }
        }
      ]
    },
    {
      "cell_type": "code",
      "metadata": {
        "id": "ocZSaINUWEOR"
      },
      "source": [
        "scores=rfc1.predict_proba(X_test_ss)"
      ],
      "execution_count": null,
      "outputs": []
    },
    {
      "cell_type": "code",
      "metadata": {
        "colab": {
          "base_uri": "https://localhost:8080/"
        },
        "id": "zLQxjBfVWIB2",
        "outputId": "baa6619c-a075-47ef-efd6-d774a7b38cfc"
      },
      "source": [
        "print(scores)"
      ],
      "execution_count": null,
      "outputs": [
        {
          "output_type": "stream",
          "text": [
            "[[1.         0.        ]\n",
            " [1.         0.        ]\n",
            " [0.09003336 0.90996664]\n",
            " ...\n",
            " [0.71394866 0.28605134]\n",
            " [1.         0.        ]\n",
            " [0.99       0.01      ]]\n"
          ],
          "name": "stdout"
        }
      ]
    },
    {
      "cell_type": "code",
      "metadata": {
        "colab": {
          "base_uri": "https://localhost:8080/"
        },
        "id": "JroDf_ATWLAc",
        "outputId": "73e4a1c6-e9a0-4983-f268-178f4aaa6503"
      },
      "source": [
        "roc_auc_score(y_test,y_pred7)"
      ],
      "execution_count": null,
      "outputs": [
        {
          "output_type": "execute_result",
          "data": {
            "text/plain": [
              "0.5974933455237502"
            ]
          },
          "metadata": {
            "tags": []
          },
          "execution_count": 279
        }
      ]
    },
    {
      "cell_type": "markdown",
      "metadata": {
        "id": "hsUzjAXvWQR2"
      },
      "source": [
        "**Model 4 Gradient Boosting**"
      ]
    },
    {
      "cell_type": "code",
      "metadata": {
        "id": "kljgXTXzWWfG"
      },
      "source": [
        "from sklearn.ensemble import GradientBoostingClassifier\n",
        "gb1=GradientBoostingClassifier()"
      ],
      "execution_count": null,
      "outputs": []
    },
    {
      "cell_type": "code",
      "metadata": {
        "colab": {
          "base_uri": "https://localhost:8080/"
        },
        "id": "s2FPwiVGWjdX",
        "outputId": "61843e4f-a7f4-4780-f603-25e1709cc561"
      },
      "source": [
        "gb1.fit(X_sample2,y_sample2)"
      ],
      "execution_count": null,
      "outputs": [
        {
          "output_type": "execute_result",
          "data": {
            "text/plain": [
              "GradientBoostingClassifier(ccp_alpha=0.0, criterion='friedman_mse', init=None,\n",
              "                           learning_rate=0.1, loss='deviance', max_depth=3,\n",
              "                           max_features=None, max_leaf_nodes=None,\n",
              "                           min_impurity_decrease=0.0, min_impurity_split=None,\n",
              "                           min_samples_leaf=1, min_samples_split=2,\n",
              "                           min_weight_fraction_leaf=0.0, n_estimators=100,\n",
              "                           n_iter_no_change=None, presort='deprecated',\n",
              "                           random_state=None, subsample=1.0, tol=0.0001,\n",
              "                           validation_fraction=0.1, verbose=0,\n",
              "                           warm_start=False)"
            ]
          },
          "metadata": {
            "tags": []
          },
          "execution_count": 281
        }
      ]
    },
    {
      "cell_type": "code",
      "metadata": {
        "id": "OWXe9obQWn0C"
      },
      "source": [
        "score=cross_val_score(gb1,X_sample2,y_sample2,cv=5)"
      ],
      "execution_count": null,
      "outputs": []
    },
    {
      "cell_type": "code",
      "metadata": {
        "colab": {
          "base_uri": "https://localhost:8080/"
        },
        "id": "f5lQ_KGGWsa5",
        "outputId": "4109bd10-690e-4821-d83c-a0586178a891"
      },
      "source": [
        "score"
      ],
      "execution_count": null,
      "outputs": [
        {
          "output_type": "execute_result",
          "data": {
            "text/plain": [
              "array([0.7871609 , 0.78028548, 0.78596517, 0.78902922, 0.79005979])"
            ]
          },
          "metadata": {
            "tags": []
          },
          "execution_count": 283
        }
      ]
    },
    {
      "cell_type": "code",
      "metadata": {
        "id": "ALGlGTqnW2Zg"
      },
      "source": [
        "y_pred9=gb1.predict(X_test_ss)"
      ],
      "execution_count": null,
      "outputs": []
    },
    {
      "cell_type": "code",
      "metadata": {
        "colab": {
          "base_uri": "https://localhost:8080/"
        },
        "id": "-BsPbudnW4qf",
        "outputId": "a8c9fa52-6258-4e20-99f1-865a3f28ab9d"
      },
      "source": [
        "print(classification_report(y_test,y_pred9))"
      ],
      "execution_count": null,
      "outputs": [
        {
          "output_type": "stream",
          "text": [
            "              precision    recall  f1-score   support\n",
            "\n",
            "           0       0.99      0.82      0.90     14346\n",
            "           1       0.05      0.67      0.10       215\n",
            "\n",
            "    accuracy                           0.82     14561\n",
            "   macro avg       0.52      0.74      0.50     14561\n",
            "weighted avg       0.98      0.82      0.89     14561\n",
            "\n"
          ],
          "name": "stdout"
        }
      ]
    },
    {
      "cell_type": "markdown",
      "metadata": {
        "id": "NhuUI_dR3Oa6"
      },
      "source": [
        "**From above fig we cn see our model accuracy with gimi index is 82%**"
      ]
    },
    {
      "cell_type": "code",
      "metadata": {
        "colab": {
          "base_uri": "https://localhost:8080/",
          "height": 283
        },
        "id": "tFKORN75W8Xu",
        "outputId": "e2caea14-f46d-4263-89c0-63d8884bc829"
      },
      "source": [
        "mat9=confusion_matrix(y_test,y_pred9)\n",
        "sns.heatmap(mat9,square=True,annot=True,fmt='d')\n"
      ],
      "execution_count": null,
      "outputs": [
        {
          "output_type": "execute_result",
          "data": {
            "text/plain": [
              "<matplotlib.axes._subplots.AxesSubplot at 0x7f94d16cf2d0>"
            ]
          },
          "metadata": {
            "tags": []
          },
          "execution_count": 286
        },
        {
          "output_type": "display_data",
          "data": {
            "image/png": "[encoded data removed]",
            "text/plain": [
              "<Figure size 432x288 with 2 Axes>"
            ]
          },
          "metadata": {
            "tags": [],
            "needs_background": "light"
          }
        }
      ]
    },
    {
      "cell_type": "markdown",
      "metadata": {
        "id": "SammOMG0XCpT"
      },
      "source": [
        "**roc_auc_score**"
      ]
    },
    {
      "cell_type": "code",
      "metadata": {
        "id": "YHYXgkxuXGA5"
      },
      "source": [
        "scores=gb1.predict_proba(X_test_ss)"
      ],
      "execution_count": null,
      "outputs": []
    },
    {
      "cell_type": "code",
      "metadata": {
        "colab": {
          "base_uri": "https://localhost:8080/"
        },
        "id": "btj0nL3rXJ1Y",
        "outputId": "2250dfd7-9e1a-4659-f60b-bcf879e746e9"
      },
      "source": [
        "print(scores)"
      ],
      "execution_count": null,
      "outputs": [
        {
          "output_type": "stream",
          "text": [
            "[[0.91943705 0.08056295]\n",
            " [0.83979365 0.16020635]\n",
            " [0.12315918 0.87684082]\n",
            " ...\n",
            " [0.41687725 0.58312275]\n",
            " [0.64941052 0.35058948]\n",
            " [0.13712463 0.86287537]]\n"
          ],
          "name": "stdout"
        }
      ]
    },
    {
      "cell_type": "code",
      "metadata": {
        "colab": {
          "base_uri": "https://localhost:8080/"
        },
        "id": "9bb3KpvXXMYX",
        "outputId": "2e0a76cf-96e1-44f3-93ca-63dce195e5f8"
      },
      "source": [
        "roc_auc_score(y_test,y_pred9)"
      ],
      "execution_count": null,
      "outputs": [
        {
          "output_type": "execute_result",
          "data": {
            "text/plain": [
              "0.7431952509248183"
            ]
          },
          "metadata": {
            "tags": []
          },
          "execution_count": 289
        }
      ]
    },
    {
      "cell_type": "markdown",
      "metadata": {
        "id": "VBZd9qilXO5a"
      },
      "source": [
        "**Model 5= Adaboost Classifier**"
      ]
    },
    {
      "cell_type": "code",
      "metadata": {
        "id": "mV2OotfgXTRX"
      },
      "source": [
        "from sklearn.ensemble import AdaBoostClassifier\n",
        "aba1=AdaBoostClassifier(n_estimators=100)\n",
        "\n"
      ],
      "execution_count": null,
      "outputs": []
    },
    {
      "cell_type": "code",
      "metadata": {
        "colab": {
          "base_uri": "https://localhost:8080/"
        },
        "id": "y-2Ot-o8XTUb",
        "outputId": "d4ca66f1-b7f4-4be8-b081-c8906a6ae11a"
      },
      "source": [
        "aba1.fit(X_sample2,y_sample2)\n",
        "\n"
      ],
      "execution_count": null,
      "outputs": [
        {
          "output_type": "execute_result",
          "data": {
            "text/plain": [
              "AdaBoostClassifier(algorithm='SAMME.R', base_estimator=None, learning_rate=1.0,\n",
              "                   n_estimators=100, random_state=None)"
            ]
          },
          "metadata": {
            "tags": []
          },
          "execution_count": 291
        }
      ]
    },
    {
      "cell_type": "code",
      "metadata": {
        "colab": {
          "base_uri": "https://localhost:8080/"
        },
        "id": "Ngqp5dq2XTW8",
        "outputId": "3bdeaf5a-4569-4d30-c34a-5c77d8a67805"
      },
      "source": [
        "score=cross_val_score(aba1,X_sample2,y_sample2,cv=5)\n",
        "score\n"
      ],
      "execution_count": null,
      "outputs": [
        {
          "output_type": "execute_result",
          "data": {
            "text/plain": [
              "array([0.76915029, 0.76608624, 0.76339586, 0.76787983, 0.76674141])"
            ]
          },
          "metadata": {
            "tags": []
          },
          "execution_count": 292
        }
      ]
    },
    {
      "cell_type": "code",
      "metadata": {
        "colab": {
          "base_uri": "https://localhost:8080/",
          "height": 446
        },
        "id": "sGqO5gLsY5IC",
        "outputId": "514e5d7a-83df-4dde-ea9c-e3dcaae3d2b9"
      },
      "source": [
        "y_pred11=aba1.predict(X_test_ss)\n",
        "print(classification_report(y_test,y_pred11))\n",
        "mat11=confusion_matrix(y_test,y_pred11)\n",
        "sns.heatmap(mat11,square=True,annot=True,fmt=\"d\")\n"
      ],
      "execution_count": null,
      "outputs": [
        {
          "output_type": "stream",
          "text": [
            "              precision    recall  f1-score   support\n",
            "\n",
            "           0       0.99      0.81      0.89     14346\n",
            "           1       0.05      0.67      0.09       215\n",
            "\n",
            "    accuracy                           0.81     14561\n",
            "   macro avg       0.52      0.74      0.49     14561\n",
            "weighted avg       0.98      0.81      0.88     14561\n",
            "\n"
          ],
          "name": "stdout"
        },
        {
          "output_type": "execute_result",
          "data": {
            "text/plain": [
              "<matplotlib.axes._subplots.AxesSubplot at 0x7f94de1d6cd0>"
            ]
          },
          "metadata": {
            "tags": []
          },
          "execution_count": 293
        },
        {
          "output_type": "display_data",
          "data": {
            "image/png": "[encoded data removed]",
            "text/plain": [
              "<Figure size 432x288 with 2 Axes>"
            ]
          },
          "metadata": {
            "tags": [],
            "needs_background": "light"
          }
        }
      ]
    },
    {
      "cell_type": "markdown",
      "metadata": {
        "id": "fC5SECfR3Zqx"
      },
      "source": [
        "**From above fig we cn see our model accuracy with gimi index is 82%**"
      ]
    },
    {
      "cell_type": "markdown",
      "metadata": {
        "id": "OrFG2yxaYQz9"
      },
      "source": [
        "**roc_auc_score**"
      ]
    },
    {
      "cell_type": "code",
      "metadata": {
        "id": "RixuK6-UXTeE"
      },
      "source": [
        "scores=aba1.predict_proba(X_test_ss)\n",
        "scores=aba1.predict_proba(X_test_ss)"
      ],
      "execution_count": null,
      "outputs": []
    },
    {
      "cell_type": "code",
      "metadata": {
        "colab": {
          "base_uri": "https://localhost:8080/"
        },
        "id": "VUy2vY4jYYR5",
        "outputId": "876b498d-dc9a-469d-e88a-abc35af1d399"
      },
      "source": [
        "print(scores)"
      ],
      "execution_count": null,
      "outputs": [
        {
          "output_type": "stream",
          "text": [
            "[[0.50735607 0.49264393]\n",
            " [0.50528433 0.49471567]\n",
            " [0.49455375 0.50544625]\n",
            " ...\n",
            " [0.50002849 0.49997151]\n",
            " [0.50190542 0.49809458]\n",
            " [0.49492806 0.50507194]]\n"
          ],
          "name": "stdout"
        }
      ]
    },
    {
      "cell_type": "code",
      "metadata": {
        "colab": {
          "base_uri": "https://localhost:8080/"
        },
        "id": "RnAfgEg8YYUz",
        "outputId": "f3a0a197-3af3-4101-b742-cc063bc81c29"
      },
      "source": [
        "roc_auc_score(y_test,y_pred11)"
      ],
      "execution_count": null,
      "outputs": [
        {
          "output_type": "execute_result",
          "data": {
            "text/plain": [
              "0.7374096660928093"
            ]
          },
          "metadata": {
            "tags": []
          },
          "execution_count": 296
        }
      ]
    },
    {
      "cell_type": "markdown",
      "metadata": {
        "id": "AnZNTovdZNKp"
      },
      "source": [
        "**Model 6 =SVC**"
      ]
    },
    {
      "cell_type": "code",
      "metadata": {
        "id": "vr74rDxxZW-4"
      },
      "source": [
        "lsvc1=LinearSVC(random_state=1)"
      ],
      "execution_count": null,
      "outputs": []
    },
    {
      "cell_type": "code",
      "metadata": {
        "colab": {
          "base_uri": "https://localhost:8080/"
        },
        "id": "qsHEQKEeZXBG",
        "outputId": "3b9bef98-18b7-42eb-b0ab-e7b759b7fee3"
      },
      "source": [
        "lsvc1.fit(X_sample2,y_sample2)"
      ],
      "execution_count": null,
      "outputs": [
        {
          "output_type": "execute_result",
          "data": {
            "text/plain": [
              "LinearSVC(C=1.0, class_weight=None, dual=True, fit_intercept=True,\n",
              "          intercept_scaling=1, loss='squared_hinge', max_iter=1000,\n",
              "          multi_class='ovr', penalty='l2', random_state=1, tol=0.0001,\n",
              "          verbose=0)"
            ]
          },
          "metadata": {
            "tags": []
          },
          "execution_count": 298
        }
      ]
    },
    {
      "cell_type": "code",
      "metadata": {
        "id": "44MUWneiZfCi"
      },
      "source": [
        "score=cross_val_score(lsvc1,X_sample2,y_sample2,cv=5)"
      ],
      "execution_count": null,
      "outputs": []
    },
    {
      "cell_type": "code",
      "metadata": {
        "colab": {
          "base_uri": "https://localhost:8080/"
        },
        "id": "kO8pUyEnZfE9",
        "outputId": "2df69658-34cb-4cf2-82e9-aec3f8243f6d"
      },
      "source": [
        "score"
      ],
      "execution_count": null,
      "outputs": [
        {
          "output_type": "execute_result",
          "data": {
            "text/plain": [
              "array([0.74164861, 0.74022868, 0.74022868, 0.74336746, 0.74050822])"
            ]
          },
          "metadata": {
            "tags": []
          },
          "execution_count": 300
        }
      ]
    },
    {
      "cell_type": "code",
      "metadata": {
        "id": "TBuHJNwyZfH7"
      },
      "source": [
        "y_pred17=lsvc1.predict(X_test_ss)"
      ],
      "execution_count": null,
      "outputs": []
    },
    {
      "cell_type": "code",
      "metadata": {
        "colab": {
          "base_uri": "https://localhost:8080/"
        },
        "id": "4yCf-3QCZpMp",
        "outputId": "12298b8a-40f9-40cb-e2af-b303461d469a"
      },
      "source": [
        "print(classification_report(y_test,y_pred17))"
      ],
      "execution_count": null,
      "outputs": [
        {
          "output_type": "stream",
          "text": [
            "              precision    recall  f1-score   support\n",
            "\n",
            "           0       0.99      0.83      0.90     14346\n",
            "           1       0.05      0.67      0.10       215\n",
            "\n",
            "    accuracy                           0.83     14561\n",
            "   macro avg       0.52      0.75      0.50     14561\n",
            "weighted avg       0.98      0.83      0.89     14561\n",
            "\n"
          ],
          "name": "stdout"
        }
      ]
    },
    {
      "cell_type": "markdown",
      "metadata": {
        "id": "8dNEhEk63lbn"
      },
      "source": [
        "**From above fig we cn see our model accuracy with gimi index is 83%**"
      ]
    },
    {
      "cell_type": "code",
      "metadata": {
        "colab": {
          "base_uri": "https://localhost:8080/",
          "height": 283
        },
        "id": "QyrKCoA6ZpPT",
        "outputId": "0186f914-2b9c-49f9-9865-77b0c91557c1"
      },
      "source": [
        "mat17=confusion_matrix(y_test,y_pred17)\n",
        "sns.heatmap(mat17,square=True,annot=True,fmt='d')"
      ],
      "execution_count": null,
      "outputs": [
        {
          "output_type": "execute_result",
          "data": {
            "text/plain": [
              "<matplotlib.axes._subplots.AxesSubplot at 0x7f94d1691b90>"
            ]
          },
          "metadata": {
            "tags": []
          },
          "execution_count": 303
        },
        {
          "output_type": "display_data",
          "data": {
            "image/png": "[encoded data removed]",
            "text/plain": [
              "<Figure size 432x288 with 2 Axes>"
            ]
          },
          "metadata": {
            "tags": [],
            "needs_background": "light"
          }
        }
      ]
    },
    {
      "cell_type": "markdown",
      "metadata": {
        "id": "b8umZgH9Z1WD"
      },
      "source": [
        "**Soft Margin**"
      ]
    },
    {
      "cell_type": "code",
      "metadata": {
        "id": "8uewjJDoZ4np"
      },
      "source": [
        "lsv1=LinearSVC(C=0.5,random_state=1)"
      ],
      "execution_count": null,
      "outputs": []
    },
    {
      "cell_type": "code",
      "metadata": {
        "colab": {
          "base_uri": "https://localhost:8080/"
        },
        "id": "C9UU4z7tZ4qj",
        "outputId": "e3a13432-72fb-4da8-f2a5-29a8b47eb6b6"
      },
      "source": [
        "lsv1.fit(X_sample2,y_sample2)"
      ],
      "execution_count": null,
      "outputs": [
        {
          "output_type": "execute_result",
          "data": {
            "text/plain": [
              "LinearSVC(C=0.5, class_weight=None, dual=True, fit_intercept=True,\n",
              "          intercept_scaling=1, loss='squared_hinge', max_iter=1000,\n",
              "          multi_class='ovr', penalty='l2', random_state=1, tol=0.0001,\n",
              "          verbose=0)"
            ]
          },
          "metadata": {
            "tags": []
          },
          "execution_count": 305
        }
      ]
    },
    {
      "cell_type": "code",
      "metadata": {
        "id": "y-hrYmnPZ9ty"
      },
      "source": [
        "score=cross_val_score(lsv1,X_sample2,y_sample2,cv=5)"
      ],
      "execution_count": null,
      "outputs": []
    },
    {
      "cell_type": "code",
      "metadata": {
        "colab": {
          "base_uri": "https://localhost:8080/"
        },
        "id": "uEvd96HwZ9wB",
        "outputId": "a4879a3f-5282-4083-d57a-344bc76e61ad"
      },
      "source": [
        "score"
      ],
      "execution_count": null,
      "outputs": [
        {
          "output_type": "execute_result",
          "data": {
            "text/plain": [
              "array([0.74164861, 0.74022868, 0.74022868, 0.74336746, 0.74050822])"
            ]
          },
          "metadata": {
            "tags": []
          },
          "execution_count": 307
        }
      ]
    },
    {
      "cell_type": "code",
      "metadata": {
        "id": "lcdDZJaiaDJA"
      },
      "source": [
        "y_pred18=lsv1.predict(X_test_ss)"
      ],
      "execution_count": null,
      "outputs": []
    },
    {
      "cell_type": "code",
      "metadata": {
        "colab": {
          "base_uri": "https://localhost:8080/"
        },
        "id": "BJ2bZMZraFok",
        "outputId": "9e4cbc46-8a8b-4c52-b61c-05de71b00e52"
      },
      "source": [
        "print(classification_report(y_test,y_pred18))"
      ],
      "execution_count": null,
      "outputs": [
        {
          "output_type": "stream",
          "text": [
            "              precision    recall  f1-score   support\n",
            "\n",
            "           0       0.99      0.83      0.90     14346\n",
            "           1       0.05      0.67      0.10       215\n",
            "\n",
            "    accuracy                           0.83     14561\n",
            "   macro avg       0.52      0.75      0.50     14561\n",
            "weighted avg       0.98      0.83      0.89     14561\n",
            "\n"
          ],
          "name": "stdout"
        }
      ]
    },
    {
      "cell_type": "markdown",
      "metadata": {
        "id": "1wj08-Hi3pGr"
      },
      "source": [
        "**From above fig we cn see our model accuracy with gimi index is 83%**"
      ]
    },
    {
      "cell_type": "code",
      "metadata": {
        "id": "sU_Zmai8aNMS"
      },
      "source": [
        "mat18=confusion_matrix(y_test,y_pred18)"
      ],
      "execution_count": null,
      "outputs": []
    },
    {
      "cell_type": "code",
      "metadata": {
        "colab": {
          "base_uri": "https://localhost:8080/",
          "height": 283
        },
        "id": "OH7zV5bfaPgp",
        "outputId": "02b2a37e-f11a-446b-92ef-1f282dafe9aa"
      },
      "source": [
        "sns.heatmap(mat18,square=True,annot=True,fmt='d')"
      ],
      "execution_count": null,
      "outputs": [
        {
          "output_type": "execute_result",
          "data": {
            "text/plain": [
              "<matplotlib.axes._subplots.AxesSubplot at 0x7f94d0d52dd0>"
            ]
          },
          "metadata": {
            "tags": []
          },
          "execution_count": 311
        },
        {
          "output_type": "display_data",
          "data": {
            "image/png": "[encoded data removed]",
            "text/plain": [
              "<Figure size 432x288 with 2 Axes>"
            ]
          },
          "metadata": {
            "tags": [],
            "needs_background": "light"
          }
        }
      ]
    },
    {
      "cell_type": "markdown",
      "metadata": {
        "id": "U4SYzkYOaTqn"
      },
      "source": [
        "**Ensembling**"
      ]
    },
    {
      "cell_type": "markdown",
      "metadata": {
        "id": "3EwxpxT8aYpl"
      },
      "source": [
        "Hard voting"
      ]
    },
    {
      "cell_type": "code",
      "metadata": {
        "id": "lPScJbmMa3wI"
      },
      "source": [
        "from sklearn.ensemble import VotingClassifier"
      ],
      "execution_count": null,
      "outputs": []
    },
    {
      "cell_type": "code",
      "metadata": {
        "id": "i7QMTrINalky"
      },
      "source": [
        "model_list1 = [(\"lr1\",lr1),(\"dt1\",dt1),(\"dt3\",dt3),(\"rfc1\",rfc1),(\"gb1\",gb1),(\"aba1\",aba1),(\"lsvc1\",lsvc1)]"
      ],
      "execution_count": null,
      "outputs": []
    },
    {
      "cell_type": "code",
      "metadata": {
        "colab": {
          "base_uri": "https://localhost:8080/"
        },
        "id": "Dd-Pfn16bdoQ",
        "outputId": "36009b4c-3650-4b6f-8743-c6884929b5da"
      },
      "source": [
        "vc1=VotingClassifier(estimators=model_list1)\n",
        "vc1.fit(X_sample2,y_sample2)"
      ],
      "execution_count": null,
      "outputs": [
        {
          "output_type": "execute_result",
          "data": {
            "text/plain": [
              "VotingClassifier(estimators=[('lr1',\n",
              "                              LogisticRegression(C=1.0, class_weight=None,\n",
              "                                                 dual=False, fit_intercept=True,\n",
              "                                                 intercept_scaling=1,\n",
              "                                                 l1_ratio=None, max_iter=100,\n",
              "                                                 multi_class='auto',\n",
              "                                                 n_jobs=None, penalty='l2',\n",
              "                                                 random_state=None,\n",
              "                                                 solver='lbfgs', tol=0.0001,\n",
              "                                                 verbose=0, warm_start=False)),\n",
              "                             ('dt1',\n",
              "                              DecisionTreeClassifier(ccp_alpha=0.0,\n",
              "                                                     class_weight=None,\n",
              "                                                     criterion='gini...\n",
              "                              AdaBoostClassifier(algorithm='SAMME.R',\n",
              "                                                 base_estimator=None,\n",
              "                                                 learning_rate=1.0,\n",
              "                                                 n_estimators=100,\n",
              "                                                 random_state=None)),\n",
              "                             ('lsvc1',\n",
              "                              LinearSVC(C=1.0, class_weight=None, dual=True,\n",
              "                                        fit_intercept=True, intercept_scaling=1,\n",
              "                                        loss='squared_hinge', max_iter=1000,\n",
              "                                        multi_class='ovr', penalty='l2',\n",
              "                                        random_state=1, tol=0.0001,\n",
              "                                        verbose=0))],\n",
              "                 flatten_transform=True, n_jobs=None, voting='hard',\n",
              "                 weights=None)"
            ]
          },
          "metadata": {
            "tags": []
          },
          "execution_count": 314
        }
      ]
    },
    {
      "cell_type": "code",
      "metadata": {
        "id": "ntGkqSRealnw"
      },
      "source": [
        "vc3=VotingClassifier(estimators=model_list1)\n"
      ],
      "execution_count": null,
      "outputs": []
    },
    {
      "cell_type": "code",
      "metadata": {
        "colab": {
          "base_uri": "https://localhost:8080/"
        },
        "id": "OOGINEkdalqC",
        "outputId": "59bfa1ef-964e-4466-e47c-984a0dc1fe1a"
      },
      "source": [
        "vc3.fit(X_sample2,y_sample2)\n",
        "y_pred22=vc1.predict(X_test_ss)\n",
        "print(classification_report(y_test,y_pred22))\n"
      ],
      "execution_count": null,
      "outputs": [
        {
          "output_type": "stream",
          "text": [
            "              precision    recall  f1-score   support\n",
            "\n",
            "           0       0.99      0.85      0.92     14346\n",
            "           1       0.06      0.63      0.11       215\n",
            "\n",
            "    accuracy                           0.85     14561\n",
            "   macro avg       0.53      0.74      0.51     14561\n",
            "weighted avg       0.98      0.85      0.91     14561\n",
            "\n"
          ],
          "name": "stdout"
        }
      ]
    },
    {
      "cell_type": "markdown",
      "metadata": {
        "id": "aDI4_U42340v"
      },
      "source": [
        "**From above fig we cn see our model accuracy with gimi index is 85%**"
      ]
    },
    {
      "cell_type": "markdown",
      "metadata": {
        "id": "xQrpwt4gc2PM"
      },
      "source": [
        "**soft voting**"
      ]
    },
    {
      "cell_type": "code",
      "metadata": {
        "id": "X5RYd4M5alvs"
      },
      "source": [
        "vc4=VotingClassifier(estimators=model_list1,voting=\"soft\")"
      ],
      "execution_count": null,
      "outputs": []
    },
    {
      "cell_type": "code",
      "metadata": {
        "id": "jLTExA4WtM0j"
      },
      "source": [
        "vc4.fit(X_sample2,y_sample2)\n",
        "y_pred23=vc1.predict(X_test_ss)"
      ],
      "execution_count": null,
      "outputs": []
    },
    {
      "cell_type": "code",
      "metadata": {
        "colab": {
          "base_uri": "https://localhost:8080/"
        },
        "id": "gHP7-iepuDsK",
        "outputId": "20bbd4be-9774-4255-ed57-6c3964578d64"
      },
      "source": [
        "print(classification_report(y_test,y_pred23))"
      ],
      "execution_count": null,
      "outputs": [
        {
          "output_type": "stream",
          "text": [
            "              precision    recall  f1-score   support\n",
            "\n",
            "           0       0.99      0.85      0.92     14346\n",
            "           1       0.06      0.63      0.11       215\n",
            "\n",
            "    accuracy                           0.85     14561\n",
            "   macro avg       0.53      0.74      0.51     14561\n",
            "weighted avg       0.98      0.85      0.91     14561\n",
            "\n"
          ],
          "name": "stdout"
        }
      ]
    },
    {
      "cell_type": "markdown",
      "metadata": {
        "id": "QXutnMzL4Nyl"
      },
      "source": [
        "**From above fig we cn see our model accuracy with gimi index is 85%**"
      ]
    },
    {
      "cell_type": "code",
      "metadata": {
        "colab": {
          "base_uri": "https://localhost:8080/",
          "height": 283
        },
        "id": "42DIfHHBtnsH",
        "outputId": "2f25dbce-448c-451f-f006-ef6db7c15dd7"
      },
      "source": [
        "mat23=confusion_matrix(y_test,y_pred23)\n",
        "sns.heatmap(mat23,square=True,annot=True,fmt='d')"
      ],
      "execution_count": null,
      "outputs": [
        {
          "output_type": "execute_result",
          "data": {
            "text/plain": [
              "<matplotlib.axes._subplots.AxesSubplot at 0x7f94d3085850>"
            ]
          },
          "metadata": {
            "tags": []
          },
          "execution_count": 320
        },
        {
          "output_type": "display_data",
          "data": {
            "image/png": "[encoded data removed]",
            "text/plain": [
              "<Figure size 432x288 with 2 Axes>"
            ]
          },
          "metadata": {
            "tags": [],
            "needs_background": "light"
          }
        }
      ]
    },
    {
      "cell_type": "markdown",
      "metadata": {
        "id": "ba3xbXnq4T4V"
      },
      "source": [
        "**ConclusionIn**\n",
        "\n",
        "this project, we have used different ways of addressing the task with unbalanced data.Like Supervisedlearning LinearSVC, Adaboost, GradientBoosting ,DecisionTreeClassifier,Logistic Regression and RandomForest.As per their's result we conclude that Random forest is the best algorithm model since it's giving highaccuracy than other's. The highest accuracy is 95%"
      ]
    }
  ]
}